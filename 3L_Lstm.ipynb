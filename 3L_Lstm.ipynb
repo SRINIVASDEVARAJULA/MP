{
  "cells": [
    {
      "cell_type": "markdown",
      "metadata": {
        "id": "view-in-github",
        "colab_type": "text"
      },
      "source": [
        "<a href=\"https://colab.research.google.com/github/SRINIVASDEVARAJULA/MP/blob/main/3L_Lstm.ipynb\" target=\"_parent\"><img src=\"https://colab.research.google.com/assets/colab-badge.svg\" alt=\"Open In Colab\"/></a>"
      ]
    },
    {
      "cell_type": "code",
      "execution_count": null,
      "metadata": {
        "id": "Ixx8yjyPc3q7"
      },
      "outputs": [],
      "source": [
        "import numpy as np\n",
        "import pandas as pd\n",
        "import matplotlib.pyplot as plt\n",
        "%matplotlib inline\n",
        "from sklearn.preprocessing import MinMaxScaler\n",
        "import math \n",
        "from tensorflow.keras.models import Sequential\n",
        "from tensorflow.keras.layers import Dense\n",
        "from tensorflow.keras.layers import LSTM"
      ]
    },
    {
      "cell_type": "code",
      "execution_count": null,
      "metadata": {
        "id": "y_oezUv8c8MJ"
      },
      "outputs": [],
      "source": [
        "import tensorflow as tf\n",
        "from tensorflow import keras"
      ]
    },
    {
      "cell_type": "code",
      "execution_count": null,
      "metadata": {
        "colab": {
          "base_uri": "https://localhost:8080/"
        },
        "id": "oUBN_opVdAaP",
        "outputId": "00f68e7b-2637-4ccc-c2d3-9629d944abee"
      },
      "outputs": [
        {
          "output_type": "stream",
          "name": "stdout",
          "text": [
            "2.8.0\n"
          ]
        }
      ],
      "source": [
        "print(tf.__version__)"
      ]
    },
    {
      "cell_type": "code",
      "execution_count": null,
      "metadata": {
        "id": "bde2CkpTdDej"
      },
      "outputs": [],
      "source": [
        "np.random.seed(19)"
      ]
    },
    {
      "cell_type": "code",
      "execution_count": null,
      "metadata": {
        "id": "TMPV6WNcdLLx"
      },
      "outputs": [],
      "source": [
        "df=pd.read_csv(\"/content/combinedSample_GoldDs.csv\")"
      ]
    },
    {
      "cell_type": "code",
      "execution_count": null,
      "metadata": {
        "colab": {
          "base_uri": "https://localhost:8080/",
          "height": 206
        },
        "id": "hQCVtVRxzx90",
        "outputId": "f1134b90-688d-4559-ded0-57c4daf1f9ed"
      },
      "outputs": [
        {
          "output_type": "execute_result",
          "data": {
            "text/plain": [
              "                         Local time  Open_Bid  High_Bid   Low_Bid  Close_Bid  \\\n",
              "0  14.03.2021 22:00:00.000 GMT-0000  1727.188  1729.078  1727.068   1728.258   \n",
              "1  14.03.2021 22:01:00.000 GMT-0000  1728.425  1729.821  1728.415   1729.424   \n",
              "2  14.03.2021 22:02:00.000 GMT-0000  1729.468  1730.298  1729.404   1730.118   \n",
              "3  14.03.2021 22:03:00.000 GMT-0000  1730.118  1730.304  1728.971   1729.141   \n",
              "4  14.03.2021 22:04:00.000 GMT-0000  1729.141  1729.431  1728.318   1728.708   \n",
              "\n",
              "   Volume_Bid  Open_Ask  High_Ask   Low_Ask  Close_Ask  Volume_Ask  \n",
              "0  64608.9986  1727.662  1730.222  1727.646   1729.522  61275.0016  \n",
              "1  71534.9987  1729.522  1730.421  1729.442   1730.405  80849.9977  \n",
              "2  38320.0012  1730.405  1730.611  1730.275   1730.545  59829.9988  \n",
              "3  26130.0001  1730.535  1730.625  1729.425   1729.765  36355.0000  \n",
              "4  30500.0003  1729.676  1729.862  1728.835   1729.219  49090.0017  "
            ],
            "text/html": [
              "\n",
              "  <div id=\"df-c940d472-895b-4907-abcf-ccbd8dc91ede\">\n",
              "    <div class=\"colab-df-container\">\n",
              "      <div>\n",
              "<style scoped>\n",
              "    .dataframe tbody tr th:only-of-type {\n",
              "        vertical-align: middle;\n",
              "    }\n",
              "\n",
              "    .dataframe tbody tr th {\n",
              "        vertical-align: top;\n",
              "    }\n",
              "\n",
              "    .dataframe thead th {\n",
              "        text-align: right;\n",
              "    }\n",
              "</style>\n",
              "<table border=\"1\" class=\"dataframe\">\n",
              "  <thead>\n",
              "    <tr style=\"text-align: right;\">\n",
              "      <th></th>\n",
              "      <th>Local time</th>\n",
              "      <th>Open_Bid</th>\n",
              "      <th>High_Bid</th>\n",
              "      <th>Low_Bid</th>\n",
              "      <th>Close_Bid</th>\n",
              "      <th>Volume_Bid</th>\n",
              "      <th>Open_Ask</th>\n",
              "      <th>High_Ask</th>\n",
              "      <th>Low_Ask</th>\n",
              "      <th>Close_Ask</th>\n",
              "      <th>Volume_Ask</th>\n",
              "    </tr>\n",
              "  </thead>\n",
              "  <tbody>\n",
              "    <tr>\n",
              "      <th>0</th>\n",
              "      <td>14.03.2021 22:00:00.000 GMT-0000</td>\n",
              "      <td>1727.188</td>\n",
              "      <td>1729.078</td>\n",
              "      <td>1727.068</td>\n",
              "      <td>1728.258</td>\n",
              "      <td>64608.9986</td>\n",
              "      <td>1727.662</td>\n",
              "      <td>1730.222</td>\n",
              "      <td>1727.646</td>\n",
              "      <td>1729.522</td>\n",
              "      <td>61275.0016</td>\n",
              "    </tr>\n",
              "    <tr>\n",
              "      <th>1</th>\n",
              "      <td>14.03.2021 22:01:00.000 GMT-0000</td>\n",
              "      <td>1728.425</td>\n",
              "      <td>1729.821</td>\n",
              "      <td>1728.415</td>\n",
              "      <td>1729.424</td>\n",
              "      <td>71534.9987</td>\n",
              "      <td>1729.522</td>\n",
              "      <td>1730.421</td>\n",
              "      <td>1729.442</td>\n",
              "      <td>1730.405</td>\n",
              "      <td>80849.9977</td>\n",
              "    </tr>\n",
              "    <tr>\n",
              "      <th>2</th>\n",
              "      <td>14.03.2021 22:02:00.000 GMT-0000</td>\n",
              "      <td>1729.468</td>\n",
              "      <td>1730.298</td>\n",
              "      <td>1729.404</td>\n",
              "      <td>1730.118</td>\n",
              "      <td>38320.0012</td>\n",
              "      <td>1730.405</td>\n",
              "      <td>1730.611</td>\n",
              "      <td>1730.275</td>\n",
              "      <td>1730.545</td>\n",
              "      <td>59829.9988</td>\n",
              "    </tr>\n",
              "    <tr>\n",
              "      <th>3</th>\n",
              "      <td>14.03.2021 22:03:00.000 GMT-0000</td>\n",
              "      <td>1730.118</td>\n",
              "      <td>1730.304</td>\n",
              "      <td>1728.971</td>\n",
              "      <td>1729.141</td>\n",
              "      <td>26130.0001</td>\n",
              "      <td>1730.535</td>\n",
              "      <td>1730.625</td>\n",
              "      <td>1729.425</td>\n",
              "      <td>1729.765</td>\n",
              "      <td>36355.0000</td>\n",
              "    </tr>\n",
              "    <tr>\n",
              "      <th>4</th>\n",
              "      <td>14.03.2021 22:04:00.000 GMT-0000</td>\n",
              "      <td>1729.141</td>\n",
              "      <td>1729.431</td>\n",
              "      <td>1728.318</td>\n",
              "      <td>1728.708</td>\n",
              "      <td>30500.0003</td>\n",
              "      <td>1729.676</td>\n",
              "      <td>1729.862</td>\n",
              "      <td>1728.835</td>\n",
              "      <td>1729.219</td>\n",
              "      <td>49090.0017</td>\n",
              "    </tr>\n",
              "  </tbody>\n",
              "</table>\n",
              "</div>\n",
              "      <button class=\"colab-df-convert\" onclick=\"convertToInteractive('df-c940d472-895b-4907-abcf-ccbd8dc91ede')\"\n",
              "              title=\"Convert this dataframe to an interactive table.\"\n",
              "              style=\"display:none;\">\n",
              "        \n",
              "  <svg xmlns=\"http://www.w3.org/2000/svg\" height=\"24px\"viewBox=\"0 0 24 24\"\n",
              "       width=\"24px\">\n",
              "    <path d=\"M0 0h24v24H0V0z\" fill=\"none\"/>\n",
              "    <path d=\"M18.56 5.44l.94 2.06.94-2.06 2.06-.94-2.06-.94-.94-2.06-.94 2.06-2.06.94zm-11 1L8.5 8.5l.94-2.06 2.06-.94-2.06-.94L8.5 2.5l-.94 2.06-2.06.94zm10 10l.94 2.06.94-2.06 2.06-.94-2.06-.94-.94-2.06-.94 2.06-2.06.94z\"/><path d=\"M17.41 7.96l-1.37-1.37c-.4-.4-.92-.59-1.43-.59-.52 0-1.04.2-1.43.59L10.3 9.45l-7.72 7.72c-.78.78-.78 2.05 0 2.83L4 21.41c.39.39.9.59 1.41.59.51 0 1.02-.2 1.41-.59l7.78-7.78 2.81-2.81c.8-.78.8-2.07 0-2.86zM5.41 20L4 18.59l7.72-7.72 1.47 1.35L5.41 20z\"/>\n",
              "  </svg>\n",
              "      </button>\n",
              "      \n",
              "  <style>\n",
              "    .colab-df-container {\n",
              "      display:flex;\n",
              "      flex-wrap:wrap;\n",
              "      gap: 12px;\n",
              "    }\n",
              "\n",
              "    .colab-df-convert {\n",
              "      background-color: #E8F0FE;\n",
              "      border: none;\n",
              "      border-radius: 50%;\n",
              "      cursor: pointer;\n",
              "      display: none;\n",
              "      fill: #1967D2;\n",
              "      height: 32px;\n",
              "      padding: 0 0 0 0;\n",
              "      width: 32px;\n",
              "    }\n",
              "\n",
              "    .colab-df-convert:hover {\n",
              "      background-color: #E2EBFA;\n",
              "      box-shadow: 0px 1px 2px rgba(60, 64, 67, 0.3), 0px 1px 3px 1px rgba(60, 64, 67, 0.15);\n",
              "      fill: #174EA6;\n",
              "    }\n",
              "\n",
              "    [theme=dark] .colab-df-convert {\n",
              "      background-color: #3B4455;\n",
              "      fill: #D2E3FC;\n",
              "    }\n",
              "\n",
              "    [theme=dark] .colab-df-convert:hover {\n",
              "      background-color: #434B5C;\n",
              "      box-shadow: 0px 1px 3px 1px rgba(0, 0, 0, 0.15);\n",
              "      filter: drop-shadow(0px 1px 2px rgba(0, 0, 0, 0.3));\n",
              "      fill: #FFFFFF;\n",
              "    }\n",
              "  </style>\n",
              "\n",
              "      <script>\n",
              "        const buttonEl =\n",
              "          document.querySelector('#df-c940d472-895b-4907-abcf-ccbd8dc91ede button.colab-df-convert');\n",
              "        buttonEl.style.display =\n",
              "          google.colab.kernel.accessAllowed ? 'block' : 'none';\n",
              "\n",
              "        async function convertToInteractive(key) {\n",
              "          const element = document.querySelector('#df-c940d472-895b-4907-abcf-ccbd8dc91ede');\n",
              "          const dataTable =\n",
              "            await google.colab.kernel.invokeFunction('convertToInteractive',\n",
              "                                                     [key], {});\n",
              "          if (!dataTable) return;\n",
              "\n",
              "          const docLinkHtml = 'Like what you see? Visit the ' +\n",
              "            '<a target=\"_blank\" href=https://colab.research.google.com/notebooks/data_table.ipynb>data table notebook</a>'\n",
              "            + ' to learn more about interactive tables.';\n",
              "          element.innerHTML = '';\n",
              "          dataTable['output_type'] = 'display_data';\n",
              "          await google.colab.output.renderOutput(dataTable, element);\n",
              "          const docLink = document.createElement('div');\n",
              "          docLink.innerHTML = docLinkHtml;\n",
              "          element.appendChild(docLink);\n",
              "        }\n",
              "      </script>\n",
              "    </div>\n",
              "  </div>\n",
              "  "
            ]
          },
          "metadata": {},
          "execution_count": 7
        }
      ],
      "source": [
        "df.head()"
      ]
    },
    {
      "cell_type": "code",
      "execution_count": null,
      "metadata": {
        "colab": {
          "base_uri": "https://localhost:8080/"
        },
        "id": "sXvlk3LAEosi",
        "outputId": "870b445e-d0aa-4b2d-e171-c30163d78ada"
      },
      "outputs": [
        {
          "output_type": "execute_result",
          "data": {
            "text/plain": [
              "0         14.03.2021 22:00:00.00\n",
              "1         14.03.2021 22:01:00.00\n",
              "2         14.03.2021 22:02:00.00\n",
              "3         14.03.2021 22:03:00.00\n",
              "4         14.03.2021 22:04:00.00\n",
              "                   ...          \n",
              "371274    11.03.2022 21:55:00.00\n",
              "371275    11.03.2022 21:56:00.00\n",
              "371276    11.03.2022 21:57:00.00\n",
              "371277    11.03.2022 21:58:00.00\n",
              "371278    11.03.2022 21:59:00.00\n",
              "Name: Local time, Length: 371279, dtype: object"
            ]
          },
          "metadata": {},
          "execution_count": 8
        }
      ],
      "source": [
        "df['Local time']=df['Local time'].str[0:22]\n",
        "df['Local time']"
      ]
    },
    {
      "cell_type": "code",
      "execution_count": null,
      "metadata": {
        "id": "7sp2eSVhBvMF"
      },
      "outputs": [],
      "source": [
        "df[\"Open\"]=(df[\"Open_Bid\"]+df[\"Open_Ask\"])/2\n",
        "df[\"High\"]=(df[\"High_Bid\"]+df[\"High_Ask\"])/2\n",
        "df[\"Low\"]=(df[\"Low_Bid\"]+df[\"Low_Ask\"])/2\n",
        "df[\"Close\"]=(df[\"Close_Bid\"]+df[\"Close_Ask\"])/2"
      ]
    },
    {
      "cell_type": "code",
      "execution_count": null,
      "metadata": {
        "colab": {
          "base_uri": "https://localhost:8080/"
        },
        "id": "TVUOw8POqH1D",
        "outputId": "22883b78-bbc1-46b7-b449-deb1e66fabf5"
      },
      "outputs": [
        {
          "output_type": "execute_result",
          "data": {
            "text/plain": [
              "(371279, 15)"
            ]
          },
          "metadata": {},
          "execution_count": 10
        }
      ],
      "source": [
        "df.shape"
      ]
    },
    {
      "cell_type": "code",
      "source": [
        "df=df[:3000]\n",
        "df.shape"
      ],
      "metadata": {
        "colab": {
          "base_uri": "https://localhost:8080/"
        },
        "id": "oi1RN4sIEsOn",
        "outputId": "713145f9-b512-4c00-e40a-1e03f07cf438"
      },
      "execution_count": null,
      "outputs": [
        {
          "output_type": "execute_result",
          "data": {
            "text/plain": [
              "(3000, 15)"
            ]
          },
          "metadata": {},
          "execution_count": 58
        }
      ]
    },
    {
      "cell_type": "code",
      "execution_count": null,
      "metadata": {
        "colab": {
          "base_uri": "https://localhost:8080/",
          "height": 336
        },
        "id": "ZTcmpmqrCDMO",
        "outputId": "b1d315a2-8e73-41de-8760-96eecb1c7466"
      },
      "outputs": [
        {
          "output_type": "execute_result",
          "data": {
            "text/plain": [
              "               Local time  Open_Bid  High_Bid   Low_Bid  Close_Bid  \\\n",
              "0  14.03.2021 22:00:00.00  1727.188  1729.078  1727.068   1728.258   \n",
              "1  14.03.2021 22:01:00.00  1728.425  1729.821  1728.415   1729.424   \n",
              "2  14.03.2021 22:02:00.00  1729.468  1730.298  1729.404   1730.118   \n",
              "3  14.03.2021 22:03:00.00  1730.118  1730.304  1728.971   1729.141   \n",
              "4  14.03.2021 22:04:00.00  1729.141  1729.431  1728.318   1728.708   \n",
              "\n",
              "   Volume_Bid  Open_Ask  High_Ask   Low_Ask  Close_Ask  Volume_Ask       Open  \\\n",
              "0  64608.9986  1727.662  1730.222  1727.646   1729.522  61275.0016  1727.4250   \n",
              "1  71534.9987  1729.522  1730.421  1729.442   1730.405  80849.9977  1728.9735   \n",
              "2  38320.0012  1730.405  1730.611  1730.275   1730.545  59829.9988  1729.9365   \n",
              "3  26130.0001  1730.535  1730.625  1729.425   1729.765  36355.0000  1730.3265   \n",
              "4  30500.0003  1729.676  1729.862  1728.835   1729.219  49090.0017  1729.4085   \n",
              "\n",
              "        High        Low      Close  \n",
              "0  1729.6500  1727.3570  1728.8900  \n",
              "1  1730.1210  1728.9285  1729.9145  \n",
              "2  1730.4545  1729.8395  1730.3315  \n",
              "3  1730.4645  1729.1980  1729.4530  \n",
              "4  1729.6465  1728.5765  1728.9635  "
            ],
            "text/html": [
              "\n",
              "  <div id=\"df-978ccdf8-113a-450e-905d-c7b9f453f740\">\n",
              "    <div class=\"colab-df-container\">\n",
              "      <div>\n",
              "<style scoped>\n",
              "    .dataframe tbody tr th:only-of-type {\n",
              "        vertical-align: middle;\n",
              "    }\n",
              "\n",
              "    .dataframe tbody tr th {\n",
              "        vertical-align: top;\n",
              "    }\n",
              "\n",
              "    .dataframe thead th {\n",
              "        text-align: right;\n",
              "    }\n",
              "</style>\n",
              "<table border=\"1\" class=\"dataframe\">\n",
              "  <thead>\n",
              "    <tr style=\"text-align: right;\">\n",
              "      <th></th>\n",
              "      <th>Local time</th>\n",
              "      <th>Open_Bid</th>\n",
              "      <th>High_Bid</th>\n",
              "      <th>Low_Bid</th>\n",
              "      <th>Close_Bid</th>\n",
              "      <th>Volume_Bid</th>\n",
              "      <th>Open_Ask</th>\n",
              "      <th>High_Ask</th>\n",
              "      <th>Low_Ask</th>\n",
              "      <th>Close_Ask</th>\n",
              "      <th>Volume_Ask</th>\n",
              "      <th>Open</th>\n",
              "      <th>High</th>\n",
              "      <th>Low</th>\n",
              "      <th>Close</th>\n",
              "    </tr>\n",
              "  </thead>\n",
              "  <tbody>\n",
              "    <tr>\n",
              "      <th>0</th>\n",
              "      <td>14.03.2021 22:00:00.00</td>\n",
              "      <td>1727.188</td>\n",
              "      <td>1729.078</td>\n",
              "      <td>1727.068</td>\n",
              "      <td>1728.258</td>\n",
              "      <td>64608.9986</td>\n",
              "      <td>1727.662</td>\n",
              "      <td>1730.222</td>\n",
              "      <td>1727.646</td>\n",
              "      <td>1729.522</td>\n",
              "      <td>61275.0016</td>\n",
              "      <td>1727.4250</td>\n",
              "      <td>1729.6500</td>\n",
              "      <td>1727.3570</td>\n",
              "      <td>1728.8900</td>\n",
              "    </tr>\n",
              "    <tr>\n",
              "      <th>1</th>\n",
              "      <td>14.03.2021 22:01:00.00</td>\n",
              "      <td>1728.425</td>\n",
              "      <td>1729.821</td>\n",
              "      <td>1728.415</td>\n",
              "      <td>1729.424</td>\n",
              "      <td>71534.9987</td>\n",
              "      <td>1729.522</td>\n",
              "      <td>1730.421</td>\n",
              "      <td>1729.442</td>\n",
              "      <td>1730.405</td>\n",
              "      <td>80849.9977</td>\n",
              "      <td>1728.9735</td>\n",
              "      <td>1730.1210</td>\n",
              "      <td>1728.9285</td>\n",
              "      <td>1729.9145</td>\n",
              "    </tr>\n",
              "    <tr>\n",
              "      <th>2</th>\n",
              "      <td>14.03.2021 22:02:00.00</td>\n",
              "      <td>1729.468</td>\n",
              "      <td>1730.298</td>\n",
              "      <td>1729.404</td>\n",
              "      <td>1730.118</td>\n",
              "      <td>38320.0012</td>\n",
              "      <td>1730.405</td>\n",
              "      <td>1730.611</td>\n",
              "      <td>1730.275</td>\n",
              "      <td>1730.545</td>\n",
              "      <td>59829.9988</td>\n",
              "      <td>1729.9365</td>\n",
              "      <td>1730.4545</td>\n",
              "      <td>1729.8395</td>\n",
              "      <td>1730.3315</td>\n",
              "    </tr>\n",
              "    <tr>\n",
              "      <th>3</th>\n",
              "      <td>14.03.2021 22:03:00.00</td>\n",
              "      <td>1730.118</td>\n",
              "      <td>1730.304</td>\n",
              "      <td>1728.971</td>\n",
              "      <td>1729.141</td>\n",
              "      <td>26130.0001</td>\n",
              "      <td>1730.535</td>\n",
              "      <td>1730.625</td>\n",
              "      <td>1729.425</td>\n",
              "      <td>1729.765</td>\n",
              "      <td>36355.0000</td>\n",
              "      <td>1730.3265</td>\n",
              "      <td>1730.4645</td>\n",
              "      <td>1729.1980</td>\n",
              "      <td>1729.4530</td>\n",
              "    </tr>\n",
              "    <tr>\n",
              "      <th>4</th>\n",
              "      <td>14.03.2021 22:04:00.00</td>\n",
              "      <td>1729.141</td>\n",
              "      <td>1729.431</td>\n",
              "      <td>1728.318</td>\n",
              "      <td>1728.708</td>\n",
              "      <td>30500.0003</td>\n",
              "      <td>1729.676</td>\n",
              "      <td>1729.862</td>\n",
              "      <td>1728.835</td>\n",
              "      <td>1729.219</td>\n",
              "      <td>49090.0017</td>\n",
              "      <td>1729.4085</td>\n",
              "      <td>1729.6465</td>\n",
              "      <td>1728.5765</td>\n",
              "      <td>1728.9635</td>\n",
              "    </tr>\n",
              "  </tbody>\n",
              "</table>\n",
              "</div>\n",
              "      <button class=\"colab-df-convert\" onclick=\"convertToInteractive('df-978ccdf8-113a-450e-905d-c7b9f453f740')\"\n",
              "              title=\"Convert this dataframe to an interactive table.\"\n",
              "              style=\"display:none;\">\n",
              "        \n",
              "  <svg xmlns=\"http://www.w3.org/2000/svg\" height=\"24px\"viewBox=\"0 0 24 24\"\n",
              "       width=\"24px\">\n",
              "    <path d=\"M0 0h24v24H0V0z\" fill=\"none\"/>\n",
              "    <path d=\"M18.56 5.44l.94 2.06.94-2.06 2.06-.94-2.06-.94-.94-2.06-.94 2.06-2.06.94zm-11 1L8.5 8.5l.94-2.06 2.06-.94-2.06-.94L8.5 2.5l-.94 2.06-2.06.94zm10 10l.94 2.06.94-2.06 2.06-.94-2.06-.94-.94-2.06-.94 2.06-2.06.94z\"/><path d=\"M17.41 7.96l-1.37-1.37c-.4-.4-.92-.59-1.43-.59-.52 0-1.04.2-1.43.59L10.3 9.45l-7.72 7.72c-.78.78-.78 2.05 0 2.83L4 21.41c.39.39.9.59 1.41.59.51 0 1.02-.2 1.41-.59l7.78-7.78 2.81-2.81c.8-.78.8-2.07 0-2.86zM5.41 20L4 18.59l7.72-7.72 1.47 1.35L5.41 20z\"/>\n",
              "  </svg>\n",
              "      </button>\n",
              "      \n",
              "  <style>\n",
              "    .colab-df-container {\n",
              "      display:flex;\n",
              "      flex-wrap:wrap;\n",
              "      gap: 12px;\n",
              "    }\n",
              "\n",
              "    .colab-df-convert {\n",
              "      background-color: #E8F0FE;\n",
              "      border: none;\n",
              "      border-radius: 50%;\n",
              "      cursor: pointer;\n",
              "      display: none;\n",
              "      fill: #1967D2;\n",
              "      height: 32px;\n",
              "      padding: 0 0 0 0;\n",
              "      width: 32px;\n",
              "    }\n",
              "\n",
              "    .colab-df-convert:hover {\n",
              "      background-color: #E2EBFA;\n",
              "      box-shadow: 0px 1px 2px rgba(60, 64, 67, 0.3), 0px 1px 3px 1px rgba(60, 64, 67, 0.15);\n",
              "      fill: #174EA6;\n",
              "    }\n",
              "\n",
              "    [theme=dark] .colab-df-convert {\n",
              "      background-color: #3B4455;\n",
              "      fill: #D2E3FC;\n",
              "    }\n",
              "\n",
              "    [theme=dark] .colab-df-convert:hover {\n",
              "      background-color: #434B5C;\n",
              "      box-shadow: 0px 1px 3px 1px rgba(0, 0, 0, 0.15);\n",
              "      filter: drop-shadow(0px 1px 2px rgba(0, 0, 0, 0.3));\n",
              "      fill: #FFFFFF;\n",
              "    }\n",
              "  </style>\n",
              "\n",
              "      <script>\n",
              "        const buttonEl =\n",
              "          document.querySelector('#df-978ccdf8-113a-450e-905d-c7b9f453f740 button.colab-df-convert');\n",
              "        buttonEl.style.display =\n",
              "          google.colab.kernel.accessAllowed ? 'block' : 'none';\n",
              "\n",
              "        async function convertToInteractive(key) {\n",
              "          const element = document.querySelector('#df-978ccdf8-113a-450e-905d-c7b9f453f740');\n",
              "          const dataTable =\n",
              "            await google.colab.kernel.invokeFunction('convertToInteractive',\n",
              "                                                     [key], {});\n",
              "          if (!dataTable) return;\n",
              "\n",
              "          const docLinkHtml = 'Like what you see? Visit the ' +\n",
              "            '<a target=\"_blank\" href=https://colab.research.google.com/notebooks/data_table.ipynb>data table notebook</a>'\n",
              "            + ' to learn more about interactive tables.';\n",
              "          element.innerHTML = '';\n",
              "          dataTable['output_type'] = 'display_data';\n",
              "          await google.colab.output.renderOutput(dataTable, element);\n",
              "          const docLink = document.createElement('div');\n",
              "          docLink.innerHTML = docLinkHtml;\n",
              "          element.appendChild(docLink);\n",
              "        }\n",
              "      </script>\n",
              "    </div>\n",
              "  </div>\n",
              "  "
            ]
          },
          "metadata": {},
          "execution_count": 60
        }
      ],
      "source": [
        "\n",
        "df.head()"
      ]
    },
    {
      "cell_type": "code",
      "execution_count": null,
      "metadata": {
        "id": "RNEe8aeZCE0o"
      },
      "outputs": [],
      "source": [
        "data=df.drop(['Local time','Open_Bid','High_Bid','Low_Bid','Close_Bid','Open_Ask','High_Ask','Low_Ask','Close_Ask'],axis=1)"
      ]
    },
    {
      "cell_type": "code",
      "source": [
        "data=data.drop(['Volume_Bid','Volume_Ask'],axis=1)"
      ],
      "metadata": {
        "id": "Fv9kk65H_29R"
      },
      "execution_count": null,
      "outputs": []
    },
    {
      "cell_type": "code",
      "execution_count": null,
      "metadata": {
        "colab": {
          "base_uri": "https://localhost:8080/",
          "height": 206
        },
        "id": "7ORtyQoEC9LG",
        "outputId": "30653972-5c75-483e-9fbe-1e06ae8849f5"
      },
      "outputs": [
        {
          "output_type": "execute_result",
          "data": {
            "text/plain": [
              "        Open       High        Low      Close\n",
              "0  1727.4250  1729.6500  1727.3570  1728.8900\n",
              "1  1728.9735  1730.1210  1728.9285  1729.9145\n",
              "2  1729.9365  1730.4545  1729.8395  1730.3315\n",
              "3  1730.3265  1730.4645  1729.1980  1729.4530\n",
              "4  1729.4085  1729.6465  1728.5765  1728.9635"
            ],
            "text/html": [
              "\n",
              "  <div id=\"df-cb66a77e-332f-43c3-99e6-6a5c32e6c71d\">\n",
              "    <div class=\"colab-df-container\">\n",
              "      <div>\n",
              "<style scoped>\n",
              "    .dataframe tbody tr th:only-of-type {\n",
              "        vertical-align: middle;\n",
              "    }\n",
              "\n",
              "    .dataframe tbody tr th {\n",
              "        vertical-align: top;\n",
              "    }\n",
              "\n",
              "    .dataframe thead th {\n",
              "        text-align: right;\n",
              "    }\n",
              "</style>\n",
              "<table border=\"1\" class=\"dataframe\">\n",
              "  <thead>\n",
              "    <tr style=\"text-align: right;\">\n",
              "      <th></th>\n",
              "      <th>Open</th>\n",
              "      <th>High</th>\n",
              "      <th>Low</th>\n",
              "      <th>Close</th>\n",
              "    </tr>\n",
              "  </thead>\n",
              "  <tbody>\n",
              "    <tr>\n",
              "      <th>0</th>\n",
              "      <td>1727.4250</td>\n",
              "      <td>1729.6500</td>\n",
              "      <td>1727.3570</td>\n",
              "      <td>1728.8900</td>\n",
              "    </tr>\n",
              "    <tr>\n",
              "      <th>1</th>\n",
              "      <td>1728.9735</td>\n",
              "      <td>1730.1210</td>\n",
              "      <td>1728.9285</td>\n",
              "      <td>1729.9145</td>\n",
              "    </tr>\n",
              "    <tr>\n",
              "      <th>2</th>\n",
              "      <td>1729.9365</td>\n",
              "      <td>1730.4545</td>\n",
              "      <td>1729.8395</td>\n",
              "      <td>1730.3315</td>\n",
              "    </tr>\n",
              "    <tr>\n",
              "      <th>3</th>\n",
              "      <td>1730.3265</td>\n",
              "      <td>1730.4645</td>\n",
              "      <td>1729.1980</td>\n",
              "      <td>1729.4530</td>\n",
              "    </tr>\n",
              "    <tr>\n",
              "      <th>4</th>\n",
              "      <td>1729.4085</td>\n",
              "      <td>1729.6465</td>\n",
              "      <td>1728.5765</td>\n",
              "      <td>1728.9635</td>\n",
              "    </tr>\n",
              "  </tbody>\n",
              "</table>\n",
              "</div>\n",
              "      <button class=\"colab-df-convert\" onclick=\"convertToInteractive('df-cb66a77e-332f-43c3-99e6-6a5c32e6c71d')\"\n",
              "              title=\"Convert this dataframe to an interactive table.\"\n",
              "              style=\"display:none;\">\n",
              "        \n",
              "  <svg xmlns=\"http://www.w3.org/2000/svg\" height=\"24px\"viewBox=\"0 0 24 24\"\n",
              "       width=\"24px\">\n",
              "    <path d=\"M0 0h24v24H0V0z\" fill=\"none\"/>\n",
              "    <path d=\"M18.56 5.44l.94 2.06.94-2.06 2.06-.94-2.06-.94-.94-2.06-.94 2.06-2.06.94zm-11 1L8.5 8.5l.94-2.06 2.06-.94-2.06-.94L8.5 2.5l-.94 2.06-2.06.94zm10 10l.94 2.06.94-2.06 2.06-.94-2.06-.94-.94-2.06-.94 2.06-2.06.94z\"/><path d=\"M17.41 7.96l-1.37-1.37c-.4-.4-.92-.59-1.43-.59-.52 0-1.04.2-1.43.59L10.3 9.45l-7.72 7.72c-.78.78-.78 2.05 0 2.83L4 21.41c.39.39.9.59 1.41.59.51 0 1.02-.2 1.41-.59l7.78-7.78 2.81-2.81c.8-.78.8-2.07 0-2.86zM5.41 20L4 18.59l7.72-7.72 1.47 1.35L5.41 20z\"/>\n",
              "  </svg>\n",
              "      </button>\n",
              "      \n",
              "  <style>\n",
              "    .colab-df-container {\n",
              "      display:flex;\n",
              "      flex-wrap:wrap;\n",
              "      gap: 12px;\n",
              "    }\n",
              "\n",
              "    .colab-df-convert {\n",
              "      background-color: #E8F0FE;\n",
              "      border: none;\n",
              "      border-radius: 50%;\n",
              "      cursor: pointer;\n",
              "      display: none;\n",
              "      fill: #1967D2;\n",
              "      height: 32px;\n",
              "      padding: 0 0 0 0;\n",
              "      width: 32px;\n",
              "    }\n",
              "\n",
              "    .colab-df-convert:hover {\n",
              "      background-color: #E2EBFA;\n",
              "      box-shadow: 0px 1px 2px rgba(60, 64, 67, 0.3), 0px 1px 3px 1px rgba(60, 64, 67, 0.15);\n",
              "      fill: #174EA6;\n",
              "    }\n",
              "\n",
              "    [theme=dark] .colab-df-convert {\n",
              "      background-color: #3B4455;\n",
              "      fill: #D2E3FC;\n",
              "    }\n",
              "\n",
              "    [theme=dark] .colab-df-convert:hover {\n",
              "      background-color: #434B5C;\n",
              "      box-shadow: 0px 1px 3px 1px rgba(0, 0, 0, 0.15);\n",
              "      filter: drop-shadow(0px 1px 2px rgba(0, 0, 0, 0.3));\n",
              "      fill: #FFFFFF;\n",
              "    }\n",
              "  </style>\n",
              "\n",
              "      <script>\n",
              "        const buttonEl =\n",
              "          document.querySelector('#df-cb66a77e-332f-43c3-99e6-6a5c32e6c71d button.colab-df-convert');\n",
              "        buttonEl.style.display =\n",
              "          google.colab.kernel.accessAllowed ? 'block' : 'none';\n",
              "\n",
              "        async function convertToInteractive(key) {\n",
              "          const element = document.querySelector('#df-cb66a77e-332f-43c3-99e6-6a5c32e6c71d');\n",
              "          const dataTable =\n",
              "            await google.colab.kernel.invokeFunction('convertToInteractive',\n",
              "                                                     [key], {});\n",
              "          if (!dataTable) return;\n",
              "\n",
              "          const docLinkHtml = 'Like what you see? Visit the ' +\n",
              "            '<a target=\"_blank\" href=https://colab.research.google.com/notebooks/data_table.ipynb>data table notebook</a>'\n",
              "            + ' to learn more about interactive tables.';\n",
              "          element.innerHTML = '';\n",
              "          dataTable['output_type'] = 'display_data';\n",
              "          await google.colab.output.renderOutput(dataTable, element);\n",
              "          const docLink = document.createElement('div');\n",
              "          docLink.innerHTML = docLinkHtml;\n",
              "          element.appendChild(docLink);\n",
              "        }\n",
              "      </script>\n",
              "    </div>\n",
              "  </div>\n",
              "  "
            ]
          },
          "metadata": {},
          "execution_count": 63
        }
      ],
      "source": [
        "data.head()"
      ]
    },
    {
      "cell_type": "code",
      "source": [
        "data['Open'].plot(figsize=(15,6))"
      ],
      "metadata": {
        "colab": {
          "base_uri": "https://localhost:8080/",
          "height": 392
        },
        "id": "Hu3FNoOJ_NyK",
        "outputId": "754d2f6a-7b88-456b-adb6-e95e63bde397"
      },
      "execution_count": null,
      "outputs": [
        {
          "output_type": "execute_result",
          "data": {
            "text/plain": [
              "<matplotlib.axes._subplots.AxesSubplot at 0x7fdcb18a94d0>"
            ]
          },
          "metadata": {},
          "execution_count": 64
        },
        {
          "output_type": "display_data",
          "data": {
            "text/plain": [
              "<Figure size 1080x432 with 1 Axes>"
            ],
            "image/png": "[encoded data removed]"
          },
          "metadata": {
            "needs_background": "light"
          }
        }
      ]
    },
    {
      "cell_type": "code",
      "source": [
        "plt.figure(figsize=(16,8))\n",
        "plt.title('historical price')\n",
        "plt.plot(df['Close'])\n",
        "plt.xlabel('Time', fontsize=18)\n",
        "plt.ylabel('Close_Price', fontsize=18)\n",
        "plt.show()"
      ],
      "metadata": {
        "colab": {
          "base_uri": "https://localhost:8080/",
          "height": 521
        },
        "id": "8PtfDZkcAgJ-",
        "outputId": "f69936cb-38a9-4944-9e02-03ab55924999"
      },
      "execution_count": null,
      "outputs": [
        {
          "output_type": "display_data",
          "data": {
            "text/plain": [
              "<Figure size 1152x576 with 1 Axes>"
            ],
            "image/png": "[encoded data removed]"
          },
          "metadata": {
            "needs_background": "light"
          }
        }
      ]
    },
    {
      "cell_type": "code",
      "source": [
        "data_mini = data.iloc[-100:] # Select recent data rows\n",
        "import plotly.graph_objects as go\n",
        "\n",
        "fig = go.Figure(data=[go.Candlestick(x=data_mini.index, open=data_mini['Open'], high=data_mini['High'], low=data_mini['Low'], close=data_mini['Close'])])\n",
        "fig.show()"
      ],
      "metadata": {
        "colab": {
          "base_uri": "https://localhost:8080/",
          "height": 542
        },
        "id": "ST_c8URIAlT1",
        "outputId": "626606cf-adfe-4099-dd6e-87ce7b2a7904"
      },
      "execution_count": null,
      "outputs": [
        {
          "output_type": "display_data",
          "data": {
            "text/html": [
              "<html>\n",
              "<head><meta charset=\"utf-8\" /></head>\n",
              "<body>\n",
              "    <div>            <script src=\"https://cdnjs.cloudflare.com/ajax/libs/mathjax/2.7.5/MathJax.js?config=TeX-AMS-MML_SVG\"></script><script type=\"text/javascript\">if (window.MathJax) {MathJax.Hub.Config({SVG: {font: \"STIX-Web\"}});}</script>                <script type=\"text/javascript\">window.PlotlyConfig = {MathJaxConfig: 'local'};</script>\n",
              "        <script src=\"https://cdn.plot.ly/plotly-2.8.3.min.js\"></script>                <div id=\"a87f206e-df86-405c-b078-3005539328c4\" class=\"plotly-graph-div\" style=\"height:525px; width:100%;\"></div>            <script type=\"text/javascript\">                                    window.PLOTLYENV=window.PLOTLYENV || {};                                    if (document.getElementById(\"a87f206e-df86-405c-b078-3005539328c4\")) {                    Plotly.newPlot(                        \"a87f206e-df86-405c-b078-3005539328c4\",                        [{\"close\":[1731.7240000000002,1731.5445,1731.5225,1731.2515,1731.2060000000001,1731.059,1731.046,1730.82,1730.7060000000001,1730.976,1731.3575,1731.815,1732.1260000000002,1731.846,1731.746,1731.3110000000001,1731.816,1731.591,1731.4850000000001,1731.665,1731.589,1732.1115,1732.3965,1732.5059999999999,1732.5610000000001,1732.48,1732.095,1731.8899999999999,1731.409,1731.5385,1732.095,1732.0349999999999,1732.0749999999998,1732.1,1732.1100000000001,1732.106,1732.096,1732.095,1732.1875,1731.935,1731.7525,1731.5225,1732.6215,1732.5575,1732.3325,1732.5175,1732.5749999999998,1732.51,1732.135,1731.9250000000002,1731.8890000000001,1731.539,1731.644,1731.7995,1731.826,1732.1644999999999,1732.171,1732.346,1732.126,1732.141,1731.516,1731.8809999999999,1731.81,1731.591,1731.78,1731.679,1731.7150000000001,1731.8960000000002,1731.801,1731.761,1731.6860000000001,1731.926,1731.821,1731.7975000000001,1732.0275000000001,1731.6875,1731.9475,1731.516,1731.511,1731.426,1731.466,1731.661,1731.525,1731.5610000000001,1731.69,1731.8739999999998,1731.876,1731.731,1731.424,1731.309,1731.149,1731.1190000000001,1731.065,1731.5025,1731.1325000000002,1731.7785,1731.5794999999998,1731.5465,1731.4025000000001,1731.754],\"high\":[1731.7649999999999,1731.76,1731.6225,1731.4560000000001,1731.2725,1731.2325,1731.0725,1731.056,1730.8649999999998,1731.0445,1731.3625,1732.0615,1732.2075,1732.171,1732.0810000000001,1731.7359999999999,1731.946,1731.826,1731.806,1731.9450000000002,1731.976,1732.1365,1732.4015,1732.626,1732.616,1732.636,1732.5,1732.1100000000001,1731.87,1731.624,1732.134,1732.095,1732.0900000000001,1732.1,1732.126,1732.125,1732.201,1732.161,1732.245,1732.2545,1731.995,1731.8025,1732.6715,1732.6415,1732.5375,1732.6075,1732.6575,1732.615,1732.7345,1732.29,1731.991,1731.9695000000002,1731.759,1732.0275000000001,1732.3609999999999,1732.2045,1732.1895,1732.3715,1732.326,1732.161,1732.136,1731.9935,1732.01,1731.85,1731.79,1731.7559999999999,1731.791,1731.921,1731.946,1731.811,1731.801,1731.946,1731.9160000000002,1731.961,1732.0375,1732.0175,1732.1175,1731.9325,1731.551,1731.536,1731.47,1731.6785,1731.6390000000001,1731.5610000000001,1731.69,1731.961,1731.891,1731.931,1731.7060000000001,1731.589,1731.3339999999998,1731.214,1731.47,1731.594,1731.4975,1731.9250000000002,1731.7775000000001,1731.6575,1731.6725000000001,1731.899],\"low\":[1731.574,1731.469,1731.431,1731.229,1731.1689999999999,1730.9375,1730.821,1730.82,1730.4855,1730.641,1730.8874999999998,1731.3125,1731.8715,1731.826,1731.731,1731.2910000000002,1731.306,1731.5405,1731.3649999999998,1731.41,1731.3875,1731.585,1731.9450000000002,1732.3094999999998,1732.3609999999999,1732.4209999999998,1731.98,1731.83,1731.344,1731.299,1731.529,1731.8249999999998,1731.845,1731.9924999999998,1732.02,1732.0774999999999,1732.0685,1732.0075,1732.0825,1731.905,1731.59,1731.4904999999999,1731.5225,1732.415,1732.3075,1732.3175,1732.3675,1732.3,1732.0935,1731.8235,1731.694,1731.519,1731.534,1731.4345,1731.7625,1731.8094999999998,1732.0745,1732.144,1732.126,1732.0810000000001,1731.5059999999999,1731.2649999999999,1731.7435,1731.591,1731.4940000000001,1731.6689999999999,1731.685,1731.565,1731.646,1731.656,1731.636,1731.636,1731.6660000000002,1731.7559999999999,1731.7875,1731.5025,1731.5675,1731.4524999999999,1731.501,1731.4,1731.3690000000001,1731.47,1731.4835,1731.4740000000002,1731.499,1731.615,1731.769,1731.6660000000002,1731.369,1731.304,1731.1190000000001,1730.984,1730.9450000000002,1730.984,1730.989,1731.1245,1731.3835,1731.5465,1731.3235,1731.3715],\"open\":[1731.72,1731.72,1731.5425,1731.4245,1731.255,1731.201,1731.0665,1731.051,1730.8249999999998,1730.721,1730.9724999999999,1731.3125,1731.915,1732.121,1731.8609999999999,1731.7359999999999,1731.346,1731.826,1731.601,1731.48,1731.65,1731.585,1732.1215000000002,1732.3915000000002,1732.505,1732.556,1732.46,1732.08,1731.85,1731.414,1731.5439999999999,1732.0639999999999,1732.029,1732.045,1732.0900000000001,1732.0774999999999,1732.0725,1732.101,1732.125,1732.2150000000001,1731.9650000000001,1731.762,1731.5225,1732.605,1732.5375,1732.3175,1732.5225,1732.5475000000001,1732.5725,1732.0985,1731.905,1731.879,1731.5749999999998,1731.659,1731.866,1731.8094999999998,1732.136,1732.166,1732.326,1732.1315,1732.136,1731.5059999999999,1731.876,1731.7725,1731.586,1731.714,1731.6950000000002,1731.6889999999999,1731.911,1731.766,1731.7514999999999,1731.711,1731.9160000000002,1731.811,1731.8225,1732.0175,1731.7024999999999,1731.9325,1731.5285,1731.5059999999999,1731.4099999999999,1731.471,1731.6390000000001,1731.531,1731.534,1731.6889999999999,1731.844,1731.8310000000001,1731.7060000000001,1731.479,1731.319,1731.124,1731.105,1731.091,1731.4975,1731.1345000000001,1731.7765,1731.57,1731.5585,1731.4075],\"x\":[2900,2901,2902,2903,2904,2905,2906,2907,2908,2909,2910,2911,2912,2913,2914,2915,2916,2917,2918,2919,2920,2921,2922,2923,2924,2925,2926,2927,2928,2929,2930,2931,2932,2933,2934,2935,2936,2937,2938,2939,2940,2941,2942,2943,2944,2945,2946,2947,2948,2949,2950,2951,2952,2953,2954,2955,2956,2957,2958,2959,2960,2961,2962,2963,2964,2965,2966,2967,2968,2969,2970,2971,2972,2973,2974,2975,2976,2977,2978,2979,2980,2981,2982,2983,2984,2985,2986,2987,2988,2989,2990,2991,2992,2993,2994,2995,2996,2997,2998,2999],\"type\":\"candlestick\"}],                        {\"template\":{\"data\":{\"bar\":[{\"error_x\":{\"color\":\"#2a3f5f\"},\"error_y\":{\"color\":\"#2a3f5f\"},\"marker\":{\"line\":{\"color\":\"#E5ECF6\",\"width\":0.5},\"pattern\":{\"fillmode\":\"overlay\",\"size\":10,\"solidity\":0.2}},\"type\":\"bar\"}],\"barpolar\":[{\"marker\":{\"line\":{\"color\":\"#E5ECF6\",\"width\":0.5},\"pattern\":{\"fillmode\":\"overlay\",\"size\":10,\"solidity\":0.2}},\"type\":\"barpolar\"}],\"carpet\":[{\"aaxis\":{\"endlinecolor\":\"#2a3f5f\",\"gridcolor\":\"white\",\"linecolor\":\"white\",\"minorgridcolor\":\"white\",\"startlinecolor\":\"#2a3f5f\"},\"baxis\":{\"endlinecolor\":\"#2a3f5f\",\"gridcolor\":\"white\",\"linecolor\":\"white\",\"minorgridcolor\":\"white\",\"startlinecolor\":\"#2a3f5f\"},\"type\":\"carpet\"}],\"choropleth\":[{\"colorbar\":{\"outlinewidth\":0,\"ticks\":\"\"},\"type\":\"choropleth\"}],\"contour\":[{\"colorbar\":{\"outlinewidth\":0,\"ticks\":\"\"},\"colorscale\":[[0.0,\"#0d0887\"],[0.1111111111111111,\"#46039f\"],[0.2222222222222222,\"#7201a8\"],[0.3333333333333333,\"#9c179e\"],[0.4444444444444444,\"#bd3786\"],[0.5555555555555556,\"#d8576b\"],[0.6666666666666666,\"#ed7953\"],[0.7777777777777778,\"#fb9f3a\"],[0.8888888888888888,\"#fdca26\"],[1.0,\"#f0f921\"]],\"type\":\"contour\"}],\"contourcarpet\":[{\"colorbar\":{\"outlinewidth\":0,\"ticks\":\"\"},\"type\":\"contourcarpet\"}],\"heatmap\":[{\"colorbar\":{\"outlinewidth\":0,\"ticks\":\"\"},\"colorscale\":[[0.0,\"#0d0887\"],[0.1111111111111111,\"#46039f\"],[0.2222222222222222,\"#7201a8\"],[0.3333333333333333,\"#9c179e\"],[0.4444444444444444,\"#bd3786\"],[0.5555555555555556,\"#d8576b\"],[0.6666666666666666,\"#ed7953\"],[0.7777777777777778,\"#fb9f3a\"],[0.8888888888888888,\"#fdca26\"],[1.0,\"#f0f921\"]],\"type\":\"heatmap\"}],\"heatmapgl\":[{\"colorbar\":{\"outlinewidth\":0,\"ticks\":\"\"},\"colorscale\":[[0.0,\"#0d0887\"],[0.1111111111111111,\"#46039f\"],[0.2222222222222222,\"#7201a8\"],[0.3333333333333333,\"#9c179e\"],[0.4444444444444444,\"#bd3786\"],[0.5555555555555556,\"#d8576b\"],[0.6666666666666666,\"#ed7953\"],[0.7777777777777778,\"#fb9f3a\"],[0.8888888888888888,\"#fdca26\"],[1.0,\"#f0f921\"]],\"type\":\"heatmapgl\"}],\"histogram\":[{\"marker\":{\"pattern\":{\"fillmode\":\"overlay\",\"size\":10,\"solidity\":0.2}},\"type\":\"histogram\"}],\"histogram2d\":[{\"colorbar\":{\"outlinewidth\":0,\"ticks\":\"\"},\"colorscale\":[[0.0,\"#0d0887\"],[0.1111111111111111,\"#46039f\"],[0.2222222222222222,\"#7201a8\"],[0.3333333333333333,\"#9c179e\"],[0.4444444444444444,\"#bd3786\"],[0.5555555555555556,\"#d8576b\"],[0.6666666666666666,\"#ed7953\"],[0.7777777777777778,\"#fb9f3a\"],[0.8888888888888888,\"#fdca26\"],[1.0,\"#f0f921\"]],\"type\":\"histogram2d\"}],\"histogram2dcontour\":[{\"colorbar\":{\"outlinewidth\":0,\"ticks\":\"\"},\"colorscale\":[[0.0,\"#0d0887\"],[0.1111111111111111,\"#46039f\"],[0.2222222222222222,\"#7201a8\"],[0.3333333333333333,\"#9c179e\"],[0.4444444444444444,\"#bd3786\"],[0.5555555555555556,\"#d8576b\"],[0.6666666666666666,\"#ed7953\"],[0.7777777777777778,\"#fb9f3a\"],[0.8888888888888888,\"#fdca26\"],[1.0,\"#f0f921\"]],\"type\":\"histogram2dcontour\"}],\"mesh3d\":[{\"colorbar\":{\"outlinewidth\":0,\"ticks\":\"\"},\"type\":\"mesh3d\"}],\"parcoords\":[{\"line\":{\"colorbar\":{\"outlinewidth\":0,\"ticks\":\"\"}},\"type\":\"parcoords\"}],\"pie\":[{\"automargin\":true,\"type\":\"pie\"}],\"scatter\":[{\"marker\":{\"colorbar\":{\"outlinewidth\":0,\"ticks\":\"\"}},\"type\":\"scatter\"}],\"scatter3d\":[{\"line\":{\"colorbar\":{\"outlinewidth\":0,\"ticks\":\"\"}},\"marker\":{\"colorbar\":{\"outlinewidth\":0,\"ticks\":\"\"}},\"type\":\"scatter3d\"}],\"scattercarpet\":[{\"marker\":{\"colorbar\":{\"outlinewidth\":0,\"ticks\":\"\"}},\"type\":\"scattercarpet\"}],\"scattergeo\":[{\"marker\":{\"colorbar\":{\"outlinewidth\":0,\"ticks\":\"\"}},\"type\":\"scattergeo\"}],\"scattergl\":[{\"marker\":{\"colorbar\":{\"outlinewidth\":0,\"ticks\":\"\"}},\"type\":\"scattergl\"}],\"scattermapbox\":[{\"marker\":{\"colorbar\":{\"outlinewidth\":0,\"ticks\":\"\"}},\"type\":\"scattermapbox\"}],\"scatterpolar\":[{\"marker\":{\"colorbar\":{\"outlinewidth\":0,\"ticks\":\"\"}},\"type\":\"scatterpolar\"}],\"scatterpolargl\":[{\"marker\":{\"colorbar\":{\"outlinewidth\":0,\"ticks\":\"\"}},\"type\":\"scatterpolargl\"}],\"scatterternary\":[{\"marker\":{\"colorbar\":{\"outlinewidth\":0,\"ticks\":\"\"}},\"type\":\"scatterternary\"}],\"surface\":[{\"colorbar\":{\"outlinewidth\":0,\"ticks\":\"\"},\"colorscale\":[[0.0,\"#0d0887\"],[0.1111111111111111,\"#46039f\"],[0.2222222222222222,\"#7201a8\"],[0.3333333333333333,\"#9c179e\"],[0.4444444444444444,\"#bd3786\"],[0.5555555555555556,\"#d8576b\"],[0.6666666666666666,\"#ed7953\"],[0.7777777777777778,\"#fb9f3a\"],[0.8888888888888888,\"#fdca26\"],[1.0,\"#f0f921\"]],\"type\":\"surface\"}],\"table\":[{\"cells\":{\"fill\":{\"color\":\"#EBF0F8\"},\"line\":{\"color\":\"white\"}},\"header\":{\"fill\":{\"color\":\"#C8D4E3\"},\"line\":{\"color\":\"white\"}},\"type\":\"table\"}]},\"layout\":{\"annotationdefaults\":{\"arrowcolor\":\"#2a3f5f\",\"arrowhead\":0,\"arrowwidth\":1},\"autotypenumbers\":\"strict\",\"coloraxis\":{\"colorbar\":{\"outlinewidth\":0,\"ticks\":\"\"}},\"colorscale\":{\"diverging\":[[0,\"#8e0152\"],[0.1,\"#c51b7d\"],[0.2,\"#de77ae\"],[0.3,\"#f1b6da\"],[0.4,\"#fde0ef\"],[0.5,\"#f7f7f7\"],[0.6,\"#e6f5d0\"],[0.7,\"#b8e186\"],[0.8,\"#7fbc41\"],[0.9,\"#4d9221\"],[1,\"#276419\"]],\"sequential\":[[0.0,\"#0d0887\"],[0.1111111111111111,\"#46039f\"],[0.2222222222222222,\"#7201a8\"],[0.3333333333333333,\"#9c179e\"],[0.4444444444444444,\"#bd3786\"],[0.5555555555555556,\"#d8576b\"],[0.6666666666666666,\"#ed7953\"],[0.7777777777777778,\"#fb9f3a\"],[0.8888888888888888,\"#fdca26\"],[1.0,\"#f0f921\"]],\"sequentialminus\":[[0.0,\"#0d0887\"],[0.1111111111111111,\"#46039f\"],[0.2222222222222222,\"#7201a8\"],[0.3333333333333333,\"#9c179e\"],[0.4444444444444444,\"#bd3786\"],[0.5555555555555556,\"#d8576b\"],[0.6666666666666666,\"#ed7953\"],[0.7777777777777778,\"#fb9f3a\"],[0.8888888888888888,\"#fdca26\"],[1.0,\"#f0f921\"]]},\"colorway\":[\"#636efa\",\"#EF553B\",\"#00cc96\",\"#ab63fa\",\"#FFA15A\",\"#19d3f3\",\"#FF6692\",\"#B6E880\",\"#FF97FF\",\"#FECB52\"],\"font\":{\"color\":\"#2a3f5f\"},\"geo\":{\"bgcolor\":\"white\",\"lakecolor\":\"white\",\"landcolor\":\"#E5ECF6\",\"showlakes\":true,\"showland\":true,\"subunitcolor\":\"white\"},\"hoverlabel\":{\"align\":\"left\"},\"hovermode\":\"closest\",\"mapbox\":{\"style\":\"light\"},\"paper_bgcolor\":\"white\",\"plot_bgcolor\":\"#E5ECF6\",\"polar\":{\"angularaxis\":{\"gridcolor\":\"white\",\"linecolor\":\"white\",\"ticks\":\"\"},\"bgcolor\":\"#E5ECF6\",\"radialaxis\":{\"gridcolor\":\"white\",\"linecolor\":\"white\",\"ticks\":\"\"}},\"scene\":{\"xaxis\":{\"backgroundcolor\":\"#E5ECF6\",\"gridcolor\":\"white\",\"gridwidth\":2,\"linecolor\":\"white\",\"showbackground\":true,\"ticks\":\"\",\"zerolinecolor\":\"white\"},\"yaxis\":{\"backgroundcolor\":\"#E5ECF6\",\"gridcolor\":\"white\",\"gridwidth\":2,\"linecolor\":\"white\",\"showbackground\":true,\"ticks\":\"\",\"zerolinecolor\":\"white\"},\"zaxis\":{\"backgroundcolor\":\"#E5ECF6\",\"gridcolor\":\"white\",\"gridwidth\":2,\"linecolor\":\"white\",\"showbackground\":true,\"ticks\":\"\",\"zerolinecolor\":\"white\"}},\"shapedefaults\":{\"line\":{\"color\":\"#2a3f5f\"}},\"ternary\":{\"aaxis\":{\"gridcolor\":\"white\",\"linecolor\":\"white\",\"ticks\":\"\"},\"baxis\":{\"gridcolor\":\"white\",\"linecolor\":\"white\",\"ticks\":\"\"},\"bgcolor\":\"#E5ECF6\",\"caxis\":{\"gridcolor\":\"white\",\"linecolor\":\"white\",\"ticks\":\"\"}},\"title\":{\"x\":0.05},\"xaxis\":{\"automargin\":true,\"gridcolor\":\"white\",\"linecolor\":\"white\",\"ticks\":\"\",\"title\":{\"standoff\":15},\"zerolinecolor\":\"white\",\"zerolinewidth\":2},\"yaxis\":{\"automargin\":true,\"gridcolor\":\"white\",\"linecolor\":\"white\",\"ticks\":\"\",\"title\":{\"standoff\":15},\"zerolinecolor\":\"white\",\"zerolinewidth\":2}}}},                        {\"responsive\": true}                    ).then(function(){\n",
              "                            \n",
              "var gd = document.getElementById('a87f206e-df86-405c-b078-3005539328c4');\n",
              "var x = new MutationObserver(function (mutations, observer) {{\n",
              "        var display = window.getComputedStyle(gd).display;\n",
              "        if (!display || display === 'none') {{\n",
              "            console.log([gd, 'removed!']);\n",
              "            Plotly.purge(gd);\n",
              "            observer.disconnect();\n",
              "        }}\n",
              "}});\n",
              "\n",
              "// Listen for the removal of the full notebook cells\n",
              "var notebookContainer = gd.closest('#notebook-container');\n",
              "if (notebookContainer) {{\n",
              "    x.observe(notebookContainer, {childList: true});\n",
              "}}\n",
              "\n",
              "// Listen for the clearing of the current output cell\n",
              "var outputEl = gd.closest('.output');\n",
              "if (outputEl) {{\n",
              "    x.observe(outputEl, {childList: true});\n",
              "}}\n",
              "\n",
              "                        })                };                            </script>        </div>\n",
              "</body>\n",
              "</html>"
            ]
          },
          "metadata": {}
        }
      ]
    },
    {
      "cell_type": "code",
      "source": [
        ""
      ],
      "metadata": {
        "id": "PfmSflazEgou"
      },
      "execution_count": null,
      "outputs": []
    },
    {
      "cell_type": "code",
      "source": [
        "#Create a new dataframe with only the 'Close column\n",
        "data = df.filter(['Close'])\n",
        "#Convert the dataframe to a numpy array\n",
        "dataset = data.values\n",
        "#Get the number of rows to train the model on\n",
        "training_data_len = int(np.ceil( len(dataset) * .9 ))\n",
        "validation_data_len = int(np.ceil( len(dataset) * .05 ))\n",
        "test_data_len = int(np.ceil( len(dataset) * .05 ))\n",
        "print(training_data_len)\n",
        "print(validation_data_len)\n",
        "print(test_data_len)\n"
      ],
      "metadata": {
        "colab": {
          "base_uri": "https://localhost:8080/"
        },
        "id": "2GVJbVQjA218",
        "outputId": "0b47a0ac-577c-443a-8268-47ecd42aa4a0"
      },
      "execution_count": null,
      "outputs": [
        {
          "output_type": "stream",
          "name": "stdout",
          "text": [
            "2700\n",
            "150\n",
            "150\n"
          ]
        }
      ]
    },
    {
      "cell_type": "code",
      "execution_count": null,
      "metadata": {
        "id": "KvGd3iOGiA9l"
      },
      "outputs": [],
      "source": [
        "from sklearn.preprocessing import MinMaxScaler\n",
        "from keras.models import Sequential, load_model\n",
        "from keras.layers import LSTM, Dense, Dropout"
      ]
    },
    {
      "cell_type": "code",
      "execution_count": null,
      "metadata": {
        "colab": {
          "base_uri": "https://localhost:8080/"
        },
        "id": "VkLxpN8Uh7qS",
        "outputId": "fccd91ad-ebae-47dc-8883-7f600135ea81"
      },
      "outputs": [
        {
          "output_type": "execute_result",
          "data": {
            "text/plain": [
              "array([[0.35780953],\n",
              "       [0.41183295],\n",
              "       [0.43382198],\n",
              "       [0.38749736],\n",
              "       [0.3616853 ]])"
            ]
          },
          "metadata": {},
          "execution_count": 69
        }
      ],
      "source": [
        "scaler = MinMaxScaler(feature_range=(0,1))\n",
        "scaled_data= scaler.fit_transform(dataset)\n",
        "scaled_data[:5]"
      ]
    },
    {
      "cell_type": "code",
      "execution_count": null,
      "metadata": {
        "colab": {
          "base_uri": "https://localhost:8080/",
          "height": 519
        },
        "id": "0-8KIFp9FUvl",
        "outputId": "22940388-2969-41e9-c861-014dd785f73c"
      },
      "outputs": [
        {
          "output_type": "error",
          "ename": "KeyError",
          "evalue": "ignored",
          "traceback": [
            "\u001b[0;31m---------------------------------------------------------------------------\u001b[0m",
            "\u001b[0;31mKeyError\u001b[0m                                  Traceback (most recent call last)",
            "\u001b[0;32m/usr/local/lib/python3.7/dist-packages/pandas/core/indexes/base.py\u001b[0m in \u001b[0;36mget_loc\u001b[0;34m(self, key, method, tolerance)\u001b[0m\n\u001b[1;32m   3360\u001b[0m             \u001b[0;32mtry\u001b[0m\u001b[0;34m:\u001b[0m\u001b[0;34m\u001b[0m\u001b[0;34m\u001b[0m\u001b[0m\n\u001b[0;32m-> 3361\u001b[0;31m                 \u001b[0;32mreturn\u001b[0m \u001b[0mself\u001b[0m\u001b[0;34m.\u001b[0m\u001b[0m_engine\u001b[0m\u001b[0;34m.\u001b[0m\u001b[0mget_loc\u001b[0m\u001b[0;34m(\u001b[0m\u001b[0mcasted_key\u001b[0m\u001b[0;34m)\u001b[0m\u001b[0;34m\u001b[0m\u001b[0;34m\u001b[0m\u001b[0m\n\u001b[0m\u001b[1;32m   3362\u001b[0m             \u001b[0;32mexcept\u001b[0m \u001b[0mKeyError\u001b[0m \u001b[0;32mas\u001b[0m \u001b[0merr\u001b[0m\u001b[0;34m:\u001b[0m\u001b[0;34m\u001b[0m\u001b[0;34m\u001b[0m\u001b[0m\n",
            "\u001b[0;32m/usr/local/lib/python3.7/dist-packages/pandas/_libs/index.pyx\u001b[0m in \u001b[0;36mpandas._libs.index.IndexEngine.get_loc\u001b[0;34m()\u001b[0m\n",
            "\u001b[0;32m/usr/local/lib/python3.7/dist-packages/pandas/_libs/index.pyx\u001b[0m in \u001b[0;36mpandas._libs.index.IndexEngine.get_loc\u001b[0;34m()\u001b[0m\n",
            "\u001b[0;32mpandas/_libs/hashtable_class_helper.pxi\u001b[0m in \u001b[0;36mpandas._libs.hashtable.PyObjectHashTable.get_item\u001b[0;34m()\u001b[0m\n",
            "\u001b[0;32mpandas/_libs/hashtable_class_helper.pxi\u001b[0m in \u001b[0;36mpandas._libs.hashtable.PyObjectHashTable.get_item\u001b[0;34m()\u001b[0m\n",
            "\u001b[0;31mKeyError\u001b[0m: 'Volume_Bid'",
            "\nThe above exception was the direct cause of the following exception:\n",
            "\u001b[0;31mKeyError\u001b[0m                                  Traceback (most recent call last)",
            "\u001b[0;32m<ipython-input-70-6950176b03b9>\u001b[0m in \u001b[0;36m<module>\u001b[0;34m()\u001b[0m\n\u001b[1;32m      1\u001b[0m \u001b[0;31m#downsizing\u001b[0m\u001b[0;34m\u001b[0m\u001b[0;34m\u001b[0m\u001b[0;34m\u001b[0m\u001b[0m\n\u001b[0;32m----> 2\u001b[0;31m \u001b[0mdata\u001b[0m\u001b[0;34m[\u001b[0m\u001b[0;34m'Volume_Bid'\u001b[0m\u001b[0;34m]\u001b[0m\u001b[0;34m=\u001b[0m\u001b[0mpd\u001b[0m\u001b[0;34m.\u001b[0m\u001b[0mto_numeric\u001b[0m\u001b[0;34m(\u001b[0m\u001b[0mdata\u001b[0m\u001b[0;34m[\u001b[0m\u001b[0;34m'Volume_Bid'\u001b[0m\u001b[0;34m]\u001b[0m\u001b[0;34m,\u001b[0m\u001b[0mdowncast\u001b[0m\u001b[0;34m=\u001b[0m\u001b[0;34m'float'\u001b[0m\u001b[0;34m)\u001b[0m\u001b[0;34m\u001b[0m\u001b[0;34m\u001b[0m\u001b[0m\n\u001b[0m\u001b[1;32m      3\u001b[0m \u001b[0mdata\u001b[0m\u001b[0;34m[\u001b[0m\u001b[0;34m'Volume_Ask'\u001b[0m\u001b[0;34m]\u001b[0m\u001b[0;34m=\u001b[0m\u001b[0mpd\u001b[0m\u001b[0;34m.\u001b[0m\u001b[0mto_numeric\u001b[0m\u001b[0;34m(\u001b[0m\u001b[0mdata\u001b[0m\u001b[0;34m[\u001b[0m\u001b[0;34m'Volume_Ask'\u001b[0m\u001b[0;34m]\u001b[0m\u001b[0;34m,\u001b[0m\u001b[0mdowncast\u001b[0m\u001b[0;34m=\u001b[0m\u001b[0;34m'float'\u001b[0m\u001b[0;34m)\u001b[0m\u001b[0;34m\u001b[0m\u001b[0;34m\u001b[0m\u001b[0m\n\u001b[1;32m      4\u001b[0m \u001b[0mdata\u001b[0m\u001b[0;34m[\u001b[0m\u001b[0;34m'Open'\u001b[0m\u001b[0;34m]\u001b[0m\u001b[0;34m=\u001b[0m\u001b[0mpd\u001b[0m\u001b[0;34m.\u001b[0m\u001b[0mto_numeric\u001b[0m\u001b[0;34m(\u001b[0m\u001b[0mdata\u001b[0m\u001b[0;34m[\u001b[0m\u001b[0;34m'Open'\u001b[0m\u001b[0;34m]\u001b[0m\u001b[0;34m,\u001b[0m\u001b[0mdowncast\u001b[0m\u001b[0;34m=\u001b[0m\u001b[0;34m'float'\u001b[0m\u001b[0;34m)\u001b[0m\u001b[0;34m\u001b[0m\u001b[0;34m\u001b[0m\u001b[0m\n\u001b[1;32m      5\u001b[0m \u001b[0mdata\u001b[0m\u001b[0;34m[\u001b[0m\u001b[0;34m'High'\u001b[0m\u001b[0;34m]\u001b[0m\u001b[0;34m=\u001b[0m\u001b[0mpd\u001b[0m\u001b[0;34m.\u001b[0m\u001b[0mto_numeric\u001b[0m\u001b[0;34m(\u001b[0m\u001b[0mdata\u001b[0m\u001b[0;34m[\u001b[0m\u001b[0;34m'High'\u001b[0m\u001b[0;34m]\u001b[0m\u001b[0;34m,\u001b[0m\u001b[0mdowncast\u001b[0m\u001b[0;34m=\u001b[0m\u001b[0;34m'float'\u001b[0m\u001b[0;34m)\u001b[0m\u001b[0;34m\u001b[0m\u001b[0;34m\u001b[0m\u001b[0m\n",
            "\u001b[0;32m/usr/local/lib/python3.7/dist-packages/pandas/core/frame.py\u001b[0m in \u001b[0;36m__getitem__\u001b[0;34m(self, key)\u001b[0m\n\u001b[1;32m   3456\u001b[0m             \u001b[0;32mif\u001b[0m \u001b[0mself\u001b[0m\u001b[0;34m.\u001b[0m\u001b[0mcolumns\u001b[0m\u001b[0;34m.\u001b[0m\u001b[0mnlevels\u001b[0m \u001b[0;34m>\u001b[0m \u001b[0;36m1\u001b[0m\u001b[0;34m:\u001b[0m\u001b[0;34m\u001b[0m\u001b[0;34m\u001b[0m\u001b[0m\n\u001b[1;32m   3457\u001b[0m                 \u001b[0;32mreturn\u001b[0m \u001b[0mself\u001b[0m\u001b[0;34m.\u001b[0m\u001b[0m_getitem_multilevel\u001b[0m\u001b[0;34m(\u001b[0m\u001b[0mkey\u001b[0m\u001b[0;34m)\u001b[0m\u001b[0;34m\u001b[0m\u001b[0;34m\u001b[0m\u001b[0m\n\u001b[0;32m-> 3458\u001b[0;31m             \u001b[0mindexer\u001b[0m \u001b[0;34m=\u001b[0m \u001b[0mself\u001b[0m\u001b[0;34m.\u001b[0m\u001b[0mcolumns\u001b[0m\u001b[0;34m.\u001b[0m\u001b[0mget_loc\u001b[0m\u001b[0;34m(\u001b[0m\u001b[0mkey\u001b[0m\u001b[0;34m)\u001b[0m\u001b[0;34m\u001b[0m\u001b[0;34m\u001b[0m\u001b[0m\n\u001b[0m\u001b[1;32m   3459\u001b[0m             \u001b[0;32mif\u001b[0m \u001b[0mis_integer\u001b[0m\u001b[0;34m(\u001b[0m\u001b[0mindexer\u001b[0m\u001b[0;34m)\u001b[0m\u001b[0;34m:\u001b[0m\u001b[0;34m\u001b[0m\u001b[0;34m\u001b[0m\u001b[0m\n\u001b[1;32m   3460\u001b[0m                 \u001b[0mindexer\u001b[0m \u001b[0;34m=\u001b[0m \u001b[0;34m[\u001b[0m\u001b[0mindexer\u001b[0m\u001b[0;34m]\u001b[0m\u001b[0;34m\u001b[0m\u001b[0;34m\u001b[0m\u001b[0m\n",
            "\u001b[0;32m/usr/local/lib/python3.7/dist-packages/pandas/core/indexes/base.py\u001b[0m in \u001b[0;36mget_loc\u001b[0;34m(self, key, method, tolerance)\u001b[0m\n\u001b[1;32m   3361\u001b[0m                 \u001b[0;32mreturn\u001b[0m \u001b[0mself\u001b[0m\u001b[0;34m.\u001b[0m\u001b[0m_engine\u001b[0m\u001b[0;34m.\u001b[0m\u001b[0mget_loc\u001b[0m\u001b[0;34m(\u001b[0m\u001b[0mcasted_key\u001b[0m\u001b[0;34m)\u001b[0m\u001b[0;34m\u001b[0m\u001b[0;34m\u001b[0m\u001b[0m\n\u001b[1;32m   3362\u001b[0m             \u001b[0;32mexcept\u001b[0m \u001b[0mKeyError\u001b[0m \u001b[0;32mas\u001b[0m \u001b[0merr\u001b[0m\u001b[0;34m:\u001b[0m\u001b[0;34m\u001b[0m\u001b[0;34m\u001b[0m\u001b[0m\n\u001b[0;32m-> 3363\u001b[0;31m                 \u001b[0;32mraise\u001b[0m \u001b[0mKeyError\u001b[0m\u001b[0;34m(\u001b[0m\u001b[0mkey\u001b[0m\u001b[0;34m)\u001b[0m \u001b[0;32mfrom\u001b[0m \u001b[0merr\u001b[0m\u001b[0;34m\u001b[0m\u001b[0;34m\u001b[0m\u001b[0m\n\u001b[0m\u001b[1;32m   3364\u001b[0m \u001b[0;34m\u001b[0m\u001b[0m\n\u001b[1;32m   3365\u001b[0m         \u001b[0;32mif\u001b[0m \u001b[0mis_scalar\u001b[0m\u001b[0;34m(\u001b[0m\u001b[0mkey\u001b[0m\u001b[0;34m)\u001b[0m \u001b[0;32mand\u001b[0m \u001b[0misna\u001b[0m\u001b[0;34m(\u001b[0m\u001b[0mkey\u001b[0m\u001b[0;34m)\u001b[0m \u001b[0;32mand\u001b[0m \u001b[0;32mnot\u001b[0m \u001b[0mself\u001b[0m\u001b[0;34m.\u001b[0m\u001b[0mhasnans\u001b[0m\u001b[0;34m:\u001b[0m\u001b[0;34m\u001b[0m\u001b[0;34m\u001b[0m\u001b[0m\n",
            "\u001b[0;31mKeyError\u001b[0m: 'Volume_Bid'"
          ]
        }
      ],
      "source": [
        "#downsizing\n",
        "data['Volume_Bid']=pd.to_numeric(data['Volume_Bid'],downcast='float')\n",
        "data['Volume_Ask']=pd.to_numeric(data['Volume_Ask'],downcast='float')\n",
        "data['Open']=pd.to_numeric(data['Open'],downcast='float')\n",
        "data['High']=pd.to_numeric(data['High'],downcast='float')\n",
        "data['Low']=pd.to_numeric(data['Low'],downcast='float')\n",
        "data['Close']=pd.to_numeric(data['Close'],downcast='float')\n",
        "data.info()"
      ]
    },
    {
      "cell_type": "code",
      "source": [
        "from google.colab import drive\n",
        "drive.mount('/content/drive')"
      ],
      "metadata": {
        "id": "cxv4rkzqhkIm"
      },
      "execution_count": null,
      "outputs": []
    },
    {
      "cell_type": "code",
      "execution_count": null,
      "metadata": {
        "colab": {
          "base_uri": "https://localhost:8080/",
          "height": 315
        },
        "id": "MwNgwqBoPCTv",
        "outputId": "b8111eb5-538f-4323-f2dd-cc1403ec3fe7"
      },
      "outputs": [
        {
          "output_type": "error",
          "ename": "AttributeError",
          "evalue": "ignored",
          "traceback": [
            "\u001b[0;31m---------------------------------------------------------------------------\u001b[0m",
            "\u001b[0;31mAttributeError\u001b[0m                            Traceback (most recent call last)",
            "\u001b[0;32m<ipython-input-71-3838d4d2a978>\u001b[0m in \u001b[0;36m<module>\u001b[0;34m()\u001b[0m\n\u001b[1;32m      1\u001b[0m \u001b[0;31m## Negative volume implies lack of liquidity in the marketdata\u001b[0m\u001b[0;34m\u001b[0m\u001b[0;34m\u001b[0m\u001b[0;34m\u001b[0m\u001b[0m\n\u001b[0;32m----> 2\u001b[0;31m \u001b[0mdata\u001b[0m\u001b[0;34m[\u001b[0m\u001b[0mdata\u001b[0m\u001b[0;34m.\u001b[0m\u001b[0mVolume_Bid\u001b[0m \u001b[0;34m<\u001b[0m \u001b[0;36m0\u001b[0m\u001b[0;34m]\u001b[0m \u001b[0;31m#no values\u001b[0m\u001b[0;34m\u001b[0m\u001b[0;34m\u001b[0m\u001b[0m\n\u001b[0m",
            "\u001b[0;32m/usr/local/lib/python3.7/dist-packages/pandas/core/generic.py\u001b[0m in \u001b[0;36m__getattr__\u001b[0;34m(self, name)\u001b[0m\n\u001b[1;32m   5485\u001b[0m         ):\n\u001b[1;32m   5486\u001b[0m             \u001b[0;32mreturn\u001b[0m \u001b[0mself\u001b[0m\u001b[0;34m[\u001b[0m\u001b[0mname\u001b[0m\u001b[0;34m]\u001b[0m\u001b[0;34m\u001b[0m\u001b[0;34m\u001b[0m\u001b[0m\n\u001b[0;32m-> 5487\u001b[0;31m         \u001b[0;32mreturn\u001b[0m \u001b[0mobject\u001b[0m\u001b[0;34m.\u001b[0m\u001b[0m__getattribute__\u001b[0m\u001b[0;34m(\u001b[0m\u001b[0mself\u001b[0m\u001b[0;34m,\u001b[0m \u001b[0mname\u001b[0m\u001b[0;34m)\u001b[0m\u001b[0;34m\u001b[0m\u001b[0;34m\u001b[0m\u001b[0m\n\u001b[0m\u001b[1;32m   5488\u001b[0m \u001b[0;34m\u001b[0m\u001b[0m\n\u001b[1;32m   5489\u001b[0m     \u001b[0;32mdef\u001b[0m \u001b[0m__setattr__\u001b[0m\u001b[0;34m(\u001b[0m\u001b[0mself\u001b[0m\u001b[0;34m,\u001b[0m \u001b[0mname\u001b[0m\u001b[0;34m:\u001b[0m \u001b[0mstr\u001b[0m\u001b[0;34m,\u001b[0m \u001b[0mvalue\u001b[0m\u001b[0;34m)\u001b[0m \u001b[0;34m->\u001b[0m \u001b[0;32mNone\u001b[0m\u001b[0;34m:\u001b[0m\u001b[0;34m\u001b[0m\u001b[0;34m\u001b[0m\u001b[0m\n",
            "\u001b[0;31mAttributeError\u001b[0m: 'DataFrame' object has no attribute 'Volume_Bid'"
          ]
        }
      ],
      "source": [
        "## Negative volume implies lack of liquidity in the marketdata\n",
        "data[data.Volume_Bid < 0] #no values "
      ]
    },
    {
      "cell_type": "code",
      "execution_count": null,
      "metadata": {
        "colab": {
          "base_uri": "https://localhost:8080/"
        },
        "id": "ZAwqg16CP9Qk",
        "outputId": "5fe0f3b7-194b-4976-bb9a-4560739a09fc"
      },
      "outputs": [
        {
          "output_type": "stream",
          "name": "stdout",
          "text": [
            "Close    0\n",
            "dtype: int64\n"
          ]
        }
      ],
      "source": [
        "print(data.isna().sum())"
      ]
    },
    {
      "cell_type": "code",
      "source": [
        "train_data = scaled_data[0:int(training_data_len), :]\n",
        "valid_data = scaled_data[int(training_data_len)- 60: int(training_data_len) + int(validation_data_len), :]\n",
        "print(train_data.shape)\n",
        "#Split the data into x_train and y_train data sets\n",
        "x_train = []\n",
        "y_train = []\n",
        "\n",
        "for i in range(60, len(train_data)):\n",
        "    x_train.append(train_data[i-60:i, 0])\n",
        "    y_train.append(train_data[i, 0])\n",
        "    if i<= 61:\n",
        "        print(x_train)\n",
        "        print(y_train)\n",
        "        print()\n",
        "        \n",
        "# Convert the x_train and y_train to numpy arrays \n",
        "x_train, y_train = np.array(x_train), np.array(y_train)\n",
        "\n",
        "#Reshape the data\n",
        "x_train = np.reshape(x_train, (x_train.shape[0], x_train.shape[1], 1))\n",
        "x_train.shape\n"
      ],
      "metadata": {
        "colab": {
          "base_uri": "https://localhost:8080/"
        },
        "id": "uJTgX4Ob_Ldi",
        "outputId": "56ab37f7-d9d1-4a26-a04d-dfc8b9cbcab9"
      },
      "execution_count": null,
      "outputs": [
        {
          "output_type": "stream",
          "name": "stdout",
          "text": [
            "(2700, 1)\n",
            "[array([0.35780953, 0.41183295, 0.43382198, 0.38749736, 0.3616853 ,\n",
            "       0.23133305, 0.22334423, 0.20024784, 0.22405611, 0.28522464,\n",
            "       0.28427547, 0.24920903, 0.25147648, 0.28830943, 0.28108521,\n",
            "       0.27169901, 0.28838853, 0.26755959, 0.28029424, 0.26914153,\n",
            "       0.27836954, 0.28609471, 0.27995149, 0.27546931, 0.20955495,\n",
            "       0.24409407, 0.22458342, 0.2396119 , 0.25595866, 0.25113373,\n",
            "       0.27916051, 0.27441468, 0.25701329, 0.23170217, 0.23776629,\n",
            "       0.27177811, 0.27836954, 0.28126977, 0.28654292, 0.26281375,\n",
            "       0.2823244 , 0.27069711, 0.26175912, 0.25674963, 0.28269352,\n",
            "       0.27968783, 0.30552626, 0.27942417, 0.2767876 , 0.26281375,\n",
            "       0.25305843, 0.25595866, 0.27045982, 0.27520565, 0.27125079,\n",
            "       0.27705126, 0.3263552 , 0.31810272, 0.30244147, 0.30507804])]\n",
            "[0.2614690993461437]\n",
            "\n",
            "[array([0.35780953, 0.41183295, 0.43382198, 0.38749736, 0.3616853 ,\n",
            "       0.23133305, 0.22334423, 0.20024784, 0.22405611, 0.28522464,\n",
            "       0.28427547, 0.24920903, 0.25147648, 0.28830943, 0.28108521,\n",
            "       0.27169901, 0.28838853, 0.26755959, 0.28029424, 0.26914153,\n",
            "       0.27836954, 0.28609471, 0.27995149, 0.27546931, 0.20955495,\n",
            "       0.24409407, 0.22458342, 0.2396119 , 0.25595866, 0.25113373,\n",
            "       0.27916051, 0.27441468, 0.25701329, 0.23170217, 0.23776629,\n",
            "       0.27177811, 0.27836954, 0.28126977, 0.28654292, 0.26281375,\n",
            "       0.2823244 , 0.27069711, 0.26175912, 0.25674963, 0.28269352,\n",
            "       0.27968783, 0.30552626, 0.27942417, 0.2767876 , 0.26281375,\n",
            "       0.25305843, 0.25595866, 0.27045982, 0.27520565, 0.27125079,\n",
            "       0.27705126, 0.3263552 , 0.31810272, 0.30244147, 0.30507804]), array([0.41183295, 0.43382198, 0.38749736, 0.3616853 , 0.23133305,\n",
            "       0.22334423, 0.20024784, 0.22405611, 0.28522464, 0.28427547,\n",
            "       0.24920903, 0.25147648, 0.28830943, 0.28108521, 0.27169901,\n",
            "       0.28838853, 0.26755959, 0.28029424, 0.26914153, 0.27836954,\n",
            "       0.28609471, 0.27995149, 0.27546931, 0.20955495, 0.24409407,\n",
            "       0.22458342, 0.2396119 , 0.25595866, 0.25113373, 0.27916051,\n",
            "       0.27441468, 0.25701329, 0.23170217, 0.23776629, 0.27177811,\n",
            "       0.27836954, 0.28126977, 0.28654292, 0.26281375, 0.2823244 ,\n",
            "       0.27069711, 0.26175912, 0.25674963, 0.28269352, 0.27968783,\n",
            "       0.30552626, 0.27942417, 0.2767876 , 0.26281375, 0.25305843,\n",
            "       0.25595866, 0.27045982, 0.27520565, 0.27125079, 0.27705126,\n",
            "       0.3263552 , 0.31810272, 0.30244147, 0.30507804, 0.2614691 ])]\n",
            "[0.2614690993461437, 0.2556686353090072]\n",
            "\n"
          ]
        },
        {
          "output_type": "execute_result",
          "data": {
            "text/plain": [
              "(2640, 60, 1)"
            ]
          },
          "metadata": {},
          "execution_count": 73
        }
      ]
    },
    {
      "cell_type": "code",
      "source": [
        "#Split the data into x_valid and y_valid data sets\n",
        "x_valid = []\n",
        "y_valid = []\n",
        "\n",
        "for i in range(60, len(valid_data)):\n",
        "    x_valid.append(valid_data[i-60:i, 0])\n",
        "    y_valid.append(valid_data[i, 0])\n",
        "    if i<= 61:\n",
        "        print(x_valid)\n",
        "        print(y_valid)\n",
        "        print()\n",
        "        \n",
        "# Convert the x_valid and y_valid to numpy arrays \n",
        "x_valid, y_valid = np.array(x_valid), np.array(y_valid)\n",
        "\n",
        "#Reshape the data\n",
        "x_valid = np.reshape(x_valid, (x_valid.shape[0], x_valid.shape[1], 1))\n",
        "x_valid.shape\n",
        "\n"
      ],
      "metadata": {
        "colab": {
          "base_uri": "https://localhost:8080/"
        },
        "id": "k8KbBXg1Bn3r",
        "outputId": "58a6f2e7-54f2-4c1c-9d46-9488cc289db5"
      },
      "execution_count": null,
      "outputs": [
        {
          "output_type": "stream",
          "name": "stdout",
          "text": [
            "[array([0.36777579, 0.4169479 , 0.43453385, 0.45984497, 0.45639106,\n",
            "       0.46688462, 0.44555474, 0.43854145, 0.43242459, 0.44956233,\n",
            "       0.44086163, 0.46954756, 0.4703649 , 0.47273782, 0.46327252,\n",
            "       0.45958131, 0.47139317, 0.47640266, 0.46142691, 0.45425543,\n",
            "       0.451197  , 0.43168635, 0.43448112, 0.428417  , 0.42614955,\n",
            "       0.42894432, 0.41106834, 0.40969732, 0.42688779, 0.40558426,\n",
            "       0.43558848, 0.43717043, 0.42762603, 0.43263552, 0.43052626,\n",
            "       0.42570133, 0.42854883, 0.43092175, 0.42253744, 0.42622864,\n",
            "       0.42069184, 0.41054103, 0.38443894, 0.41022464, 0.41027737,\n",
            "       0.43738135, 0.44212719, 0.45138157, 0.45346446, 0.45399177,\n",
            "       0.4426545 , 0.45443999, 0.4562065 , 0.4493514 , 0.44885045,\n",
            "       0.45852668, 0.44592386, 0.4435773 , 0.41929445, 0.44104619])]\n",
            "[0.46087323349505027]\n",
            "\n",
            "[array([0.36777579, 0.4169479 , 0.43453385, 0.45984497, 0.45639106,\n",
            "       0.46688462, 0.44555474, 0.43854145, 0.43242459, 0.44956233,\n",
            "       0.44086163, 0.46954756, 0.4703649 , 0.47273782, 0.46327252,\n",
            "       0.45958131, 0.47139317, 0.47640266, 0.46142691, 0.45425543,\n",
            "       0.451197  , 0.43168635, 0.43448112, 0.428417  , 0.42614955,\n",
            "       0.42894432, 0.41106834, 0.40969732, 0.42688779, 0.40558426,\n",
            "       0.43558848, 0.43717043, 0.42762603, 0.43263552, 0.43052626,\n",
            "       0.42570133, 0.42854883, 0.43092175, 0.42253744, 0.42622864,\n",
            "       0.42069184, 0.41054103, 0.38443894, 0.41022464, 0.41027737,\n",
            "       0.43738135, 0.44212719, 0.45138157, 0.45346446, 0.45399177,\n",
            "       0.4426545 , 0.45443999, 0.4562065 , 0.4493514 , 0.44885045,\n",
            "       0.45852668, 0.44592386, 0.4435773 , 0.41929445, 0.44104619]), array([0.4169479 , 0.43453385, 0.45984497, 0.45639106, 0.46688462,\n",
            "       0.44555474, 0.43854145, 0.43242459, 0.44956233, 0.44086163,\n",
            "       0.46954756, 0.4703649 , 0.47273782, 0.46327252, 0.45958131,\n",
            "       0.47139317, 0.47640266, 0.46142691, 0.45425543, 0.451197  ,\n",
            "       0.43168635, 0.43448112, 0.428417  , 0.42614955, 0.42894432,\n",
            "       0.41106834, 0.40969732, 0.42688779, 0.40558426, 0.43558848,\n",
            "       0.43717043, 0.42762603, 0.43263552, 0.43052626, 0.42570133,\n",
            "       0.42854883, 0.43092175, 0.42253744, 0.42622864, 0.42069184,\n",
            "       0.41054103, 0.38443894, 0.41022464, 0.41027737, 0.43738135,\n",
            "       0.44212719, 0.45138157, 0.45346446, 0.45399177, 0.4426545 ,\n",
            "       0.45443999, 0.4562065 , 0.4493514 , 0.44885045, 0.45852668,\n",
            "       0.44592386, 0.4435773 , 0.41929445, 0.44104619, 0.46087323])]\n",
            "[0.46087323349505027, 0.46089959924067614]\n",
            "\n"
          ]
        },
        {
          "output_type": "execute_result",
          "data": {
            "text/plain": [
              "(150, 60, 1)"
            ]
          },
          "metadata": {},
          "execution_count": 74
        }
      ]
    },
    {
      "cell_type": "code",
      "source": [
        "\n",
        "from keras.callbacks import EarlyStopping\n",
        "#es = EarlyStopping(monitor='val_loss')\n",
        "#es = EarlyStopping(monitor='val_loss', mode='min')\n",
        "#es = EarlyStopping(monitor='val_loss', mode='min', verbose=1)\n",
        "es = EarlyStopping(monitor='val_loss', mode='min', verbose=1, patience=50)\n",
        "#es = EarlyStopping(monitor='val_accuracy', mode='max', min_delta=1)\n",
        "#es = EarlyStopping(monitor='val_loss', mode='min', baseline=0.4)\n"
      ],
      "metadata": {
        "id": "sbKDikeBDtYR"
      },
      "execution_count": null,
      "outputs": []
    },
    {
      "cell_type": "code",
      "source": [
        "\n",
        "from keras.models import Sequential\n",
        "from keras.layers import Dense, LSTM, GRU\n",
        "\n",
        "#Build the LSTM/GRU model\n",
        "# LSTM Layer returns whole_seq_output, final_memory_state, and final_carry_state \n",
        "# GRU Layer whole_sequence_output, and final_state\n",
        "model = Sequential()\n",
        "model.add(LSTM(64, return_sequences=True, input_shape= (x_train.shape[1], 1)))\n",
        "\n",
        "model.add(LSTM(128, return_sequences= True))\n",
        "model.add(LSTM(256, return_sequences= False))\n",
        "model.add(Dense(25,activation=\"relu\", kernel_initializer=\"uniform\"))\n",
        "model.add(Dense(1,activation=\"relu\"))\n",
        "#model.add(GRU(64, return_sequences=True, input_shape= (x_train.shape[1], 1)))\n",
        "\n",
        "# model.add(GRU(128, return_sequences= True))\n",
        "# model.add(GRU(256, return_sequences= False))\n",
        "# model.add(Dense(25,activation=\"relu\", kernel_initializer=\"uniform\"))\n",
        "# model.add(Dense(1,activation=\"relu\"))\n",
        "print(model.summary())\n",
        "# Compile the model\n",
        "model.compile(optimizer='adam', loss='mean_squared_error')\n",
        "\n",
        "#Train the model\n",
        "history = model.fit(x_train, y_train, batch_size=1, validation_data=(x_valid, y_valid), epochs=10, callbacks=[es])\n",
        "\n",
        "\n"
      ],
      "metadata": {
        "colab": {
          "base_uri": "https://localhost:8080/"
        },
        "id": "v-_FA5ewB79n",
        "outputId": "82866833-677e-41b3-f44c-4b71f09fe461"
      },
      "execution_count": null,
      "outputs": [
        {
          "output_type": "stream",
          "name": "stdout",
          "text": [
            "Model: \"sequential_3\"\n",
            "_________________________________________________________________\n",
            " Layer (type)                Output Shape              Param #   \n",
            "=================================================================\n",
            " lstm_9 (LSTM)               (None, 60, 64)            16896     \n",
            "                                                                 \n",
            " lstm_10 (LSTM)              (None, 60, 128)           98816     \n",
            "                                                                 \n",
            " lstm_11 (LSTM)              (None, 256)               394240    \n",
            "                                                                 \n",
            " dense_6 (Dense)             (None, 25)                6425      \n",
            "                                                                 \n",
            " dense_7 (Dense)             (None, 1)                 26        \n",
            "                                                                 \n",
            "=================================================================\n",
            "Total params: 516,403\n",
            "Trainable params: 516,403\n",
            "Non-trainable params: 0\n",
            "_________________________________________________________________\n",
            "None\n",
            "Epoch 1/10\n",
            "2640/2640 [==============================] - 273s 102ms/step - loss: 0.0024 - val_loss: 1.2332e-04\n",
            "Epoch 2/10\n",
            "2640/2640 [==============================] - 267s 101ms/step - loss: 9.2691e-04 - val_loss: 1.0131e-04\n",
            "Epoch 3/10\n",
            "2640/2640 [==============================] - 267s 101ms/step - loss: 9.3159e-04 - val_loss: 0.0010\n",
            "Epoch 4/10\n",
            "2640/2640 [==============================] - 266s 101ms/step - loss: 9.5294e-04 - val_loss: 3.7898e-04\n",
            "Epoch 5/10\n",
            "2640/2640 [==============================] - 268s 102ms/step - loss: 8.3904e-04 - val_loss: 1.0368e-04\n",
            "Epoch 6/10\n",
            "2640/2640 [==============================] - 266s 101ms/step - loss: 7.7028e-04 - val_loss: 1.0493e-04\n",
            "Epoch 7/10\n",
            "2640/2640 [==============================] - 265s 100ms/step - loss: 7.4180e-04 - val_loss: 1.1039e-04\n",
            "Epoch 8/10\n",
            "2640/2640 [==============================] - 268s 101ms/step - loss: 7.0340e-04 - val_loss: 7.4695e-04\n",
            "Epoch 9/10\n",
            "2640/2640 [==============================] - 268s 101ms/step - loss: 7.0759e-04 - val_loss: 4.5962e-04\n",
            "Epoch 10/10\n",
            "2640/2640 [==============================] - 272s 103ms/step - loss: 6.8138e-04 - val_loss: 4.7956e-04\n"
          ]
        }
      ]
    },
    {
      "cell_type": "code",
      "source": [
        "import matplotlib.pyplot as plt\n",
        "loss = history.history['loss']\n",
        "val_loss = history.history['val_loss']\n",
        "epochs = range(len(loss)) \n",
        "plt.plot(epochs, loss, 'b', label='Training loss')\n",
        "plt.plot(epochs, val_loss, 'r', label='Validation loss')\n",
        "plt.title('Training and validation loss')\n",
        "plt.legend()\n",
        "plt.show()\n",
        "\n"
      ],
      "metadata": {
        "colab": {
          "base_uri": "https://localhost:8080/",
          "height": 281
        },
        "id": "a-rl1BA6D9LG",
        "outputId": "6cc6c00d-8277-4b52-c4bc-b06b37883060"
      },
      "execution_count": null,
      "outputs": [
        {
          "output_type": "display_data",
          "data": {
            "text/plain": [
              "<Figure size 432x288 with 1 Axes>"
            ],
            "image/png": "[encoded data removed]"
          },
          "metadata": {
            "needs_background": "light"
          }
        }
      ]
    },
    {
      "cell_type": "code",
      "source": [
        "test_data = scaled_data[training_data_len + validation_data_len - 60: , :]\n",
        "#Create the data sets x_test and y_test\n",
        "x_test = []\n",
        "y_test = dataset[training_data_len + validation_data_len:, :]\n",
        "for i in range(60, len(test_data)):\n",
        "    x_test.append(test_data[i-60:i, 0])\n",
        "    \n",
        "# Convert the data to a numpy array\n",
        "x_test = np.array(x_test)\n",
        "\n",
        "# Reshape the data\n",
        "x_test = np.reshape(x_test, (x_test.shape[0], x_test.shape[1], 1 ))\n",
        "\n",
        "# Get the models predicted price values \n",
        "predictions = model.predict(x_test)\n",
        "predictions = scaler.inverse_transform(predictions)\n",
        "\n",
        "# Get the root mean squared error (RMSE)\n",
        "rmse = np.sqrt(np.mean(((predictions - y_test) ** 2)))\n",
        "rmse\n",
        "\n"
      ],
      "metadata": {
        "colab": {
          "base_uri": "https://localhost:8080/"
        },
        "id": "0021ZRF4TwXx",
        "outputId": "42021e79-8b12-45dc-e1e5-ae56b9dd4bd0"
      },
      "execution_count": null,
      "outputs": [
        {
          "output_type": "execute_result",
          "data": {
            "text/plain": [
              "0.4394300916676925"
            ]
          },
          "metadata": {},
          "execution_count": 78
        }
      ]
    },
    {
      "cell_type": "code",
      "source": [
        "train = data[:training_data_len]\n",
        "valid = data[training_data_len : training_data_len + validation_data_len]\n",
        "test = data[training_data_len + validation_data_len:]\n",
        "test['Predictions'] = predictions\n",
        "# Visualize the data\n",
        "plt.figure(figsize=(16,8))\n",
        "plt.title('Model')\n",
        "plt.xlabel('Date', fontsize=18)\n",
        "plt.ylabel('Close Price USD ($)', fontsize=18)\n",
        "plt.plot(train['Close'])\n",
        "plt.plot(valid[['Close']])\n",
        "plt.plot(test[['Close','Predictions' ]])\n",
        "plt.legend(['Train', 'Valid',  'Test', 'Predictions'], loc='lower right')\n",
        "plt.show()\n",
        "\n"
      ],
      "metadata": {
        "colab": {
          "base_uri": "https://localhost:8080/",
          "height": 666
        },
        "id": "rqblP7FUT2jO",
        "outputId": "7e9a7cf3-101e-448f-e7bf-8f8cccc34109"
      },
      "execution_count": null,
      "outputs": [
        {
          "output_type": "stream",
          "name": "stderr",
          "text": [
            "/usr/local/lib/python3.7/dist-packages/ipykernel_launcher.py:4: SettingWithCopyWarning:\n",
            "\n",
            "\n",
            "A value is trying to be set on a copy of a slice from a DataFrame.\n",
            "Try using .loc[row_indexer,col_indexer] = value instead\n",
            "\n",
            "See the caveats in the documentation: https://pandas.pydata.org/pandas-docs/stable/user_guide/indexing.html#returning-a-view-versus-a-copy\n",
            "\n"
          ]
        },
        {
          "output_type": "display_data",
          "data": {
            "text/plain": [
              "<Figure size 1152x576 with 1 Axes>"
            ],
            "image/png": "[encoded data removed]"
          },
          "metadata": {
            "needs_background": "light"
          }
        }
      ]
    },
    {
      "cell_type": "markdown",
      "source": [
        "# New Section"
      ],
      "metadata": {
        "id": "1T4WnR4xUD-5"
      }
    }
  ],
  "metadata": {
    "colab": {
      "collapsed_sections": [],
      "name": "My_project.ipynb",
      "provenance": [],
      "mount_file_id": "1DBujUnjswVdnDx01O3XAyGN5zvVr0Wwg",
      "authorship_tag": "ABX9TyPFnpOcmlB85YoUcFEvJr9b",
      "include_colab_link": true
    },
    "kernelspec": {
      "display_name": "Python 3",
      "name": "python3"
    },
    "language_info": {
      "name": "python"
    }
  },
  "nbformat": 4,
  "nbformat_minor": 0
}