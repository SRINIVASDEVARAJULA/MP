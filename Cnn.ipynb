{
  "nbformat": 4,
  "nbformat_minor": 0,
  "metadata": {
    "colab": {
      "name": "My_project.ipynb",
      "provenance": [],
      "collapsed_sections": [],
      "history_visible": true,
      "mount_file_id": "1DBujUnjswVdnDx01O3XAyGN5zvVr0Wwg",
      "authorship_tag": "ABX9TyPqajlEp5sAKinG7yH/Q8cp",
      "include_colab_link": true
    },
    "kernelspec": {
      "name": "python3",
      "display_name": "Python 3"
    },
    "language_info": {
      "name": "python"
    }
  },
  "cells": [
    {
      "cell_type": "markdown",
      "metadata": {
        "id": "view-in-github",
        "colab_type": "text"
      },
      "source": [
        "<a href=\"https://colab.research.google.com/github/SRINIVASDEVARAJULA/MP/blob/main/Cnn.ipynb\" target=\"_parent\"><img src=\"https://colab.research.google.com/assets/colab-badge.svg\" alt=\"Open In Colab\"/></a>"
      ]
    },
    {
      "cell_type": "code",
      "execution_count": 67,
      "metadata": {
        "id": "Ixx8yjyPc3q7"
      },
      "outputs": [],
      "source": [
        "import numpy as np\n",
        "import pandas as pd\n",
        "import matplotlib.pyplot as plt\n",
        "%matplotlib inline\n",
        "from sklearn.preprocessing import MinMaxScaler"
      ]
    },
    {
      "cell_type": "code",
      "source": [
        "import tensorflow as tf\n",
        "from tensorflow import keras"
      ],
      "metadata": {
        "id": "y_oezUv8c8MJ"
      },
      "execution_count": 68,
      "outputs": []
    },
    {
      "cell_type": "code",
      "source": [
        "print(tf.__version__)"
      ],
      "metadata": {
        "colab": {
          "base_uri": "https://localhost:8080/"
        },
        "id": "oUBN_opVdAaP",
        "outputId": "4e73743c-9f35-44c3-b0cb-2ae6c9f23250"
      },
      "execution_count": 69,
      "outputs": [
        {
          "output_type": "stream",
          "name": "stdout",
          "text": [
            "2.8.0\n"
          ]
        }
      ]
    },
    {
      "cell_type": "code",
      "source": [
        "np.random.seed(19)"
      ],
      "metadata": {
        "id": "bde2CkpTdDej"
      },
      "execution_count": 70,
      "outputs": []
    },
    {
      "cell_type": "code",
      "source": [
        "df=pd.read_csv(\"combinedSample_GoldDs.csv\")"
      ],
      "metadata": {
        "id": "TMPV6WNcdLLx"
      },
      "execution_count": 71,
      "outputs": []
    },
    {
      "cell_type": "code",
      "source": [
        "df.head()"
      ],
      "metadata": {
        "colab": {
          "base_uri": "https://localhost:8080/",
          "height": 418
        },
        "id": "hQCVtVRxzx90",
        "outputId": "f1cc5dd9-17d7-4bd9-8424-1801c54856e3"
      },
      "execution_count": 72,
      "outputs": [
        {
          "output_type": "execute_result",
          "data": {
            "text/plain": [
              "                         Local time  Open_Bid  High_Bid   Low_Bid  Close_Bid  \\\n",
              "0  14.03.2021 22:00:00.000 GMT-0000  1727.188  1729.078  1727.068   1728.258   \n",
              "1  14.03.2021 22:01:00.000 GMT-0000  1728.425  1729.821  1728.415   1729.424   \n",
              "2  14.03.2021 22:02:00.000 GMT-0000  1729.468  1730.298  1729.404   1730.118   \n",
              "3  14.03.2021 22:03:00.000 GMT-0000  1730.118  1730.304  1728.971   1729.141   \n",
              "4  14.03.2021 22:04:00.000 GMT-0000  1729.141  1729.431  1728.318   1728.708   \n",
              "\n",
              "   Volume_Bid  Open_Ask  High_Ask   Low_Ask  Close_Ask  Volume_Ask  \n",
              "0  64608.9986  1727.662  1730.222  1727.646   1729.522  61275.0016  \n",
              "1  71534.9987  1729.522  1730.421  1729.442   1730.405  80849.9977  \n",
              "2  38320.0012  1730.405  1730.611  1730.275   1730.545  59829.9988  \n",
              "3  26130.0001  1730.535  1730.625  1729.425   1729.765  36355.0000  \n",
              "4  30500.0003  1729.676  1729.862  1728.835   1729.219  49090.0017  "
            ],
            "text/html": [
              "\n",
              "  <div id=\"df-3d517d8c-b3fd-4fe3-81dc-b1fd46d0234a\">\n",
              "    <div class=\"colab-df-container\">\n",
              "      <div>\n",
              "<style scoped>\n",
              "    .dataframe tbody tr th:only-of-type {\n",
              "        vertical-align: middle;\n",
              "    }\n",
              "\n",
              "    .dataframe tbody tr th {\n",
              "        vertical-align: top;\n",
              "    }\n",
              "\n",
              "    .dataframe thead th {\n",
              "        text-align: right;\n",
              "    }\n",
              "</style>\n",
              "<table border=\"1\" class=\"dataframe\">\n",
              "  <thead>\n",
              "    <tr style=\"text-align: right;\">\n",
              "      <th></th>\n",
              "      <th>Local time</th>\n",
              "      <th>Open_Bid</th>\n",
              "      <th>High_Bid</th>\n",
              "      <th>Low_Bid</th>\n",
              "      <th>Close_Bid</th>\n",
              "      <th>Volume_Bid</th>\n",
              "      <th>Open_Ask</th>\n",
              "      <th>High_Ask</th>\n",
              "      <th>Low_Ask</th>\n",
              "      <th>Close_Ask</th>\n",
              "      <th>Volume_Ask</th>\n",
              "    </tr>\n",
              "  </thead>\n",
              "  <tbody>\n",
              "    <tr>\n",
              "      <th>0</th>\n",
              "      <td>14.03.2021 22:00:00.000 GMT-0000</td>\n",
              "      <td>1727.188</td>\n",
              "      <td>1729.078</td>\n",
              "      <td>1727.068</td>\n",
              "      <td>1728.258</td>\n",
              "      <td>64608.9986</td>\n",
              "      <td>1727.662</td>\n",
              "      <td>1730.222</td>\n",
              "      <td>1727.646</td>\n",
              "      <td>1729.522</td>\n",
              "      <td>61275.0016</td>\n",
              "    </tr>\n",
              "    <tr>\n",
              "      <th>1</th>\n",
              "      <td>14.03.2021 22:01:00.000 GMT-0000</td>\n",
              "      <td>1728.425</td>\n",
              "      <td>1729.821</td>\n",
              "      <td>1728.415</td>\n",
              "      <td>1729.424</td>\n",
              "      <td>71534.9987</td>\n",
              "      <td>1729.522</td>\n",
              "      <td>1730.421</td>\n",
              "      <td>1729.442</td>\n",
              "      <td>1730.405</td>\n",
              "      <td>80849.9977</td>\n",
              "    </tr>\n",
              "    <tr>\n",
              "      <th>2</th>\n",
              "      <td>14.03.2021 22:02:00.000 GMT-0000</td>\n",
              "      <td>1729.468</td>\n",
              "      <td>1730.298</td>\n",
              "      <td>1729.404</td>\n",
              "      <td>1730.118</td>\n",
              "      <td>38320.0012</td>\n",
              "      <td>1730.405</td>\n",
              "      <td>1730.611</td>\n",
              "      <td>1730.275</td>\n",
              "      <td>1730.545</td>\n",
              "      <td>59829.9988</td>\n",
              "    </tr>\n",
              "    <tr>\n",
              "      <th>3</th>\n",
              "      <td>14.03.2021 22:03:00.000 GMT-0000</td>\n",
              "      <td>1730.118</td>\n",
              "      <td>1730.304</td>\n",
              "      <td>1728.971</td>\n",
              "      <td>1729.141</td>\n",
              "      <td>26130.0001</td>\n",
              "      <td>1730.535</td>\n",
              "      <td>1730.625</td>\n",
              "      <td>1729.425</td>\n",
              "      <td>1729.765</td>\n",
              "      <td>36355.0000</td>\n",
              "    </tr>\n",
              "    <tr>\n",
              "      <th>4</th>\n",
              "      <td>14.03.2021 22:04:00.000 GMT-0000</td>\n",
              "      <td>1729.141</td>\n",
              "      <td>1729.431</td>\n",
              "      <td>1728.318</td>\n",
              "      <td>1728.708</td>\n",
              "      <td>30500.0003</td>\n",
              "      <td>1729.676</td>\n",
              "      <td>1729.862</td>\n",
              "      <td>1728.835</td>\n",
              "      <td>1729.219</td>\n",
              "      <td>49090.0017</td>\n",
              "    </tr>\n",
              "  </tbody>\n",
              "</table>\n",
              "</div>\n",
              "      <button class=\"colab-df-convert\" onclick=\"convertToInteractive('df-3d517d8c-b3fd-4fe3-81dc-b1fd46d0234a')\"\n",
              "              title=\"Convert this dataframe to an interactive table.\"\n",
              "              style=\"display:none;\">\n",
              "        \n",
              "  <svg xmlns=\"http://www.w3.org/2000/svg\" height=\"24px\"viewBox=\"0 0 24 24\"\n",
              "       width=\"24px\">\n",
              "    <path d=\"M0 0h24v24H0V0z\" fill=\"none\"/>\n",
              "    <path d=\"M18.56 5.44l.94 2.06.94-2.06 2.06-.94-2.06-.94-.94-2.06-.94 2.06-2.06.94zm-11 1L8.5 8.5l.94-2.06 2.06-.94-2.06-.94L8.5 2.5l-.94 2.06-2.06.94zm10 10l.94 2.06.94-2.06 2.06-.94-2.06-.94-.94-2.06-.94 2.06-2.06.94z\"/><path d=\"M17.41 7.96l-1.37-1.37c-.4-.4-.92-.59-1.43-.59-.52 0-1.04.2-1.43.59L10.3 9.45l-7.72 7.72c-.78.78-.78 2.05 0 2.83L4 21.41c.39.39.9.59 1.41.59.51 0 1.02-.2 1.41-.59l7.78-7.78 2.81-2.81c.8-.78.8-2.07 0-2.86zM5.41 20L4 18.59l7.72-7.72 1.47 1.35L5.41 20z\"/>\n",
              "  </svg>\n",
              "      </button>\n",
              "      \n",
              "  <style>\n",
              "    .colab-df-container {\n",
              "      display:flex;\n",
              "      flex-wrap:wrap;\n",
              "      gap: 12px;\n",
              "    }\n",
              "\n",
              "    .colab-df-convert {\n",
              "      background-color: #E8F0FE;\n",
              "      border: none;\n",
              "      border-radius: 50%;\n",
              "      cursor: pointer;\n",
              "      display: none;\n",
              "      fill: #1967D2;\n",
              "      height: 32px;\n",
              "      padding: 0 0 0 0;\n",
              "      width: 32px;\n",
              "    }\n",
              "\n",
              "    .colab-df-convert:hover {\n",
              "      background-color: #E2EBFA;\n",
              "      box-shadow: 0px 1px 2px rgba(60, 64, 67, 0.3), 0px 1px 3px 1px rgba(60, 64, 67, 0.15);\n",
              "      fill: #174EA6;\n",
              "    }\n",
              "\n",
              "    [theme=dark] .colab-df-convert {\n",
              "      background-color: #3B4455;\n",
              "      fill: #D2E3FC;\n",
              "    }\n",
              "\n",
              "    [theme=dark] .colab-df-convert:hover {\n",
              "      background-color: #434B5C;\n",
              "      box-shadow: 0px 1px 3px 1px rgba(0, 0, 0, 0.15);\n",
              "      filter: drop-shadow(0px 1px 2px rgba(0, 0, 0, 0.3));\n",
              "      fill: #FFFFFF;\n",
              "    }\n",
              "  </style>\n",
              "\n",
              "      <script>\n",
              "        const buttonEl =\n",
              "          document.querySelector('#df-3d517d8c-b3fd-4fe3-81dc-b1fd46d0234a button.colab-df-convert');\n",
              "        buttonEl.style.display =\n",
              "          google.colab.kernel.accessAllowed ? 'block' : 'none';\n",
              "\n",
              "        async function convertToInteractive(key) {\n",
              "          const element = document.querySelector('#df-3d517d8c-b3fd-4fe3-81dc-b1fd46d0234a');\n",
              "          const dataTable =\n",
              "            await google.colab.kernel.invokeFunction('convertToInteractive',\n",
              "                                                     [key], {});\n",
              "          if (!dataTable) return;\n",
              "\n",
              "          const docLinkHtml = 'Like what you see? Visit the ' +\n",
              "            '<a target=\"_blank\" href=https://colab.research.google.com/notebooks/data_table.ipynb>data table notebook</a>'\n",
              "            + ' to learn more about interactive tables.';\n",
              "          element.innerHTML = '';\n",
              "          dataTable['output_type'] = 'display_data';\n",
              "          await google.colab.output.renderOutput(dataTable, element);\n",
              "          const docLink = document.createElement('div');\n",
              "          docLink.innerHTML = docLinkHtml;\n",
              "          element.appendChild(docLink);\n",
              "        }\n",
              "      </script>\n",
              "    </div>\n",
              "  </div>\n",
              "  "
            ]
          },
          "metadata": {},
          "execution_count": 72
        }
      ]
    },
    {
      "cell_type": "code",
      "source": [
        "df[\"Open\"]=(df[\"Open_Bid\"]+df[\"Open_Ask\"])/2\n",
        "df[\"High\"]=(df[\"High_Bid\"]+df[\"High_Ask\"])/2\n",
        "df[\"Low\"]=(df[\"Low_Bid\"]+df[\"Low_Ask\"])/2\n",
        "df[\"Close\"]=(df[\"Close_Bid\"]+df[\"Close_Ask\"])/2"
      ],
      "metadata": {
        "id": "7sp2eSVhBvMF"
      },
      "execution_count": 73,
      "outputs": []
    },
    {
      "cell_type": "code",
      "source": [
        "df.shape"
      ],
      "metadata": {
        "colab": {
          "base_uri": "https://localhost:8080/"
        },
        "id": "TVUOw8POqH1D",
        "outputId": "3ebc89a5-8542-4343-cab1-aa1b63eb9b28"
      },
      "execution_count": 75,
      "outputs": [
        {
          "output_type": "execute_result",
          "data": {
            "text/plain": [
              "(371279, 15)"
            ]
          },
          "metadata": {},
          "execution_count": 75
        }
      ]
    },
    {
      "cell_type": "code",
      "source": [
        "df.head()"
      ],
      "metadata": {
        "colab": {
          "base_uri": "https://localhost:8080/",
          "height": 455
        },
        "id": "ZTcmpmqrCDMO",
        "outputId": "bb58602a-9aad-48ef-9c38-096c80fed3c6"
      },
      "execution_count": 76,
      "outputs": [
        {
          "output_type": "execute_result",
          "data": {
            "text/plain": [
              "                         Local time  Open_Bid  High_Bid   Low_Bid  Close_Bid  \\\n",
              "0  14.03.2021 22:00:00.000 GMT-0000  1727.188  1729.078  1727.068   1728.258   \n",
              "1  14.03.2021 22:01:00.000 GMT-0000  1728.425  1729.821  1728.415   1729.424   \n",
              "2  14.03.2021 22:02:00.000 GMT-0000  1729.468  1730.298  1729.404   1730.118   \n",
              "3  14.03.2021 22:03:00.000 GMT-0000  1730.118  1730.304  1728.971   1729.141   \n",
              "4  14.03.2021 22:04:00.000 GMT-0000  1729.141  1729.431  1728.318   1728.708   \n",
              "\n",
              "   Volume_Bid  Open_Ask  High_Ask   Low_Ask  Close_Ask  Volume_Ask       Open  \\\n",
              "0  64608.9986  1727.662  1730.222  1727.646   1729.522  61275.0016  1727.4250   \n",
              "1  71534.9987  1729.522  1730.421  1729.442   1730.405  80849.9977  1728.9735   \n",
              "2  38320.0012  1730.405  1730.611  1730.275   1730.545  59829.9988  1729.9365   \n",
              "3  26130.0001  1730.535  1730.625  1729.425   1729.765  36355.0000  1730.3265   \n",
              "4  30500.0003  1729.676  1729.862  1728.835   1729.219  49090.0017  1729.4085   \n",
              "\n",
              "        High        Low      Close  \n",
              "0  1729.6500  1727.3570  1728.8900  \n",
              "1  1730.1210  1728.9285  1729.9145  \n",
              "2  1730.4545  1729.8395  1730.3315  \n",
              "3  1730.4645  1729.1980  1729.4530  \n",
              "4  1729.6465  1728.5765  1728.9635  "
            ],
            "text/html": [
              "\n",
              "  <div id=\"df-b72092ab-6948-4942-89fe-5e1ec915f5bd\">\n",
              "    <div class=\"colab-df-container\">\n",
              "      <div>\n",
              "<style scoped>\n",
              "    .dataframe tbody tr th:only-of-type {\n",
              "        vertical-align: middle;\n",
              "    }\n",
              "\n",
              "    .dataframe tbody tr th {\n",
              "        vertical-align: top;\n",
              "    }\n",
              "\n",
              "    .dataframe thead th {\n",
              "        text-align: right;\n",
              "    }\n",
              "</style>\n",
              "<table border=\"1\" class=\"dataframe\">\n",
              "  <thead>\n",
              "    <tr style=\"text-align: right;\">\n",
              "      <th></th>\n",
              "      <th>Local time</th>\n",
              "      <th>Open_Bid</th>\n",
              "      <th>High_Bid</th>\n",
              "      <th>Low_Bid</th>\n",
              "      <th>Close_Bid</th>\n",
              "      <th>Volume_Bid</th>\n",
              "      <th>Open_Ask</th>\n",
              "      <th>High_Ask</th>\n",
              "      <th>Low_Ask</th>\n",
              "      <th>Close_Ask</th>\n",
              "      <th>Volume_Ask</th>\n",
              "      <th>Open</th>\n",
              "      <th>High</th>\n",
              "      <th>Low</th>\n",
              "      <th>Close</th>\n",
              "    </tr>\n",
              "  </thead>\n",
              "  <tbody>\n",
              "    <tr>\n",
              "      <th>0</th>\n",
              "      <td>14.03.2021 22:00:00.000 GMT-0000</td>\n",
              "      <td>1727.188</td>\n",
              "      <td>1729.078</td>\n",
              "      <td>1727.068</td>\n",
              "      <td>1728.258</td>\n",
              "      <td>64608.9986</td>\n",
              "      <td>1727.662</td>\n",
              "      <td>1730.222</td>\n",
              "      <td>1727.646</td>\n",
              "      <td>1729.522</td>\n",
              "      <td>61275.0016</td>\n",
              "      <td>1727.4250</td>\n",
              "      <td>1729.6500</td>\n",
              "      <td>1727.3570</td>\n",
              "      <td>1728.8900</td>\n",
              "    </tr>\n",
              "    <tr>\n",
              "      <th>1</th>\n",
              "      <td>14.03.2021 22:01:00.000 GMT-0000</td>\n",
              "      <td>1728.425</td>\n",
              "      <td>1729.821</td>\n",
              "      <td>1728.415</td>\n",
              "      <td>1729.424</td>\n",
              "      <td>71534.9987</td>\n",
              "      <td>1729.522</td>\n",
              "      <td>1730.421</td>\n",
              "      <td>1729.442</td>\n",
              "      <td>1730.405</td>\n",
              "      <td>80849.9977</td>\n",
              "      <td>1728.9735</td>\n",
              "      <td>1730.1210</td>\n",
              "      <td>1728.9285</td>\n",
              "      <td>1729.9145</td>\n",
              "    </tr>\n",
              "    <tr>\n",
              "      <th>2</th>\n",
              "      <td>14.03.2021 22:02:00.000 GMT-0000</td>\n",
              "      <td>1729.468</td>\n",
              "      <td>1730.298</td>\n",
              "      <td>1729.404</td>\n",
              "      <td>1730.118</td>\n",
              "      <td>38320.0012</td>\n",
              "      <td>1730.405</td>\n",
              "      <td>1730.611</td>\n",
              "      <td>1730.275</td>\n",
              "      <td>1730.545</td>\n",
              "      <td>59829.9988</td>\n",
              "      <td>1729.9365</td>\n",
              "      <td>1730.4545</td>\n",
              "      <td>1729.8395</td>\n",
              "      <td>1730.3315</td>\n",
              "    </tr>\n",
              "    <tr>\n",
              "      <th>3</th>\n",
              "      <td>14.03.2021 22:03:00.000 GMT-0000</td>\n",
              "      <td>1730.118</td>\n",
              "      <td>1730.304</td>\n",
              "      <td>1728.971</td>\n",
              "      <td>1729.141</td>\n",
              "      <td>26130.0001</td>\n",
              "      <td>1730.535</td>\n",
              "      <td>1730.625</td>\n",
              "      <td>1729.425</td>\n",
              "      <td>1729.765</td>\n",
              "      <td>36355.0000</td>\n",
              "      <td>1730.3265</td>\n",
              "      <td>1730.4645</td>\n",
              "      <td>1729.1980</td>\n",
              "      <td>1729.4530</td>\n",
              "    </tr>\n",
              "    <tr>\n",
              "      <th>4</th>\n",
              "      <td>14.03.2021 22:04:00.000 GMT-0000</td>\n",
              "      <td>1729.141</td>\n",
              "      <td>1729.431</td>\n",
              "      <td>1728.318</td>\n",
              "      <td>1728.708</td>\n",
              "      <td>30500.0003</td>\n",
              "      <td>1729.676</td>\n",
              "      <td>1729.862</td>\n",
              "      <td>1728.835</td>\n",
              "      <td>1729.219</td>\n",
              "      <td>49090.0017</td>\n",
              "      <td>1729.4085</td>\n",
              "      <td>1729.6465</td>\n",
              "      <td>1728.5765</td>\n",
              "      <td>1728.9635</td>\n",
              "    </tr>\n",
              "  </tbody>\n",
              "</table>\n",
              "</div>\n",
              "      <button class=\"colab-df-convert\" onclick=\"convertToInteractive('df-b72092ab-6948-4942-89fe-5e1ec915f5bd')\"\n",
              "              title=\"Convert this dataframe to an interactive table.\"\n",
              "              style=\"display:none;\">\n",
              "        \n",
              "  <svg xmlns=\"http://www.w3.org/2000/svg\" height=\"24px\"viewBox=\"0 0 24 24\"\n",
              "       width=\"24px\">\n",
              "    <path d=\"M0 0h24v24H0V0z\" fill=\"none\"/>\n",
              "    <path d=\"M18.56 5.44l.94 2.06.94-2.06 2.06-.94-2.06-.94-.94-2.06-.94 2.06-2.06.94zm-11 1L8.5 8.5l.94-2.06 2.06-.94-2.06-.94L8.5 2.5l-.94 2.06-2.06.94zm10 10l.94 2.06.94-2.06 2.06-.94-2.06-.94-.94-2.06-.94 2.06-2.06.94z\"/><path d=\"M17.41 7.96l-1.37-1.37c-.4-.4-.92-.59-1.43-.59-.52 0-1.04.2-1.43.59L10.3 9.45l-7.72 7.72c-.78.78-.78 2.05 0 2.83L4 21.41c.39.39.9.59 1.41.59.51 0 1.02-.2 1.41-.59l7.78-7.78 2.81-2.81c.8-.78.8-2.07 0-2.86zM5.41 20L4 18.59l7.72-7.72 1.47 1.35L5.41 20z\"/>\n",
              "  </svg>\n",
              "      </button>\n",
              "      \n",
              "  <style>\n",
              "    .colab-df-container {\n",
              "      display:flex;\n",
              "      flex-wrap:wrap;\n",
              "      gap: 12px;\n",
              "    }\n",
              "\n",
              "    .colab-df-convert {\n",
              "      background-color: #E8F0FE;\n",
              "      border: none;\n",
              "      border-radius: 50%;\n",
              "      cursor: pointer;\n",
              "      display: none;\n",
              "      fill: #1967D2;\n",
              "      height: 32px;\n",
              "      padding: 0 0 0 0;\n",
              "      width: 32px;\n",
              "    }\n",
              "\n",
              "    .colab-df-convert:hover {\n",
              "      background-color: #E2EBFA;\n",
              "      box-shadow: 0px 1px 2px rgba(60, 64, 67, 0.3), 0px 1px 3px 1px rgba(60, 64, 67, 0.15);\n",
              "      fill: #174EA6;\n",
              "    }\n",
              "\n",
              "    [theme=dark] .colab-df-convert {\n",
              "      background-color: #3B4455;\n",
              "      fill: #D2E3FC;\n",
              "    }\n",
              "\n",
              "    [theme=dark] .colab-df-convert:hover {\n",
              "      background-color: #434B5C;\n",
              "      box-shadow: 0px 1px 3px 1px rgba(0, 0, 0, 0.15);\n",
              "      filter: drop-shadow(0px 1px 2px rgba(0, 0, 0, 0.3));\n",
              "      fill: #FFFFFF;\n",
              "    }\n",
              "  </style>\n",
              "\n",
              "      <script>\n",
              "        const buttonEl =\n",
              "          document.querySelector('#df-b72092ab-6948-4942-89fe-5e1ec915f5bd button.colab-df-convert');\n",
              "        buttonEl.style.display =\n",
              "          google.colab.kernel.accessAllowed ? 'block' : 'none';\n",
              "\n",
              "        async function convertToInteractive(key) {\n",
              "          const element = document.querySelector('#df-b72092ab-6948-4942-89fe-5e1ec915f5bd');\n",
              "          const dataTable =\n",
              "            await google.colab.kernel.invokeFunction('convertToInteractive',\n",
              "                                                     [key], {});\n",
              "          if (!dataTable) return;\n",
              "\n",
              "          const docLinkHtml = 'Like what you see? Visit the ' +\n",
              "            '<a target=\"_blank\" href=https://colab.research.google.com/notebooks/data_table.ipynb>data table notebook</a>'\n",
              "            + ' to learn more about interactive tables.';\n",
              "          element.innerHTML = '';\n",
              "          dataTable['output_type'] = 'display_data';\n",
              "          await google.colab.output.renderOutput(dataTable, element);\n",
              "          const docLink = document.createElement('div');\n",
              "          docLink.innerHTML = docLinkHtml;\n",
              "          element.appendChild(docLink);\n",
              "        }\n",
              "      </script>\n",
              "    </div>\n",
              "  </div>\n",
              "  "
            ]
          },
          "metadata": {},
          "execution_count": 76
        }
      ]
    },
    {
      "cell_type": "code",
      "source": [
        "data=df.drop(['Local time','Open_Bid','High_Bid','Low_Bid','Close_Bid','Open_Ask','High_Ask','Low_Ask','Close_Ask'],axis=1)"
      ],
      "metadata": {
        "id": "RNEe8aeZCE0o"
      },
      "execution_count": 77,
      "outputs": []
    },
    {
      "cell_type": "code",
      "source": [
        "data.head()"
      ],
      "metadata": {
        "colab": {
          "base_uri": "https://localhost:8080/",
          "height": 204
        },
        "id": "7ORtyQoEC9LG",
        "outputId": "7feea8d2-5787-465f-ed69-824bb83e2e2b"
      },
      "execution_count": 78,
      "outputs": [
        {
          "output_type": "execute_result",
          "data": {
            "text/plain": [
              "   Volume_Bid  Volume_Ask       Open       High        Low      Close\n",
              "0  64608.9986  61275.0016  1727.4250  1729.6500  1727.3570  1728.8900\n",
              "1  71534.9987  80849.9977  1728.9735  1730.1210  1728.9285  1729.9145\n",
              "2  38320.0012  59829.9988  1729.9365  1730.4545  1729.8395  1730.3315\n",
              "3  26130.0001  36355.0000  1730.3265  1730.4645  1729.1980  1729.4530\n",
              "4  30500.0003  49090.0017  1729.4085  1729.6465  1728.5765  1728.9635"
            ],
            "text/html": [
              "\n",
              "  <div id=\"df-eeb491cf-b13d-45e0-9f8b-d13db303d854\">\n",
              "    <div class=\"colab-df-container\">\n",
              "      <div>\n",
              "<style scoped>\n",
              "    .dataframe tbody tr th:only-of-type {\n",
              "        vertical-align: middle;\n",
              "    }\n",
              "\n",
              "    .dataframe tbody tr th {\n",
              "        vertical-align: top;\n",
              "    }\n",
              "\n",
              "    .dataframe thead th {\n",
              "        text-align: right;\n",
              "    }\n",
              "</style>\n",
              "<table border=\"1\" class=\"dataframe\">\n",
              "  <thead>\n",
              "    <tr style=\"text-align: right;\">\n",
              "      <th></th>\n",
              "      <th>Volume_Bid</th>\n",
              "      <th>Volume_Ask</th>\n",
              "      <th>Open</th>\n",
              "      <th>High</th>\n",
              "      <th>Low</th>\n",
              "      <th>Close</th>\n",
              "    </tr>\n",
              "  </thead>\n",
              "  <tbody>\n",
              "    <tr>\n",
              "      <th>0</th>\n",
              "      <td>64608.9986</td>\n",
              "      <td>61275.0016</td>\n",
              "      <td>1727.4250</td>\n",
              "      <td>1729.6500</td>\n",
              "      <td>1727.3570</td>\n",
              "      <td>1728.8900</td>\n",
              "    </tr>\n",
              "    <tr>\n",
              "      <th>1</th>\n",
              "      <td>71534.9987</td>\n",
              "      <td>80849.9977</td>\n",
              "      <td>1728.9735</td>\n",
              "      <td>1730.1210</td>\n",
              "      <td>1728.9285</td>\n",
              "      <td>1729.9145</td>\n",
              "    </tr>\n",
              "    <tr>\n",
              "      <th>2</th>\n",
              "      <td>38320.0012</td>\n",
              "      <td>59829.9988</td>\n",
              "      <td>1729.9365</td>\n",
              "      <td>1730.4545</td>\n",
              "      <td>1729.8395</td>\n",
              "      <td>1730.3315</td>\n",
              "    </tr>\n",
              "    <tr>\n",
              "      <th>3</th>\n",
              "      <td>26130.0001</td>\n",
              "      <td>36355.0000</td>\n",
              "      <td>1730.3265</td>\n",
              "      <td>1730.4645</td>\n",
              "      <td>1729.1980</td>\n",
              "      <td>1729.4530</td>\n",
              "    </tr>\n",
              "    <tr>\n",
              "      <th>4</th>\n",
              "      <td>30500.0003</td>\n",
              "      <td>49090.0017</td>\n",
              "      <td>1729.4085</td>\n",
              "      <td>1729.6465</td>\n",
              "      <td>1728.5765</td>\n",
              "      <td>1728.9635</td>\n",
              "    </tr>\n",
              "  </tbody>\n",
              "</table>\n",
              "</div>\n",
              "      <button class=\"colab-df-convert\" onclick=\"convertToInteractive('df-eeb491cf-b13d-45e0-9f8b-d13db303d854')\"\n",
              "              title=\"Convert this dataframe to an interactive table.\"\n",
              "              style=\"display:none;\">\n",
              "        \n",
              "  <svg xmlns=\"http://www.w3.org/2000/svg\" height=\"24px\"viewBox=\"0 0 24 24\"\n",
              "       width=\"24px\">\n",
              "    <path d=\"M0 0h24v24H0V0z\" fill=\"none\"/>\n",
              "    <path d=\"M18.56 5.44l.94 2.06.94-2.06 2.06-.94-2.06-.94-.94-2.06-.94 2.06-2.06.94zm-11 1L8.5 8.5l.94-2.06 2.06-.94-2.06-.94L8.5 2.5l-.94 2.06-2.06.94zm10 10l.94 2.06.94-2.06 2.06-.94-2.06-.94-.94-2.06-.94 2.06-2.06.94z\"/><path d=\"M17.41 7.96l-1.37-1.37c-.4-.4-.92-.59-1.43-.59-.52 0-1.04.2-1.43.59L10.3 9.45l-7.72 7.72c-.78.78-.78 2.05 0 2.83L4 21.41c.39.39.9.59 1.41.59.51 0 1.02-.2 1.41-.59l7.78-7.78 2.81-2.81c.8-.78.8-2.07 0-2.86zM5.41 20L4 18.59l7.72-7.72 1.47 1.35L5.41 20z\"/>\n",
              "  </svg>\n",
              "      </button>\n",
              "      \n",
              "  <style>\n",
              "    .colab-df-container {\n",
              "      display:flex;\n",
              "      flex-wrap:wrap;\n",
              "      gap: 12px;\n",
              "    }\n",
              "\n",
              "    .colab-df-convert {\n",
              "      background-color: #E8F0FE;\n",
              "      border: none;\n",
              "      border-radius: 50%;\n",
              "      cursor: pointer;\n",
              "      display: none;\n",
              "      fill: #1967D2;\n",
              "      height: 32px;\n",
              "      padding: 0 0 0 0;\n",
              "      width: 32px;\n",
              "    }\n",
              "\n",
              "    .colab-df-convert:hover {\n",
              "      background-color: #E2EBFA;\n",
              "      box-shadow: 0px 1px 2px rgba(60, 64, 67, 0.3), 0px 1px 3px 1px rgba(60, 64, 67, 0.15);\n",
              "      fill: #174EA6;\n",
              "    }\n",
              "\n",
              "    [theme=dark] .colab-df-convert {\n",
              "      background-color: #3B4455;\n",
              "      fill: #D2E3FC;\n",
              "    }\n",
              "\n",
              "    [theme=dark] .colab-df-convert:hover {\n",
              "      background-color: #434B5C;\n",
              "      box-shadow: 0px 1px 3px 1px rgba(0, 0, 0, 0.15);\n",
              "      filter: drop-shadow(0px 1px 2px rgba(0, 0, 0, 0.3));\n",
              "      fill: #FFFFFF;\n",
              "    }\n",
              "  </style>\n",
              "\n",
              "      <script>\n",
              "        const buttonEl =\n",
              "          document.querySelector('#df-eeb491cf-b13d-45e0-9f8b-d13db303d854 button.colab-df-convert');\n",
              "        buttonEl.style.display =\n",
              "          google.colab.kernel.accessAllowed ? 'block' : 'none';\n",
              "\n",
              "        async function convertToInteractive(key) {\n",
              "          const element = document.querySelector('#df-eeb491cf-b13d-45e0-9f8b-d13db303d854');\n",
              "          const dataTable =\n",
              "            await google.colab.kernel.invokeFunction('convertToInteractive',\n",
              "                                                     [key], {});\n",
              "          if (!dataTable) return;\n",
              "\n",
              "          const docLinkHtml = 'Like what you see? Visit the ' +\n",
              "            '<a target=\"_blank\" href=https://colab.research.google.com/notebooks/data_table.ipynb>data table notebook</a>'\n",
              "            + ' to learn more about interactive tables.';\n",
              "          element.innerHTML = '';\n",
              "          dataTable['output_type'] = 'display_data';\n",
              "          await google.colab.output.renderOutput(dataTable, element);\n",
              "          const docLink = document.createElement('div');\n",
              "          docLink.innerHTML = docLinkHtml;\n",
              "          element.appendChild(docLink);\n",
              "        }\n",
              "      </script>\n",
              "    </div>\n",
              "  </div>\n",
              "  "
            ]
          },
          "metadata": {},
          "execution_count": 78
        }
      ]
    },
    {
      "cell_type": "code",
      "source": [
        "#data.isna.isany()\n",
        "#data['open'].plot(figsize=(15,6))"
      ],
      "metadata": {
        "id": "ePihlbA7bJXC"
      },
      "execution_count": 79,
      "outputs": []
    },
    {
      "cell_type": "code",
      "source": [
        "\n",
        "#normalization\n",
        "data=(data-data.min())/(data.max()-data.min())"
      ],
      "metadata": {
        "id": "mOqu_68UDyLg"
      },
      "execution_count": 80,
      "outputs": []
    },
    {
      "cell_type": "code",
      "source": [
        "data.head()"
      ],
      "metadata": {
        "colab": {
          "base_uri": "https://localhost:8080/",
          "height": 204
        },
        "id": "wFlcPGdNEWix",
        "outputId": "052774b5-13dd-44ba-dafb-81424e5d1f24"
      },
      "execution_count": 81,
      "outputs": [
        {
          "output_type": "execute_result",
          "data": {
            "text/plain": [
              "   Volume_Bid  Volume_Ask      Open      High       Low     Close\n",
              "0    0.021363    0.038988  0.125967  0.130772  0.137818  0.140713\n",
              "1    0.023653    0.051443  0.129923  0.131973  0.141810  0.143297\n",
              "2    0.012671    0.038068  0.132383  0.132824  0.144124  0.144349\n",
              "3    0.008640    0.023132  0.133379  0.132849  0.142495  0.142133\n",
              "4    0.010085    0.031235  0.131034  0.130764  0.140916  0.140899"
            ],
            "text/html": [
              "\n",
              "  <div id=\"df-45421d1d-c8df-402e-a832-6dcbb6a03337\">\n",
              "    <div class=\"colab-df-container\">\n",
              "      <div>\n",
              "<style scoped>\n",
              "    .dataframe tbody tr th:only-of-type {\n",
              "        vertical-align: middle;\n",
              "    }\n",
              "\n",
              "    .dataframe tbody tr th {\n",
              "        vertical-align: top;\n",
              "    }\n",
              "\n",
              "    .dataframe thead th {\n",
              "        text-align: right;\n",
              "    }\n",
              "</style>\n",
              "<table border=\"1\" class=\"dataframe\">\n",
              "  <thead>\n",
              "    <tr style=\"text-align: right;\">\n",
              "      <th></th>\n",
              "      <th>Volume_Bid</th>\n",
              "      <th>Volume_Ask</th>\n",
              "      <th>Open</th>\n",
              "      <th>High</th>\n",
              "      <th>Low</th>\n",
              "      <th>Close</th>\n",
              "    </tr>\n",
              "  </thead>\n",
              "  <tbody>\n",
              "    <tr>\n",
              "      <th>0</th>\n",
              "      <td>0.021363</td>\n",
              "      <td>0.038988</td>\n",
              "      <td>0.125967</td>\n",
              "      <td>0.130772</td>\n",
              "      <td>0.137818</td>\n",
              "      <td>0.140713</td>\n",
              "    </tr>\n",
              "    <tr>\n",
              "      <th>1</th>\n",
              "      <td>0.023653</td>\n",
              "      <td>0.051443</td>\n",
              "      <td>0.129923</td>\n",
              "      <td>0.131973</td>\n",
              "      <td>0.141810</td>\n",
              "      <td>0.143297</td>\n",
              "    </tr>\n",
              "    <tr>\n",
              "      <th>2</th>\n",
              "      <td>0.012671</td>\n",
              "      <td>0.038068</td>\n",
              "      <td>0.132383</td>\n",
              "      <td>0.132824</td>\n",
              "      <td>0.144124</td>\n",
              "      <td>0.144349</td>\n",
              "    </tr>\n",
              "    <tr>\n",
              "      <th>3</th>\n",
              "      <td>0.008640</td>\n",
              "      <td>0.023132</td>\n",
              "      <td>0.133379</td>\n",
              "      <td>0.132849</td>\n",
              "      <td>0.142495</td>\n",
              "      <td>0.142133</td>\n",
              "    </tr>\n",
              "    <tr>\n",
              "      <th>4</th>\n",
              "      <td>0.010085</td>\n",
              "      <td>0.031235</td>\n",
              "      <td>0.131034</td>\n",
              "      <td>0.130764</td>\n",
              "      <td>0.140916</td>\n",
              "      <td>0.140899</td>\n",
              "    </tr>\n",
              "  </tbody>\n",
              "</table>\n",
              "</div>\n",
              "      <button class=\"colab-df-convert\" onclick=\"convertToInteractive('df-45421d1d-c8df-402e-a832-6dcbb6a03337')\"\n",
              "              title=\"Convert this dataframe to an interactive table.\"\n",
              "              style=\"display:none;\">\n",
              "        \n",
              "  <svg xmlns=\"http://www.w3.org/2000/svg\" height=\"24px\"viewBox=\"0 0 24 24\"\n",
              "       width=\"24px\">\n",
              "    <path d=\"M0 0h24v24H0V0z\" fill=\"none\"/>\n",
              "    <path d=\"M18.56 5.44l.94 2.06.94-2.06 2.06-.94-2.06-.94-.94-2.06-.94 2.06-2.06.94zm-11 1L8.5 8.5l.94-2.06 2.06-.94-2.06-.94L8.5 2.5l-.94 2.06-2.06.94zm10 10l.94 2.06.94-2.06 2.06-.94-2.06-.94-.94-2.06-.94 2.06-2.06.94z\"/><path d=\"M17.41 7.96l-1.37-1.37c-.4-.4-.92-.59-1.43-.59-.52 0-1.04.2-1.43.59L10.3 9.45l-7.72 7.72c-.78.78-.78 2.05 0 2.83L4 21.41c.39.39.9.59 1.41.59.51 0 1.02-.2 1.41-.59l7.78-7.78 2.81-2.81c.8-.78.8-2.07 0-2.86zM5.41 20L4 18.59l7.72-7.72 1.47 1.35L5.41 20z\"/>\n",
              "  </svg>\n",
              "      </button>\n",
              "      \n",
              "  <style>\n",
              "    .colab-df-container {\n",
              "      display:flex;\n",
              "      flex-wrap:wrap;\n",
              "      gap: 12px;\n",
              "    }\n",
              "\n",
              "    .colab-df-convert {\n",
              "      background-color: #E8F0FE;\n",
              "      border: none;\n",
              "      border-radius: 50%;\n",
              "      cursor: pointer;\n",
              "      display: none;\n",
              "      fill: #1967D2;\n",
              "      height: 32px;\n",
              "      padding: 0 0 0 0;\n",
              "      width: 32px;\n",
              "    }\n",
              "\n",
              "    .colab-df-convert:hover {\n",
              "      background-color: #E2EBFA;\n",
              "      box-shadow: 0px 1px 2px rgba(60, 64, 67, 0.3), 0px 1px 3px 1px rgba(60, 64, 67, 0.15);\n",
              "      fill: #174EA6;\n",
              "    }\n",
              "\n",
              "    [theme=dark] .colab-df-convert {\n",
              "      background-color: #3B4455;\n",
              "      fill: #D2E3FC;\n",
              "    }\n",
              "\n",
              "    [theme=dark] .colab-df-convert:hover {\n",
              "      background-color: #434B5C;\n",
              "      box-shadow: 0px 1px 3px 1px rgba(0, 0, 0, 0.15);\n",
              "      filter: drop-shadow(0px 1px 2px rgba(0, 0, 0, 0.3));\n",
              "      fill: #FFFFFF;\n",
              "    }\n",
              "  </style>\n",
              "\n",
              "      <script>\n",
              "        const buttonEl =\n",
              "          document.querySelector('#df-45421d1d-c8df-402e-a832-6dcbb6a03337 button.colab-df-convert');\n",
              "        buttonEl.style.display =\n",
              "          google.colab.kernel.accessAllowed ? 'block' : 'none';\n",
              "\n",
              "        async function convertToInteractive(key) {\n",
              "          const element = document.querySelector('#df-45421d1d-c8df-402e-a832-6dcbb6a03337');\n",
              "          const dataTable =\n",
              "            await google.colab.kernel.invokeFunction('convertToInteractive',\n",
              "                                                     [key], {});\n",
              "          if (!dataTable) return;\n",
              "\n",
              "          const docLinkHtml = 'Like what you see? Visit the ' +\n",
              "            '<a target=\"_blank\" href=https://colab.research.google.com/notebooks/data_table.ipynb>data table notebook</a>'\n",
              "            + ' to learn more about interactive tables.';\n",
              "          element.innerHTML = '';\n",
              "          dataTable['output_type'] = 'display_data';\n",
              "          await google.colab.output.renderOutput(dataTable, element);\n",
              "          const docLink = document.createElement('div');\n",
              "          docLink.innerHTML = docLinkHtml;\n",
              "          element.appendChild(docLink);\n",
              "        }\n",
              "      </script>\n",
              "    </div>\n",
              "  </div>\n",
              "  "
            ]
          },
          "metadata": {},
          "execution_count": 81
        }
      ]
    },
    {
      "cell_type": "code",
      "source": [
        "np.random.seed(19)"
      ],
      "metadata": {
        "id": "aBukmfkLEYfG"
      },
      "execution_count": 82,
      "outputs": []
    },
    {
      "cell_type": "code",
      "source": [
        "print(data.head(n=5))\n",
        "print(data[-5:])"
      ],
      "metadata": {
        "colab": {
          "base_uri": "https://localhost:8080/"
        },
        "id": "O3OMFDtwFNLS",
        "outputId": "9a630519-d296-4ee4-ef77-1ae01f735e26"
      },
      "execution_count": 83,
      "outputs": [
        {
          "output_type": "stream",
          "name": "stdout",
          "text": [
            "   Volume_Bid  Volume_Ask      Open      High       Low     Close\n",
            "0    0.021363    0.038988  0.125967  0.130772  0.137818  0.140713\n",
            "1    0.023653    0.051443  0.129923  0.131973  0.141810  0.143297\n",
            "2    0.012671    0.038068  0.132383  0.132824  0.144124  0.144349\n",
            "3    0.008640    0.023132  0.133379  0.132849  0.142495  0.142133\n",
            "4    0.010085    0.031235  0.131034  0.130764  0.140916  0.140899\n",
            "        Volume_Bid  Volume_Ask      Open      High       Low     Close\n",
            "371274    0.003809    0.012897  0.785339  0.786228  0.793662  0.789447\n",
            "371275    0.003402    0.015334  0.786724  0.788796  0.794671  0.793563\n",
            "371276    0.001270    0.002914  0.790729  0.790754  0.798524  0.795500\n",
            "371277    0.001746    0.007565  0.792612  0.790772  0.800340  0.794850\n",
            "371278    0.001696    0.004352  0.792190  0.791118  0.800259  0.795753\n"
          ]
        }
      ]
    },
    {
      "cell_type": "code",
      "source": [
        "data.info()"
      ],
      "metadata": {
        "colab": {
          "base_uri": "https://localhost:8080/"
        },
        "id": "DZn562-kFR6r",
        "outputId": "815bab22-e28c-4edb-e401-1de2b5bde6e7"
      },
      "execution_count": 84,
      "outputs": [
        {
          "output_type": "stream",
          "name": "stdout",
          "text": [
            "<class 'pandas.core.frame.DataFrame'>\n",
            "RangeIndex: 371279 entries, 0 to 371278\n",
            "Data columns (total 6 columns):\n",
            " #   Column      Non-Null Count   Dtype  \n",
            "---  ------      --------------   -----  \n",
            " 0   Volume_Bid  371279 non-null  float64\n",
            " 1   Volume_Ask  371279 non-null  float64\n",
            " 2   Open        371279 non-null  float64\n",
            " 3   High        371279 non-null  float64\n",
            " 4   Low         371279 non-null  float64\n",
            " 5   Close       371279 non-null  float64\n",
            "dtypes: float64(6)\n",
            "memory usage: 17.0 MB\n"
          ]
        }
      ]
    },
    {
      "cell_type": "code",
      "source": [
        "#downsizing\n",
        "data['Volume_Bid']=pd.to_numeric(data['Volume_Bid'],downcast='float')\n",
        "data['Volume_Ask']=pd.to_numeric(data['Volume_Ask'],downcast='float')\n",
        "data['Open']=pd.to_numeric(data['Open'],downcast='float')\n",
        "data['High']=pd.to_numeric(data['High'],downcast='float')\n",
        "data['Low']=pd.to_numeric(data['Low'],downcast='float')\n",
        "data['Close']=pd.to_numeric(data['Close'],downcast='float')\n",
        "data.info()"
      ],
      "metadata": {
        "colab": {
          "base_uri": "https://localhost:8080/"
        },
        "id": "0-8KIFp9FUvl",
        "outputId": "b5d7564b-8c8f-4098-abb8-4494a6c086be"
      },
      "execution_count": 36,
      "outputs": [
        {
          "output_type": "stream",
          "name": "stdout",
          "text": [
            "<class 'pandas.core.frame.DataFrame'>\n",
            "RangeIndex: 371279 entries, 0 to 371278\n",
            "Data columns (total 6 columns):\n",
            " #   Column      Non-Null Count   Dtype  \n",
            "---  ------      --------------   -----  \n",
            " 0   Volume_Bid  371279 non-null  float32\n",
            " 1   Volume_Ask  371279 non-null  float32\n",
            " 2   Open        371279 non-null  float32\n",
            " 3   High        371279 non-null  float32\n",
            " 4   Low         371279 non-null  float32\n",
            " 5   Close       371279 non-null  float32\n",
            "dtypes: float32(6)\n",
            "memory usage: 8.5 MB\n"
          ]
        }
      ]
    },
    {
      "cell_type": "code",
      "source": [
        "#visualization\n",
        "import matplotlib.pyplot as plt\n",
        "%matplotlib inline\n",
        "plt.figure(num=1,figsize=(15,7))\n",
        "plt.hist(data['Volume_Ask'],bins=100)\n",
        "plt.title('Ask volume distribution',size=18)\n",
        "plt.ylabel('Numbers',size=14)\n",
        "plt.xlabel('Volume,mln lots',size=14);"
      ],
      "metadata": {
        "colab": {
          "base_uri": "https://localhost:8080/",
          "height": 466
        },
        "id": "FyjWXknqFZNo",
        "outputId": "743916bd-f393-411f-d6e4-306feaa4a0fa"
      },
      "execution_count": 85,
      "outputs": [
        {
          "output_type": "display_data",
          "data": {
            "text/plain": [
              "<Figure size 1080x504 with 1 Axes>"
            ],
            "image/png": "[encoded data removed]"
          },
          "metadata": {
            "needs_background": "light"
          }
        }
      ]
    },
    {
      "cell_type": "code",
      "source": [
        "n=data.shape[0]\n",
        "p=data.shape[1]\n",
        "\n",
        "#one week data\n",
        "n_small=300000\n",
        "data_a=np.array(data[:n_small])\n",
        "print(\"data_a:\")\n",
        "print(data_a[:4])\n",
        "print('\\n')\n",
        "print(data_a[-4:])\n",
        "print('\\n',\"Tick number in the DataFrame: n_small=\",n_small,'\\n')\n",
        "print(\"numpy size:                                =\",data_a.shape)"
      ],
      "metadata": {
        "colab": {
          "base_uri": "https://localhost:8080/"
        },
        "id": "_CPxAuuUFea2",
        "outputId": "2412d4d2-c816-49e9-a37a-2a11b54229bd"
      },
      "execution_count": 86,
      "outputs": [
        {
          "output_type": "stream",
          "name": "stdout",
          "text": [
            "data_a:\n",
            "[[0.02136336 0.03898769 0.12596733 0.13077245 0.13781831 0.14071328]\n",
            " [0.02365348 0.05144275 0.12992284 0.13197334 0.14181008 0.14329727]\n",
            " [0.01267074 0.03806827 0.13238275 0.13282365 0.14412411 0.14434902]\n",
            " [0.00864004 0.02313174 0.13337897 0.13284915 0.14249463 0.14213327]]\n",
            "\n",
            "\n",
            "[[0.00307841 0.00886966 0.38873527 0.38756986 0.39886711 0.39653829]\n",
            " [0.00436135 0.01061305 0.38878253 0.38825827 0.39923924 0.39719532]\n",
            " [0.00365044 0.00701174 0.38944284 0.38814354 0.39935481 0.3966026 ]\n",
            " [0.01140102 0.01618045 0.38875315 0.38739648 0.39775455 0.39564417]]\n",
            "\n",
            " Tick number in the DataFrame: n_small= 300000 \n",
            "\n",
            "numpy size:                                = (300000, 6)\n"
          ]
        }
      ]
    },
    {
      "cell_type": "code",
      "source": [
        "data=[]\n",
        "data"
      ],
      "metadata": {
        "colab": {
          "base_uri": "https://localhost:8080/"
        },
        "id": "b4mlm_-AFn12",
        "outputId": "a2b5ed0d-c52e-40f3-e9ff-adc8074a72b7"
      },
      "execution_count": 87,
      "outputs": [
        {
          "output_type": "execute_result",
          "data": {
            "text/plain": [
              "[]"
            ]
          },
          "metadata": {},
          "execution_count": 87
        }
      ]
    },
    {
      "cell_type": "code",
      "source": [
        "N=50\n",
        "L=n_small-N\n",
        "print('Size of a three-dimensional data tensor: ',L,N,6)"
      ],
      "metadata": {
        "colab": {
          "base_uri": "https://localhost:8080/"
        },
        "id": "NzTMuXERFqv6",
        "outputId": "f399b6fc-1636-4050-f161-798543cbff83"
      },
      "execution_count": 88,
      "outputs": [
        {
          "output_type": "stream",
          "name": "stdout",
          "text": [
            "Size of a three-dimensional data tensor:  299950 50 6\n"
          ]
        }
      ]
    },
    {
      "cell_type": "code",
      "source": [
        "from tqdm import tqdm"
      ],
      "metadata": {
        "id": "5vax7i8_Ft3-"
      },
      "execution_count": 89,
      "outputs": []
    },
    {
      "cell_type": "code",
      "source": [
        "data_b=np.zeros((L,N,6),dtype='float64')\n",
        "Y=np.zeros((L,4),dtype='float64')"
      ],
      "metadata": {
        "id": "0RsJwE29Fxxx"
      },
      "execution_count": 90,
      "outputs": []
    },
    {
      "cell_type": "code",
      "source": [
        "print('n_small-N=',n_small-N)"
      ],
      "metadata": {
        "colab": {
          "base_uri": "https://localhost:8080/"
        },
        "id": "2lQDmA8tF1oD",
        "outputId": "dc21a222-ba55-4fa6-bd28-c9a66d36a2fc"
      },
      "execution_count": 91,
      "outputs": [
        {
          "output_type": "stream",
          "name": "stdout",
          "text": [
            "n_small-N= 299950\n"
          ]
        }
      ]
    },
    {
      "cell_type": "code",
      "source": [
        "print('n_small-N=',n_small-N)\n",
        "for k in tqdm(range(n_small-N)):\n",
        "    data_b[k,:,:]=data_a[k:k+N,:]\n",
        "    Y[k,0]=data_a[k+N,2]\n",
        "    Y[k,1]=data_a[k+N,3]\n",
        "    Y[k,2]=data_a[k+N,4]\n",
        "    Y[k,3]=data_a[k+N,5]\n",
        "print(k)\n",
        "print('data_b:','\\n',data_b)\n",
        "print(\"Numpy size:\",data_b.shape,'\\n')\n",
        "print(Y[:5,:])\n",
        "print(Y[-10:,:])\n",
        "print(\"Numpy size:\",Y.shape)"
      ],
      "metadata": {
        "colab": {
          "base_uri": "https://localhost:8080/"
        },
        "id": "-or-dH3_F72o",
        "outputId": "50892544-6da0-44e7-b4d3-52eaf19aea6f"
      },
      "execution_count": 92,
      "outputs": [
        {
          "output_type": "stream",
          "name": "stdout",
          "text": [
            "n_small-N= 299950\n"
          ]
        },
        {
          "output_type": "stream",
          "name": "stderr",
          "text": [
            "100%|██████████| 299950/299950 [00:01<00:00, 273599.11it/s]"
          ]
        },
        {
          "output_type": "stream",
          "name": "stdout",
          "text": [
            "299949\n",
            "data_b: \n",
            " [[[0.02136336 0.03898769 0.12596733 0.13077245 0.13781831 0.14071328]\n",
            "  [0.02365348 0.05144275 0.12992284 0.13197334 0.14181008 0.14329727]\n",
            "  [0.01267074 0.03806827 0.13238275 0.13282365 0.14412411 0.14434902]\n",
            "  ...\n",
            "  [0.01228387 0.01943817 0.12703635 0.12626846 0.13735728 0.13696403]\n",
            "  [0.00335285 0.0058919  0.12589963 0.12541432 0.13777131 0.13683792]\n",
            "  [0.00501605 0.00699265 0.12576425 0.12498088 0.13689498 0.13616954]]\n",
            "\n",
            " [[0.02365348 0.05144275 0.12992284 0.13197334 0.14181008 0.14329727]\n",
            "  [0.01267074 0.03806827 0.13238275 0.13282365 0.14412411 0.14434902]\n",
            "  [0.00864004 0.02313174 0.13337897 0.13284915 0.14249463 0.14213327]\n",
            "  ...\n",
            "  [0.00335285 0.0058919  0.12589963 0.12541432 0.13777131 0.13683792]\n",
            "  [0.00501605 0.00699265 0.12576425 0.12498088 0.13689498 0.13616954]\n",
            "  [0.01111004 0.01969904 0.12513331 0.12466217 0.13600594 0.13570294]]\n",
            "\n",
            " [[0.01267074 0.03806827 0.13238275 0.13282365 0.14412411 0.14434902]\n",
            "  [0.00864004 0.02313174 0.13337897 0.13284915 0.14249463 0.14213327]\n",
            "  [0.01008501 0.03123469 0.13103402 0.13076352 0.14091596 0.14089866]\n",
            "  ...\n",
            "  [0.00501605 0.00699265 0.12576425 0.12498088 0.13689498 0.13616954]\n",
            "  [0.01111004 0.01969904 0.12513331 0.12466217 0.13600594 0.13570294]\n",
            "  [0.01439015 0.02555912 0.12466074 0.12425422 0.13617105 0.13584166]]\n",
            "\n",
            " ...\n",
            "\n",
            " [[0.00305526 0.00434575 0.38251271 0.38146086 0.39309854 0.3905796 ]\n",
            "  [0.00289985 0.00738078 0.38280646 0.381494   0.39313156 0.39048628]\n",
            "  [0.00152102 0.00544651 0.38253825 0.38144301 0.39308076 0.39053672]\n",
            "  ...\n",
            "  [0.00471185 0.01198104 0.38823716 0.38688145 0.39780535 0.3957274 ]\n",
            "  [0.00646433 0.01259186 0.3879881  0.38756986 0.39817367 0.39651433]\n",
            "  [0.00307841 0.00886966 0.38873527 0.38756986 0.39886711 0.39653829]]\n",
            "\n",
            " [[0.00289985 0.00738078 0.38280646 0.381494   0.39313156 0.39048628]\n",
            "  [0.00152102 0.00544651 0.38253825 0.38144301 0.39308076 0.39053672]\n",
            "  [0.00332309 0.01442433 0.38258934 0.38234049 0.39306806 0.39126312]\n",
            "  ...\n",
            "  [0.00646433 0.01259186 0.3879881  0.38756986 0.39817367 0.39651433]\n",
            "  [0.00307841 0.00886966 0.38873527 0.38756986 0.39886711 0.39653829]\n",
            "  [0.00436135 0.01061305 0.38878253 0.38825827 0.39923924 0.39719532]]\n",
            "\n",
            " [[0.00152102 0.00544651 0.38253825 0.38144301 0.39308076 0.39053672]\n",
            "  [0.00332309 0.01442433 0.38258934 0.38234049 0.39306806 0.39126312]\n",
            "  [0.00449362 0.01235644 0.38359322 0.38234814 0.39325857 0.3905115 ]\n",
            "  ...\n",
            "  [0.00307841 0.00886966 0.38873527 0.38756986 0.39886711 0.39653829]\n",
            "  [0.00436135 0.01061305 0.38878253 0.38825827 0.39923924 0.39719532]\n",
            "  [0.00365044 0.00701174 0.38944284 0.38814354 0.39935481 0.3966026 ]]]\n",
            "Numpy size: (299950, 50, 6) \n",
            "\n",
            "[[0.12513331 0.12466217 0.13600594 0.13570294]\n",
            " [0.12466074 0.12425422 0.13617105 0.13584166]\n",
            " [0.12476292 0.12463667 0.13666637 0.13653526]\n",
            " [0.12542707 0.12495538 0.13715407 0.13676226]\n",
            " [0.12554202 0.12476926 0.13696737 0.13657309]]\n",
            "[[0.38691397 0.38635112 0.39704332 0.39503884]\n",
            " [0.38729713 0.3865296  0.39780535 0.39513973]\n",
            " [0.38737376 0.38626953 0.39764787 0.39508424]\n",
            " [0.38733672 0.38685595 0.39762754 0.39592918]\n",
            " [0.38823716 0.38688145 0.39780535 0.3957274 ]\n",
            " [0.3879881  0.38756986 0.39817367 0.39651433]\n",
            " [0.38873527 0.38756986 0.39886711 0.39653829]\n",
            " [0.38878253 0.38825827 0.39923924 0.39719532]\n",
            " [0.38944284 0.38814354 0.39935481 0.3966026 ]\n",
            " [0.38875315 0.38739648 0.39775455 0.39564417]]\n",
            "Numpy size: (299950, 4)\n"
          ]
        },
        {
          "output_type": "stream",
          "name": "stderr",
          "text": [
            "\n"
          ]
        }
      ]
    },
    {
      "cell_type": "code",
      "source": [
        "data_a=[]\n",
        "data_a"
      ],
      "metadata": {
        "colab": {
          "base_uri": "https://localhost:8080/"
        },
        "id": "rOlUfOQpGBqs",
        "outputId": "6ba7c52a-9295-4c7e-c5fe-904fbd1f1116"
      },
      "execution_count": 93,
      "outputs": [
        {
          "output_type": "execute_result",
          "data": {
            "text/plain": [
              "[]"
            ]
          },
          "metadata": {},
          "execution_count": 93
        }
      ]
    },
    {
      "cell_type": "code",
      "source": [
        "import random \n",
        "pp=random.randint(10,n_small-N-1)\n",
        "print('random int = ',pp)\n",
        "print('data_b','\\t\\t\\t\\t\\t\\t\\t\\t','Y:')\n",
        "print('Open','\\t\\t','High','\\t\\t','low','\\t\\t','close','\\t\\t','Open','\\t\\t','High','\\t\\t','low','\\t\\t','close')\n",
        "for i in range(7):\n",
        "    print(data_b[pp+i,N-1,2],'\\t',data_b[pp+i,N-1,3],'\\t',data_b[pp+i,N-1,4],'\\t',data_b[pp+i,N-1,5],'\\t',\n",
        "          Y[pp+i,0],'\\t',Y[pp+i,1],'\\t',Y[pp+i,2],'\\t',Y[pp+i,3])"
      ],
      "metadata": {
        "colab": {
          "base_uri": "https://localhost:8080/"
        },
        "id": "9ouP7L1BGGzx",
        "outputId": "dce0a28c-e3ba-4d1e-fbec-3c2ccc16ebc1"
      },
      "execution_count": 94,
      "outputs": [
        {
          "output_type": "stream",
          "name": "stdout",
          "text": [
            "random int =  177643\n",
            "data_b \t\t\t\t\t\t\t\t Y:\n",
            "Open \t\t High \t\t low \t\t close \t\t Open \t\t High \t\t low \t\t close\n",
            "0.34456170645386647 \t 0.3433127320197442 \t 0.35495764380151673 \t 0.3527290153349479 \t 0.3443867287731002 \t 0.34346953657243057 \t 0.3549322427829359 \t 0.3529219632768362\n",
            "0.3443867287731002 \t 0.34346953657243057 \t 0.3549322427829359 \t 0.3529219632768362 \t 0.34464217064283226 \t 0.3433892220454448 \t 0.35500463568589163 \t 0.35262812752219574\n",
            "0.34464217064283226 \t 0.3433892220454448 \t 0.35500463568589163 \t 0.35262812752219574 \t 0.3442807203971606 \t 0.34344021539591185 \t 0.35494113313943926 \t 0.35245157384987896\n",
            "0.3442807203971606 \t 0.34344021539591185 \t 0.35494113313943926 \t 0.35245157384987896 \t 0.34417854364926775 \t 0.34295577856647425 \t 0.35449661531427457 \t 0.35227502017756274\n",
            "0.34417854364926775 \t 0.34295577856647425 \t 0.35449661531427457 \t 0.35227502017756274 \t 0.3439486459665089 \t 0.34298127524170835 \t 0.35459821938859787 \t 0.35230024213075073\n",
            "0.3439486459665089 \t 0.34298127524170835 \t 0.35459821938859787 \t 0.35230024213075073 \t 0.34405082271440174 \t 0.3430067719169413 \t 0.3537637959282175 \t 0.3517113095238095\n",
            "0.34405082271440174 \t 0.3430067719169413 \t 0.3537637959282175 \t 0.3517113095238095 \t 0.3434671380420636 \t 0.34251341125117246 \t 0.35392509239620523 \t 0.35147170096852354\n"
          ]
        }
      ]
    },
    {
      "cell_type": "code",
      "source": [
        "print('\\t','\\t Max \\t\\t Min')\n",
        "mnx=data_b[:,:,0].max()\n",
        "mmn=data_b[:,:,0].min()\n",
        "print('Volume_bid','\\t',mnx,'\\t\\t',mmn)\n",
        "mnx=data_b[:,:,1].max()\n",
        "mmn=data_b[:,:,1].min()\n",
        "print('Volume_Ask','\\t',mnx,'\\t',mmn)\n",
        "mnx=data_b[:,:,2].max()\n",
        "mmn=data_b[:,:,2].min()\n",
        "print('Open','\\t\\t',mnx,'\\t',mmn)\n",
        "mnx=data_b[:,:,3].max()\n",
        "mmn=data_b[:,:,3].min()\n",
        "print('High','\\t\\t',mnx,'\\t',mmn)\n",
        "mnx=data_b[:,:,4].max()\n",
        "mmn=data_b[:,:,4].min()\n",
        "print('Low','\\t\\t',mnx,'\\t',mmn)\n",
        "mnx=data_b[:,:,5].max()\n",
        "mmn=data_b[:,:,5].min()\n",
        "print('Close','\\t\\t',mnx,'\\t',mmn)"
      ],
      "metadata": {
        "colab": {
          "base_uri": "https://localhost:8080/"
        },
        "id": "awv2AsCrGLuK",
        "outputId": "8521a96a-5f20-4a2b-a7b8-2ea34ddf2828"
      },
      "execution_count": 95,
      "outputs": [
        {
          "output_type": "stream",
          "name": "stdout",
          "text": [
            "\t \t Max \t\t Min\n",
            "Volume_bid \t 1.0 \t\t 0.0\n",
            "Volume_Ask \t 0.8096267917987147 \t 0.0\n",
            "Open \t\t 0.6091483951225926 \t 0.0\n",
            "High \t\t 0.6074927079508825 \t 0.0\n",
            "Low \t\t 0.6172917433989107 \t 0.0\n",
            "Close \t\t 0.6140284503631962 \t 0.0\n"
          ]
        }
      ]
    },
    {
      "cell_type": "code",
      "source": [
        "train_start=0\n",
        "train_end=int(np.floor(0.9*L))\n",
        "print(L,train_end)"
      ],
      "metadata": {
        "colab": {
          "base_uri": "https://localhost:8080/"
        },
        "id": "0NrbgQocGSol",
        "outputId": "3abbf84f-78ea-4ff2-af75-4eda3d525d89"
      },
      "execution_count": 96,
      "outputs": [
        {
          "output_type": "stream",
          "name": "stdout",
          "text": [
            "299950 269955\n"
          ]
        }
      ]
    },
    {
      "cell_type": "code",
      "source": [
        "\n",
        "train_end_=4955\n",
        "print(train_end)"
      ],
      "metadata": {
        "colab": {
          "base_uri": "https://localhost:8080/"
        },
        "id": "ZJVn21n5Ggeh",
        "outputId": "9b635a4f-2e98-4207-d6cf-8c4d485a0a0e"
      },
      "execution_count": 97,
      "outputs": [
        {
          "output_type": "stream",
          "name": "stdout",
          "text": [
            "269955\n"
          ]
        }
      ]
    },
    {
      "cell_type": "code",
      "source": [
        "test_start=train_end+1\n",
        "test_end=L\n",
        "print(test_start,test_end)"
      ],
      "metadata": {
        "colab": {
          "base_uri": "https://localhost:8080/"
        },
        "id": "Qi3CB04rGjco",
        "outputId": "acf82a95-78ab-45c7-b583-6659bf384bdb"
      },
      "execution_count": 98,
      "outputs": [
        {
          "output_type": "stream",
          "name": "stdout",
          "text": [
            "269956 299950\n"
          ]
        }
      ]
    },
    {
      "cell_type": "code",
      "source": [
        "print(test_end-train_end)"
      ],
      "metadata": {
        "colab": {
          "base_uri": "https://localhost:8080/"
        },
        "id": "fQDN8HQNGmow",
        "outputId": "87864822-c100-4839-e8d0-4fddcde72b43"
      },
      "execution_count": 99,
      "outputs": [
        {
          "output_type": "stream",
          "name": "stdout",
          "text": [
            "29995\n"
          ]
        }
      ]
    },
    {
      "cell_type": "code",
      "source": [
        "X_train=np.zeros((train_end,N,6),dtype='float32')\n",
        "X_test=np.zeros((test_end-train_end,N,6),dtype='float32')\n",
        "for z in tqdm(range(test_end)):\n",
        "    if z<train_end:\n",
        "        X_train[z,:,:]=data_b[z,:,:]\n",
        "    else:\n",
        "        X_test[z-train_end,:,:]=data_b[z,:,:]\n",
        "print('\\n',\"X_train:\",X_train.shape,'\\n')\n",
        "print(\"X_test:\",X_test.shape,'\\n')"
      ],
      "metadata": {
        "colab": {
          "base_uri": "https://localhost:8080/"
        },
        "id": "DCUfhnVfGpc5",
        "outputId": "596080df-584c-4bda-ff45-f21157daac38"
      },
      "execution_count": 100,
      "outputs": [
        {
          "output_type": "stream",
          "name": "stderr",
          "text": [
            "100%|██████████| 299950/299950 [00:00<00:00, 569774.25it/s]"
          ]
        },
        {
          "output_type": "stream",
          "name": "stdout",
          "text": [
            "\n",
            " X_train: (269955, 50, 6) \n",
            "\n",
            "X_test: (29995, 50, 6) \n",
            "\n"
          ]
        },
        {
          "output_type": "stream",
          "name": "stderr",
          "text": [
            "\n"
          ]
        }
      ]
    },
    {
      "cell_type": "code",
      "source": [
        "print(X_train[:5,N-1,:])\n",
        "print(X_train[-5:,N-1,:],'\\n')\n",
        "print(X_test[:5,N-1,:])\n",
        "print(X_test[-5:,N-1,:])"
      ],
      "metadata": {
        "colab": {
          "base_uri": "https://localhost:8080/"
        },
        "id": "46PnhNCMGtGB",
        "outputId": "be660e7c-bfa3-46b3-cebe-4a93dc3c88f0"
      },
      "execution_count": 101,
      "outputs": [
        {
          "output_type": "stream",
          "name": "stdout",
          "text": [
            "[[0.00501605 0.00699265 0.12576425 0.12498087 0.13689499 0.13616954]\n",
            " [0.01111005 0.01969904 0.1251333  0.12466217 0.13600594 0.13570294]\n",
            " [0.01439015 0.02555913 0.12466074 0.12425422 0.13617106 0.13584165]\n",
            " [0.01003541 0.01736392 0.12476292 0.12463667 0.13666637 0.13653526]\n",
            " [0.00501605 0.00780072 0.12542707 0.12495538 0.13715407 0.13676226]]\n",
            "[[0.0076613  0.00948048 0.2323678  0.2315353  0.24371897 0.24213076]\n",
            " [0.00959895 0.0104858  0.23243167 0.2315009  0.24123093 0.23995788]\n",
            " [0.01142748 0.03139376 0.23020932 0.23121278 0.24164878 0.2418243 ]\n",
            " [0.00649739 0.01182833 0.2321162  0.23142695 0.24288073 0.24140814]\n",
            " [0.00961879 0.01159291 0.23169471 0.231353   0.24263942 0.2411597 ]] \n",
            "\n",
            "[[0.00440434 0.01154837 0.23138435 0.23072834 0.24242732 0.24074355]\n",
            " [0.01333867 0.01464066 0.23101397 0.23030764 0.24136049 0.24007516]\n",
            " [0.00531364 0.01544873 0.23033832 0.22975947 0.24137318 0.24055059]\n",
            " [0.0052938  0.01591957 0.23073426 0.22967151 0.23995072 0.24010038]\n",
            " [0.00585261 0.01920275 0.23043028 0.22992647 0.24087532 0.24000327]]\n",
            "[[0.00471185 0.01198104 0.38823715 0.38688144 0.39780536 0.3957274 ]\n",
            " [0.00646433 0.01259186 0.3879881  0.38756987 0.39817366 0.39651433]\n",
            " [0.00307841 0.00886966 0.38873526 0.38756987 0.3988671  0.3965383 ]\n",
            " [0.00436135 0.01061305 0.38878253 0.38825828 0.39923924 0.3971953 ]\n",
            " [0.00365044 0.00701174 0.38944283 0.38814354 0.39935482 0.3966026 ]]\n"
          ]
        }
      ]
    },
    {
      "cell_type": "code",
      "source": [
        "y_train=Y[np.arange(train_start,train_end),:]\n",
        "y_test=Y[np.arange(test_start,L),:]\n",
        "\n",
        "print(train_start,train_end,test_start,L,'\\n')\n",
        "print('y_train(first 10):','\\n',y_train[:10,:])\n",
        "\n",
        "data_add_row=np.array([y_test[L-test_start-1,0],y_test[L-test_start-1,1],y_test[L-test_start-1,2],y_test[L-test_start-1,3]])\n",
        "print(L-test_start-1,data_add_row)\n",
        "y_test=np.vstack([y_test,data_add_row])\n",
        "\n",
        "print('y_test(last 10:)','\\n',y_test[-10:,:])"
      ],
      "metadata": {
        "colab": {
          "base_uri": "https://localhost:8080/"
        },
        "id": "Za29TYPcHNul",
        "outputId": "8ca555d9-d088-4f89-a1a7-0f4c2664251d"
      },
      "execution_count": 102,
      "outputs": [
        {
          "output_type": "stream",
          "name": "stdout",
          "text": [
            "0 269955 269956 299950 \n",
            "\n",
            "y_train(first 10): \n",
            " [[0.12513331 0.12466217 0.13600594 0.13570294]\n",
            " [0.12466074 0.12425422 0.13617105 0.13584166]\n",
            " [0.12476292 0.12463667 0.13666637 0.13653526]\n",
            " [0.12542707 0.12495538 0.13715407 0.13676226]\n",
            " [0.12554202 0.12476926 0.13696737 0.13657309]\n",
            " [0.12541429 0.12492988 0.13693816 0.13685053]\n",
            " [0.125823   0.1274821  0.13784752 0.13920879]\n",
            " [0.12813986 0.12738139 0.13952907 0.13881406]\n",
            " [0.12774776 0.12713917 0.13904518 0.13806497]\n",
            " [0.12700697 0.12679497 0.13890166 0.13819108]]\n",
            "29993 [0.38875315 0.38739648 0.39775455 0.39564417]\n",
            "y_test(last 10:) \n",
            " [[0.38729713 0.3865296  0.39780535 0.39513973]\n",
            " [0.38737376 0.38626953 0.39764787 0.39508424]\n",
            " [0.38733672 0.38685595 0.39762754 0.39592918]\n",
            " [0.38823716 0.38688145 0.39780535 0.3957274 ]\n",
            " [0.3879881  0.38756986 0.39817367 0.39651433]\n",
            " [0.38873527 0.38756986 0.39886711 0.39653829]\n",
            " [0.38878253 0.38825827 0.39923924 0.39719532]\n",
            " [0.38944284 0.38814354 0.39935481 0.3966026 ]\n",
            " [0.38875315 0.38739648 0.39775455 0.39564417]\n",
            " [0.38875315 0.38739648 0.39775455 0.39564417]]\n"
          ]
        }
      ]
    },
    {
      "cell_type": "code",
      "source": [
        "print('Data for training')\n",
        "print(\"X_train\")\n",
        "print(\"Type:\", X_train.dtype, type(X_train),\":Size:\",X_train.shape)\n",
        "\n",
        "print(\"\\n\",\"y_train\")\n",
        "print(\"Type:\",y_train.dtype,type(y_train),\":size:\",y_train.shape)\n",
        "\n",
        "print('Data for testing')\n",
        "print(\"X_test\")\n",
        "print(\"Type:\",X_test.dtype, type(X_test),\":Size:\",X_test.shape)\n",
        "\n",
        "print(\"\\n\",\"y_test\")\n",
        "print(\"Type:\",y_test.dtype,type(y_test),\":size:\",y_test.shape)"
      ],
      "metadata": {
        "colab": {
          "base_uri": "https://localhost:8080/"
        },
        "id": "nvadByyJHR4x",
        "outputId": "faeb9de7-4807-41ec-aee2-66d4cea9bcf5"
      },
      "execution_count": 103,
      "outputs": [
        {
          "output_type": "stream",
          "name": "stdout",
          "text": [
            "Data for training\n",
            "X_train\n",
            "Type: float32 <class 'numpy.ndarray'> :Size: (269955, 50, 6)\n",
            "\n",
            " y_train\n",
            "Type: float64 <class 'numpy.ndarray'> :size: (269955, 4)\n",
            "Data for testing\n",
            "X_test\n",
            "Type: float32 <class 'numpy.ndarray'> :Size: (29995, 50, 6)\n",
            "\n",
            " y_test\n",
            "Type: float64 <class 'numpy.ndarray'> :size: (29995, 4)\n"
          ]
        }
      ]
    },
    {
      "cell_type": "code",
      "source": [
        "import tensorflow as tf\n",
        "from tensorflow import keras"
      ],
      "metadata": {
        "id": "L2xo84xhHWmt"
      },
      "execution_count": 104,
      "outputs": []
    },
    {
      "cell_type": "code",
      "source": [
        "model=keras.Sequential([\n",
        "    keras.layers.Conv1D(50,9,padding='same',input_shape=(50,6),activation=tf.nn.relu,kernel_initializer=\"normal\"),\n",
        "    keras.layers.MaxPooling1D(7),\n",
        "    keras.layers.Conv1D(100,7,padding='same',activation=tf.nn.relu,kernel_initializer='normal'),\n",
        "    keras.layers.GlobalMaxPooling1D(),\n",
        "    keras.layers.Dense(25,activation=tf.nn.relu, kernel_initializer=\"normal\"),\n",
        "    keras.layers.Dense(4)\n",
        "    \n",
        "])\n",
        "\n",
        "print(model.summary())"
      ],
      "metadata": {
        "colab": {
          "base_uri": "https://localhost:8080/"
        },
        "id": "MSsIt1q-Hauo",
        "outputId": "114ad062-2517-445f-c858-b1d6674ecff8"
      },
      "execution_count": 105,
      "outputs": [
        {
          "output_type": "stream",
          "name": "stdout",
          "text": [
            "Model: \"sequential\"\n",
            "_________________________________________________________________\n",
            " Layer (type)                Output Shape              Param #   \n",
            "=================================================================\n",
            " conv1d (Conv1D)             (None, 50, 50)            2750      \n",
            "                                                                 \n",
            " max_pooling1d (MaxPooling1D  (None, 7, 50)            0         \n",
            " )                                                               \n",
            "                                                                 \n",
            " conv1d_1 (Conv1D)           (None, 7, 100)            35100     \n",
            "                                                                 \n",
            " global_max_pooling1d (Globa  (None, 100)              0         \n",
            " lMaxPooling1D)                                                  \n",
            "                                                                 \n",
            " dense (Dense)               (None, 25)                2525      \n",
            "                                                                 \n",
            " dense_1 (Dense)             (None, 4)                 104       \n",
            "                                                                 \n",
            "=================================================================\n",
            "Total params: 40,479\n",
            "Trainable params: 40,479\n",
            "Non-trainable params: 0\n",
            "_________________________________________________________________\n",
            "None\n"
          ]
        }
      ]
    },
    {
      "cell_type": "code",
      "source": [
        "model.compile(optimizer=\"adam\",loss=\"mse\",metrics=[\"mae\"])"
      ],
      "metadata": {
        "id": "3yXR_s4LHf7I"
      },
      "execution_count": 107,
      "outputs": []
    },
    {
      "cell_type": "code",
      "source": [
        "history=model.fit(X_train,y_train,batch_size=30,epochs=10,validation_split=0.2,shuffle=True,verbose=1)"
      ],
      "metadata": {
        "colab": {
          "base_uri": "https://localhost:8080/"
        },
        "id": "f9ZG_BZxIirS",
        "outputId": "717e6f8f-b180-4382-db2d-ef5388514456"
      },
      "execution_count": 108,
      "outputs": [
        {
          "output_type": "stream",
          "name": "stdout",
          "text": [
            "Epoch 1/10\n",
            "7199/7199 [==============================] - 56s 8ms/step - loss: 1.6778e-04 - mae: 0.0034 - val_loss: 3.5303e-06 - val_mae: 0.0012\n",
            "Epoch 2/10\n",
            "7199/7199 [==============================] - 65s 9ms/step - loss: 5.3749e-06 - mae: 0.0016 - val_loss: 2.2618e-06 - val_mae: 0.0011\n",
            "Epoch 3/10\n",
            "7199/7199 [==============================] - 60s 8ms/step - loss: 2.9390e-06 - mae: 0.0012 - val_loss: 1.6476e-06 - val_mae: 9.7928e-04\n",
            "Epoch 4/10\n",
            "7199/7199 [==============================] - 57s 8ms/step - loss: 2.3974e-06 - mae: 0.0011 - val_loss: 1.3437e-06 - val_mae: 8.5162e-04\n",
            "Epoch 5/10\n",
            "7199/7199 [==============================] - 54s 7ms/step - loss: 2.0019e-06 - mae: 0.0010 - val_loss: 2.7002e-06 - val_mae: 0.0014\n",
            "Epoch 6/10\n",
            "7199/7199 [==============================] - 58s 8ms/step - loss: 1.8117e-06 - mae: 9.4277e-04 - val_loss: 1.1263e-06 - val_mae: 7.6167e-04\n",
            "Epoch 7/10\n",
            "7199/7199 [==============================] - 57s 8ms/step - loss: 1.7111e-06 - mae: 9.0690e-04 - val_loss: 9.6128e-07 - val_mae: 6.7694e-04\n",
            "Epoch 8/10\n",
            "7199/7199 [==============================] - 55s 8ms/step - loss: 1.5234e-06 - mae: 8.5608e-04 - val_loss: 1.7585e-06 - val_mae: 0.0011\n",
            "Epoch 9/10\n",
            "7199/7199 [==============================] - 52s 7ms/step - loss: 1.4705e-06 - mae: 8.3415e-04 - val_loss: 7.5508e-07 - val_mae: 5.5275e-04\n",
            "Epoch 10/10\n",
            "7199/7199 [==============================] - 54s 8ms/step - loss: 1.4218e-06 - mae: 8.3306e-04 - val_loss: 2.0997e-06 - val_mae: 0.0012\n"
          ]
        }
      ]
    },
    {
      "cell_type": "code",
      "source": [
        "model1=keras.Sequential([\n",
        "    keras.layers.Conv1D(50,9,padding='same',input_shape=(50,6),activation=tf.nn.relu,kernel_initializer=\"normal\"),\n",
        "    keras.layers.MaxPooling1D(7),\n",
        "    keras.layers.Conv1D(100,7,padding='same',activation=tf.nn.relu,kernel_initializer='normal'),\n",
        "    keras.layers.GlobalMaxPooling1D(),\n",
        "    keras.layers.Dense(25,activation=tf.nn.relu, kernel_initializer=\"normal\"),\n",
        "    keras.layers.Dense(4)\n",
        "    \n",
        "])\n",
        "\n",
        "print(model1.summary())"
      ],
      "metadata": {
        "colab": {
          "base_uri": "https://localhost:8080/"
        },
        "id": "ZjqsCeXxwvS3",
        "outputId": "877e7365-a2d4-456b-82ae-bec606952f03"
      },
      "execution_count": 120,
      "outputs": [
        {
          "output_type": "stream",
          "name": "stdout",
          "text": [
            "Model: \"sequential_1\"\n",
            "_________________________________________________________________\n",
            " Layer (type)                Output Shape              Param #   \n",
            "=================================================================\n",
            " conv1d_2 (Conv1D)           (None, 50, 50)            2750      \n",
            "                                                                 \n",
            " max_pooling1d_1 (MaxPooling  (None, 7, 50)            0         \n",
            " 1D)                                                             \n",
            "                                                                 \n",
            " conv1d_3 (Conv1D)           (None, 7, 100)            35100     \n",
            "                                                                 \n",
            " global_max_pooling1d_1 (Glo  (None, 100)              0         \n",
            " balMaxPooling1D)                                                \n",
            "                                                                 \n",
            " dense_2 (Dense)             (None, 25)                2525      \n",
            "                                                                 \n",
            " dense_3 (Dense)             (None, 4)                 104       \n",
            "                                                                 \n",
            "=================================================================\n",
            "Total params: 40,479\n",
            "Trainable params: 40,479\n",
            "Non-trainable params: 0\n",
            "_________________________________________________________________\n",
            "None\n"
          ]
        }
      ]
    },
    {
      "cell_type": "code",
      "source": [
        "model1.compile(optimizer=\"adam\",loss=\"mse\",metrics=[\"accuracy\"])"
      ],
      "metadata": {
        "id": "B1Lgf1QWwnJt"
      },
      "execution_count": 121,
      "outputs": []
    },
    {
      "cell_type": "code",
      "source": [
        "history=model1.fit(X_train,y_train,batch_size=30,epochs=10,validation_split=0.2,shuffle=True,verbose=1)"
      ],
      "metadata": {
        "colab": {
          "base_uri": "https://localhost:8080/"
        },
        "id": "JINdfvZLw8Vi",
        "outputId": "4e68a0ef-c14a-4210-98d3-8d07a3c2d33a"
      },
      "execution_count": 122,
      "outputs": [
        {
          "output_type": "stream",
          "name": "stdout",
          "text": [
            "Epoch 1/10\n",
            "7199/7199 [==============================] - 56s 8ms/step - loss: 1.4392e-04 - accuracy: 0.8761 - val_loss: 4.9794e-06 - val_accuracy: 0.9603\n",
            "Epoch 2/10\n",
            "7199/7199 [==============================] - 55s 8ms/step - loss: 4.1603e-06 - accuracy: 0.9136 - val_loss: 4.2507e-06 - val_accuracy: 0.9357\n",
            "Epoch 3/10\n",
            "7199/7199 [==============================] - 54s 7ms/step - loss: 2.6238e-06 - accuracy: 0.9241 - val_loss: 1.8495e-06 - val_accuracy: 0.9607\n",
            "Epoch 4/10\n",
            "7199/7199 [==============================] - 53s 7ms/step - loss: 2.0156e-06 - accuracy: 0.9241 - val_loss: 3.1251e-06 - val_accuracy: 0.9604\n",
            "Epoch 5/10\n",
            "7199/7199 [==============================] - 52s 7ms/step - loss: 1.7664e-06 - accuracy: 0.9233 - val_loss: 1.3567e-06 - val_accuracy: 0.9607\n",
            "Epoch 6/10\n",
            "7199/7199 [==============================] - 54s 8ms/step - loss: 1.6973e-06 - accuracy: 0.9260 - val_loss: 1.3165e-06 - val_accuracy: 0.9595\n",
            "Epoch 7/10\n",
            "7199/7199 [==============================] - 51s 7ms/step - loss: 1.6727e-06 - accuracy: 0.9269 - val_loss: 1.5519e-06 - val_accuracy: 0.9602\n",
            "Epoch 8/10\n",
            "7199/7199 [==============================] - 54s 7ms/step - loss: 1.6188e-06 - accuracy: 0.9276 - val_loss: 9.6798e-07 - val_accuracy: 0.9600\n",
            "Epoch 9/10\n",
            "7199/7199 [==============================] - 52s 7ms/step - loss: 1.5414e-06 - accuracy: 0.9283 - val_loss: 9.3295e-07 - val_accuracy: 0.9606\n",
            "Epoch 10/10\n",
            "7199/7199 [==============================] - 54s 8ms/step - loss: 1.4971e-06 - accuracy: 0.9288 - val_loss: 1.7561e-06 - val_accuracy: 0.9604\n"
          ]
        }
      ]
    },
    {
      "cell_type": "code",
      "source": [
        "mse,mae=model.evaluate(X_test,y_test,verbose=0)\n",
        "print(\"Mean absolute error : %.3f%%\"%(mae*100))"
      ],
      "metadata": {
        "colab": {
          "base_uri": "https://localhost:8080/"
        },
        "id": "Hxal0PacImrQ",
        "outputId": "c7db2d45-ed5a-4ce6-fd69-092065ac7e5d"
      },
      "execution_count": 109,
      "outputs": [
        {
          "output_type": "stream",
          "name": "stdout",
          "text": [
            "Mean absolute error : 0.119%\n"
          ]
        }
      ]
    },
    {
      "cell_type": "code",
      "source": [
        "history_dict=history.history\n",
        "\n",
        "mean_absolute_error_values=history_dict['mae']\n",
        "\n",
        "val_mean_absolute_error_values=history_dict['val_mae']\n",
        "\n",
        "epochs=range(1,len(mean_absolute_error_values)+1)\n",
        "plt.figure(num=1,figsize=(15,7))\n",
        "plt.plot(epochs,mean_absolute_error_values,'bo',label='Training acc')\n",
        "plt.plot(epochs,val_mean_absolute_error_values,'b',label='mae acc')\n",
        "plt.xlabel('Epochs')\n",
        "plt.ylabel(\"Mean Absolute Error - mae\")\n",
        "plt.legend()\n",
        "plt.show()"
      ],
      "metadata": {
        "colab": {
          "base_uri": "https://localhost:8080/",
          "height": 442
        },
        "id": "lu9AW4PBLDfU",
        "outputId": "be2c0e54-1387-4e4f-8a13-23a1ff95f40b"
      },
      "execution_count": 110,
      "outputs": [
        {
          "output_type": "display_data",
          "data": {
            "text/plain": [
              "<Figure size 1080x504 with 1 Axes>"
            ],
            "image/png": "[encoded data removed]"
          },
          "metadata": {
            "needs_background": "light"
          }
        }
      ]
    },
    {
      "cell_type": "code",
      "source": [
        "pred=model.predict(X_test)\n"
      ],
      "metadata": {
        "id": "PIux3fmELJVU"
      },
      "execution_count": 115,
      "outputs": []
    },
    {
      "cell_type": "code",
      "source": [
        "r = sklearn.metrics.multilabel_confusion_matrix(y_test, pred, labels=[\"Open\",\"High\",\"Low\",\"Close\"])"
      ],
      "metadata": {
        "colab": {
          "base_uri": "https://localhost:8080/",
          "height": 307
        },
        "id": "9jJjep9kwYDW",
        "outputId": "a345e313-d5c9-448c-d422-b73365fcfdc1"
      },
      "execution_count": 118,
      "outputs": [
        {
          "output_type": "error",
          "ename": "ValueError",
          "evalue": "ignored",
          "traceback": [
            "\u001b[0;31m---------------------------------------------------------------------------\u001b[0m",
            "\u001b[0;31mValueError\u001b[0m                                Traceback (most recent call last)",
            "\u001b[0;32m<ipython-input-118-595689e60dd6>\u001b[0m in \u001b[0;36m<module>\u001b[0;34m()\u001b[0m\n\u001b[0;32m----> 1\u001b[0;31m \u001b[0mr\u001b[0m \u001b[0;34m=\u001b[0m \u001b[0msklearn\u001b[0m\u001b[0;34m.\u001b[0m\u001b[0mmetrics\u001b[0m\u001b[0;34m.\u001b[0m\u001b[0mmultilabel_confusion_matrix\u001b[0m\u001b[0;34m(\u001b[0m\u001b[0my_test\u001b[0m\u001b[0;34m,\u001b[0m \u001b[0mpred\u001b[0m\u001b[0;34m,\u001b[0m \u001b[0mlabels\u001b[0m\u001b[0;34m=\u001b[0m\u001b[0;34m[\u001b[0m\u001b[0;34m\"Open\"\u001b[0m\u001b[0;34m,\u001b[0m\u001b[0;34m\"High\"\u001b[0m\u001b[0;34m,\u001b[0m\u001b[0;34m\"Low\"\u001b[0m\u001b[0;34m,\u001b[0m\u001b[0;34m\"Close\"\u001b[0m\u001b[0;34m]\u001b[0m\u001b[0;34m)\u001b[0m\u001b[0;34m\u001b[0m\u001b[0;34m\u001b[0m\u001b[0m\n\u001b[0m",
            "\u001b[0;32m/usr/local/lib/python3.7/dist-packages/sklearn/metrics/_classification.py\u001b[0m in \u001b[0;36mmultilabel_confusion_matrix\u001b[0;34m(y_true, y_pred, sample_weight, labels, samplewise)\u001b[0m\n\u001b[1;32m    477\u001b[0m             [1, 2]]])\n\u001b[1;32m    478\u001b[0m     \"\"\"\n\u001b[0;32m--> 479\u001b[0;31m     \u001b[0my_type\u001b[0m\u001b[0;34m,\u001b[0m \u001b[0my_true\u001b[0m\u001b[0;34m,\u001b[0m \u001b[0my_pred\u001b[0m \u001b[0;34m=\u001b[0m \u001b[0m_check_targets\u001b[0m\u001b[0;34m(\u001b[0m\u001b[0my_true\u001b[0m\u001b[0;34m,\u001b[0m \u001b[0my_pred\u001b[0m\u001b[0;34m)\u001b[0m\u001b[0;34m\u001b[0m\u001b[0;34m\u001b[0m\u001b[0m\n\u001b[0m\u001b[1;32m    480\u001b[0m     \u001b[0;32mif\u001b[0m \u001b[0msample_weight\u001b[0m \u001b[0;32mis\u001b[0m \u001b[0;32mnot\u001b[0m \u001b[0;32mNone\u001b[0m\u001b[0;34m:\u001b[0m\u001b[0;34m\u001b[0m\u001b[0;34m\u001b[0m\u001b[0m\n\u001b[1;32m    481\u001b[0m         \u001b[0msample_weight\u001b[0m \u001b[0;34m=\u001b[0m \u001b[0mcolumn_or_1d\u001b[0m\u001b[0;34m(\u001b[0m\u001b[0msample_weight\u001b[0m\u001b[0;34m)\u001b[0m\u001b[0;34m\u001b[0m\u001b[0;34m\u001b[0m\u001b[0m\n",
            "\u001b[0;32m/usr/local/lib/python3.7/dist-packages/sklearn/metrics/_classification.py\u001b[0m in \u001b[0;36m_check_targets\u001b[0;34m(y_true, y_pred)\u001b[0m\n\u001b[1;32m    102\u001b[0m     \u001b[0;31m# No metrics support \"multiclass-multioutput\" format\u001b[0m\u001b[0;34m\u001b[0m\u001b[0;34m\u001b[0m\u001b[0;34m\u001b[0m\u001b[0m\n\u001b[1;32m    103\u001b[0m     \u001b[0;32mif\u001b[0m \u001b[0my_type\u001b[0m \u001b[0;32mnot\u001b[0m \u001b[0;32min\u001b[0m \u001b[0;34m[\u001b[0m\u001b[0;34m\"binary\"\u001b[0m\u001b[0;34m,\u001b[0m \u001b[0;34m\"multiclass\"\u001b[0m\u001b[0;34m,\u001b[0m \u001b[0;34m\"multilabel-indicator\"\u001b[0m\u001b[0;34m]\u001b[0m\u001b[0;34m:\u001b[0m\u001b[0;34m\u001b[0m\u001b[0;34m\u001b[0m\u001b[0m\n\u001b[0;32m--> 104\u001b[0;31m         \u001b[0;32mraise\u001b[0m \u001b[0mValueError\u001b[0m\u001b[0;34m(\u001b[0m\u001b[0;34m\"{0} is not supported\"\u001b[0m\u001b[0;34m.\u001b[0m\u001b[0mformat\u001b[0m\u001b[0;34m(\u001b[0m\u001b[0my_type\u001b[0m\u001b[0;34m)\u001b[0m\u001b[0;34m)\u001b[0m\u001b[0;34m\u001b[0m\u001b[0;34m\u001b[0m\u001b[0m\n\u001b[0m\u001b[1;32m    105\u001b[0m \u001b[0;34m\u001b[0m\u001b[0m\n\u001b[1;32m    106\u001b[0m     \u001b[0;32mif\u001b[0m \u001b[0my_type\u001b[0m \u001b[0;32min\u001b[0m \u001b[0;34m[\u001b[0m\u001b[0;34m\"binary\"\u001b[0m\u001b[0;34m,\u001b[0m \u001b[0;34m\"multiclass\"\u001b[0m\u001b[0;34m]\u001b[0m\u001b[0;34m:\u001b[0m\u001b[0;34m\u001b[0m\u001b[0;34m\u001b[0m\u001b[0m\n",
            "\u001b[0;31mValueError\u001b[0m: continuous-multioutput is not supported"
          ]
        }
      ]
    },
    {
      "cell_type": "code",
      "source": [
        ""
      ],
      "metadata": {
        "id": "wA2phONnwY4C"
      },
      "execution_count": null,
      "outputs": []
    },
    {
      "cell_type": "code",
      "source": [
        ""
      ],
      "metadata": {
        "id": "cOUR0iEJwZDt"
      },
      "execution_count": null,
      "outputs": []
    },
    {
      "cell_type": "code",
      "source": [
        ""
      ],
      "metadata": {
        "id": "n-xFX0HowZQ-"
      },
      "execution_count": null,
      "outputs": []
    },
    {
      "cell_type": "code",
      "source": [
        "import sklearn.metrics\n",
        "acc = sklearn.metrics.accuracy_score(y_test, pred)"
      ],
      "metadata": {
        "colab": {
          "base_uri": "https://localhost:8080/",
          "height": 324
        },
        "id": "7jWt40D6v9yA",
        "outputId": "c7ae6f51-eeb4-4037-80c0-3cd1eb382235"
      },
      "execution_count": 117,
      "outputs": [
        {
          "output_type": "error",
          "ename": "ValueError",
          "evalue": "ignored",
          "traceback": [
            "\u001b[0;31m---------------------------------------------------------------------------\u001b[0m",
            "\u001b[0;31mValueError\u001b[0m                                Traceback (most recent call last)",
            "\u001b[0;32m<ipython-input-117-16274c4dff85>\u001b[0m in \u001b[0;36m<module>\u001b[0;34m()\u001b[0m\n\u001b[1;32m      1\u001b[0m \u001b[0;32mimport\u001b[0m \u001b[0msklearn\u001b[0m\u001b[0;34m.\u001b[0m\u001b[0mmetrics\u001b[0m\u001b[0;34m\u001b[0m\u001b[0;34m\u001b[0m\u001b[0m\n\u001b[0;32m----> 2\u001b[0;31m \u001b[0macc\u001b[0m \u001b[0;34m=\u001b[0m \u001b[0msklearn\u001b[0m\u001b[0;34m.\u001b[0m\u001b[0mmetrics\u001b[0m\u001b[0;34m.\u001b[0m\u001b[0maccuracy_score\u001b[0m\u001b[0;34m(\u001b[0m\u001b[0my_test\u001b[0m\u001b[0;34m,\u001b[0m \u001b[0mpred\u001b[0m\u001b[0;34m)\u001b[0m\u001b[0;34m\u001b[0m\u001b[0;34m\u001b[0m\u001b[0m\n\u001b[0m",
            "\u001b[0;32m/usr/local/lib/python3.7/dist-packages/sklearn/metrics/_classification.py\u001b[0m in \u001b[0;36maccuracy_score\u001b[0;34m(y_true, y_pred, normalize, sample_weight)\u001b[0m\n\u001b[1;32m    209\u001b[0m \u001b[0;34m\u001b[0m\u001b[0m\n\u001b[1;32m    210\u001b[0m     \u001b[0;31m# Compute accuracy for each possible representation\u001b[0m\u001b[0;34m\u001b[0m\u001b[0;34m\u001b[0m\u001b[0;34m\u001b[0m\u001b[0m\n\u001b[0;32m--> 211\u001b[0;31m     \u001b[0my_type\u001b[0m\u001b[0;34m,\u001b[0m \u001b[0my_true\u001b[0m\u001b[0;34m,\u001b[0m \u001b[0my_pred\u001b[0m \u001b[0;34m=\u001b[0m \u001b[0m_check_targets\u001b[0m\u001b[0;34m(\u001b[0m\u001b[0my_true\u001b[0m\u001b[0;34m,\u001b[0m \u001b[0my_pred\u001b[0m\u001b[0;34m)\u001b[0m\u001b[0;34m\u001b[0m\u001b[0;34m\u001b[0m\u001b[0m\n\u001b[0m\u001b[1;32m    212\u001b[0m     \u001b[0mcheck_consistent_length\u001b[0m\u001b[0;34m(\u001b[0m\u001b[0my_true\u001b[0m\u001b[0;34m,\u001b[0m \u001b[0my_pred\u001b[0m\u001b[0;34m,\u001b[0m \u001b[0msample_weight\u001b[0m\u001b[0;34m)\u001b[0m\u001b[0;34m\u001b[0m\u001b[0;34m\u001b[0m\u001b[0m\n\u001b[1;32m    213\u001b[0m     \u001b[0;32mif\u001b[0m \u001b[0my_type\u001b[0m\u001b[0;34m.\u001b[0m\u001b[0mstartswith\u001b[0m\u001b[0;34m(\u001b[0m\u001b[0;34m\"multilabel\"\u001b[0m\u001b[0;34m)\u001b[0m\u001b[0;34m:\u001b[0m\u001b[0;34m\u001b[0m\u001b[0;34m\u001b[0m\u001b[0m\n",
            "\u001b[0;32m/usr/local/lib/python3.7/dist-packages/sklearn/metrics/_classification.py\u001b[0m in \u001b[0;36m_check_targets\u001b[0;34m(y_true, y_pred)\u001b[0m\n\u001b[1;32m    102\u001b[0m     \u001b[0;31m# No metrics support \"multiclass-multioutput\" format\u001b[0m\u001b[0;34m\u001b[0m\u001b[0;34m\u001b[0m\u001b[0;34m\u001b[0m\u001b[0m\n\u001b[1;32m    103\u001b[0m     \u001b[0;32mif\u001b[0m \u001b[0my_type\u001b[0m \u001b[0;32mnot\u001b[0m \u001b[0;32min\u001b[0m \u001b[0;34m[\u001b[0m\u001b[0;34m\"binary\"\u001b[0m\u001b[0;34m,\u001b[0m \u001b[0;34m\"multiclass\"\u001b[0m\u001b[0;34m,\u001b[0m \u001b[0;34m\"multilabel-indicator\"\u001b[0m\u001b[0;34m]\u001b[0m\u001b[0;34m:\u001b[0m\u001b[0;34m\u001b[0m\u001b[0;34m\u001b[0m\u001b[0m\n\u001b[0;32m--> 104\u001b[0;31m         \u001b[0;32mraise\u001b[0m \u001b[0mValueError\u001b[0m\u001b[0;34m(\u001b[0m\u001b[0;34m\"{0} is not supported\"\u001b[0m\u001b[0;34m.\u001b[0m\u001b[0mformat\u001b[0m\u001b[0;34m(\u001b[0m\u001b[0my_type\u001b[0m\u001b[0;34m)\u001b[0m\u001b[0;34m)\u001b[0m\u001b[0;34m\u001b[0m\u001b[0;34m\u001b[0m\u001b[0m\n\u001b[0m\u001b[1;32m    105\u001b[0m \u001b[0;34m\u001b[0m\u001b[0m\n\u001b[1;32m    106\u001b[0m     \u001b[0;32mif\u001b[0m \u001b[0my_type\u001b[0m \u001b[0;32min\u001b[0m \u001b[0;34m[\u001b[0m\u001b[0;34m\"binary\"\u001b[0m\u001b[0;34m,\u001b[0m \u001b[0;34m\"multiclass\"\u001b[0m\u001b[0;34m]\u001b[0m\u001b[0;34m:\u001b[0m\u001b[0;34m\u001b[0m\u001b[0;34m\u001b[0m\u001b[0m\n",
            "\u001b[0;31mValueError\u001b[0m: continuous-multioutput is not supported"
          ]
        }
      ]
    },
    {
      "cell_type": "code",
      "source": [
        "from matplotlib import *\n",
        "import seaborn"
      ],
      "metadata": {
        "id": "uPwxU9gFf_uZ"
      },
      "execution_count": 112,
      "outputs": []
    },
    {
      "cell_type": "code",
      "source": [
        "plt.style.use('seaborn-darkgrid')\n",
        "plt.ion()\n",
        "fig=plt.figure(figsize=(23,8))\n",
        "ax1=fig.add_subplot(111)\n",
        "line1=ax1.plot(y_test[:400,0],label='bid')\n",
        "line2=ax1.plot(pred[:400,0],label='Predicted Bid')\n",
        "line3=ax1.plot(y_test[0:400,1],label='Ask')\n",
        "line4=ax1.plot(pred[:400,1],label='Predicted Ask')\n",
        "\n",
        "plt.title('Predicted Normalized prices',size=18)\n",
        "plt.ylabel('Price',size=14)\n",
        "plt.xlabel('$Ticks$',size=14)\n",
        "plt.legend(loc='upper right')\n",
        "\n",
        "plt.show()"
      ],
      "metadata": {
        "colab": {
          "base_uri": "https://localhost:8080/",
          "height": 395
        },
        "id": "0m9oucBlLSvl",
        "outputId": "acf662ff-7b05-43f4-9e7a-1b4248dcaf3c"
      },
      "execution_count": 113,
      "outputs": [
        {
          "output_type": "display_data",
          "data": {
            "text/plain": [
              "<Figure size 1656x576 with 1 Axes>"
            ],
            "image/png": "[encoded data removed]"
          },
          "metadata": {}
        }
      ]
    },
    {
      "cell_type": "code",
      "source": [
        ""
      ],
      "metadata": {
        "id": "HYAXMs_7LdXi"
      },
      "execution_count": null,
      "outputs": []
    }
  ]
}