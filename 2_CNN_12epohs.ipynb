{
  "nbformat": 4,
  "nbformat_minor": 0,
  "metadata": {
    "colab": {
      "name": "My_project.ipynb",
      "provenance": [],
      "collapsed_sections": [],
      "history_visible": true,
      "toc_visible": true,
      "mount_file_id": "1DBujUnjswVdnDx01O3XAyGN5zvVr0Wwg",
      "authorship_tag": "ABX9TyMTkTVGa/P/PiPBtdfNpU8I",
      "include_colab_link": true
    },
    "kernelspec": {
      "name": "python3",
      "display_name": "Python 3"
    },
    "language_info": {
      "name": "python"
    }
  },
  "cells": [
    {
      "cell_type": "markdown",
      "metadata": {
        "id": "view-in-github",
        "colab_type": "text"
      },
      "source": [
        "<a href=\"https://colab.research.google.com/github/SRINIVASDEVARAJULA/MP/blob/main/2_CNN_12epohs.ipynb\" target=\"_parent\"><img src=\"https://colab.research.google.com/assets/colab-badge.svg\" alt=\"Open In Colab\"/></a>"
      ]
    },
    {
      "cell_type": "code",
      "execution_count": 1,
      "metadata": {
        "id": "Ixx8yjyPc3q7"
      },
      "outputs": [],
      "source": [
        "import numpy as np\n",
        "import pandas as pd\n",
        "import matplotlib.pyplot as plt\n",
        "%matplotlib inline\n",
        "from sklearn.preprocessing import MinMaxScaler"
      ]
    },
    {
      "cell_type": "code",
      "source": [
        "import tensorflow as tf\n",
        "from tensorflow import keras"
      ],
      "metadata": {
        "id": "y_oezUv8c8MJ"
      },
      "execution_count": 2,
      "outputs": []
    },
    {
      "cell_type": "code",
      "source": [
        "print(tf.__version__)"
      ],
      "metadata": {
        "colab": {
          "base_uri": "https://localhost:8080/"
        },
        "id": "oUBN_opVdAaP",
        "outputId": "75a0b43b-4290-40a9-8606-58aeed2fe6e3"
      },
      "execution_count": 3,
      "outputs": [
        {
          "output_type": "stream",
          "name": "stdout",
          "text": [
            "2.8.0\n"
          ]
        }
      ]
    },
    {
      "cell_type": "code",
      "source": [
        "np.random.seed(19)"
      ],
      "metadata": {
        "id": "bde2CkpTdDej"
      },
      "execution_count": 4,
      "outputs": []
    },
    {
      "cell_type": "code",
      "source": [
        "df=pd.read_csv(\"combinedSample_GoldDs.csv\")"
      ],
      "metadata": {
        "id": "TMPV6WNcdLLx"
      },
      "execution_count": 5,
      "outputs": []
    },
    {
      "cell_type": "code",
      "source": [
        "df.head()"
      ],
      "metadata": {
        "colab": {
          "base_uri": "https://localhost:8080/",
          "height": 455
        },
        "id": "hQCVtVRxzx90",
        "outputId": "04bf0602-044b-4c7e-8b88-2c9d8e6a555e"
      },
      "execution_count": 6,
      "outputs": [
        {
          "output_type": "execute_result",
          "data": {
            "text/plain": [
              "                         Local time  Open_Bid  High_Bid   Low_Bid  Close_Bid  \\\n",
              "0  14.03.2021 22:00:00.000 GMT-0000  1727.188  1729.078  1727.068   1728.258   \n",
              "1  14.03.2021 22:01:00.000 GMT-0000  1728.425  1729.821  1728.415   1729.424   \n",
              "2  14.03.2021 22:02:00.000 GMT-0000  1729.468  1730.298  1729.404   1730.118   \n",
              "3  14.03.2021 22:03:00.000 GMT-0000  1730.118  1730.304  1728.971   1729.141   \n",
              "4  14.03.2021 22:04:00.000 GMT-0000  1729.141  1729.431  1728.318   1728.708   \n",
              "\n",
              "   Volume_Bid  Open_Ask  High_Ask   Low_Ask  Close_Ask  Volume_Ask  \n",
              "0  64608.9986  1727.662  1730.222  1727.646   1729.522  61275.0016  \n",
              "1  71534.9987  1729.522  1730.421  1729.442   1730.405  80849.9977  \n",
              "2  38320.0012  1730.405  1730.611  1730.275   1730.545  59829.9988  \n",
              "3  26130.0001  1730.535  1730.625  1729.425   1729.765  36355.0000  \n",
              "4  30500.0003  1729.676  1729.862  1728.835   1729.219  49090.0017  "
            ],
            "text/html": [
              "\n",
              "  <div id=\"df-827dc635-08cd-4288-a7b5-c35bd55da7ec\">\n",
              "    <div class=\"colab-df-container\">\n",
              "      <div>\n",
              "<style scoped>\n",
              "    .dataframe tbody tr th:only-of-type {\n",
              "        vertical-align: middle;\n",
              "    }\n",
              "\n",
              "    .dataframe tbody tr th {\n",
              "        vertical-align: top;\n",
              "    }\n",
              "\n",
              "    .dataframe thead th {\n",
              "        text-align: right;\n",
              "    }\n",
              "</style>\n",
              "<table border=\"1\" class=\"dataframe\">\n",
              "  <thead>\n",
              "    <tr style=\"text-align: right;\">\n",
              "      <th></th>\n",
              "      <th>Local time</th>\n",
              "      <th>Open_Bid</th>\n",
              "      <th>High_Bid</th>\n",
              "      <th>Low_Bid</th>\n",
              "      <th>Close_Bid</th>\n",
              "      <th>Volume_Bid</th>\n",
              "      <th>Open_Ask</th>\n",
              "      <th>High_Ask</th>\n",
              "      <th>Low_Ask</th>\n",
              "      <th>Close_Ask</th>\n",
              "      <th>Volume_Ask</th>\n",
              "    </tr>\n",
              "  </thead>\n",
              "  <tbody>\n",
              "    <tr>\n",
              "      <th>0</th>\n",
              "      <td>14.03.2021 22:00:00.000 GMT-0000</td>\n",
              "      <td>1727.188</td>\n",
              "      <td>1729.078</td>\n",
              "      <td>1727.068</td>\n",
              "      <td>1728.258</td>\n",
              "      <td>64608.9986</td>\n",
              "      <td>1727.662</td>\n",
              "      <td>1730.222</td>\n",
              "      <td>1727.646</td>\n",
              "      <td>1729.522</td>\n",
              "      <td>61275.0016</td>\n",
              "    </tr>\n",
              "    <tr>\n",
              "      <th>1</th>\n",
              "      <td>14.03.2021 22:01:00.000 GMT-0000</td>\n",
              "      <td>1728.425</td>\n",
              "      <td>1729.821</td>\n",
              "      <td>1728.415</td>\n",
              "      <td>1729.424</td>\n",
              "      <td>71534.9987</td>\n",
              "      <td>1729.522</td>\n",
              "      <td>1730.421</td>\n",
              "      <td>1729.442</td>\n",
              "      <td>1730.405</td>\n",
              "      <td>80849.9977</td>\n",
              "    </tr>\n",
              "    <tr>\n",
              "      <th>2</th>\n",
              "      <td>14.03.2021 22:02:00.000 GMT-0000</td>\n",
              "      <td>1729.468</td>\n",
              "      <td>1730.298</td>\n",
              "      <td>1729.404</td>\n",
              "      <td>1730.118</td>\n",
              "      <td>38320.0012</td>\n",
              "      <td>1730.405</td>\n",
              "      <td>1730.611</td>\n",
              "      <td>1730.275</td>\n",
              "      <td>1730.545</td>\n",
              "      <td>59829.9988</td>\n",
              "    </tr>\n",
              "    <tr>\n",
              "      <th>3</th>\n",
              "      <td>14.03.2021 22:03:00.000 GMT-0000</td>\n",
              "      <td>1730.118</td>\n",
              "      <td>1730.304</td>\n",
              "      <td>1728.971</td>\n",
              "      <td>1729.141</td>\n",
              "      <td>26130.0001</td>\n",
              "      <td>1730.535</td>\n",
              "      <td>1730.625</td>\n",
              "      <td>1729.425</td>\n",
              "      <td>1729.765</td>\n",
              "      <td>36355.0000</td>\n",
              "    </tr>\n",
              "    <tr>\n",
              "      <th>4</th>\n",
              "      <td>14.03.2021 22:04:00.000 GMT-0000</td>\n",
              "      <td>1729.141</td>\n",
              "      <td>1729.431</td>\n",
              "      <td>1728.318</td>\n",
              "      <td>1728.708</td>\n",
              "      <td>30500.0003</td>\n",
              "      <td>1729.676</td>\n",
              "      <td>1729.862</td>\n",
              "      <td>1728.835</td>\n",
              "      <td>1729.219</td>\n",
              "      <td>49090.0017</td>\n",
              "    </tr>\n",
              "  </tbody>\n",
              "</table>\n",
              "</div>\n",
              "      <button class=\"colab-df-convert\" onclick=\"convertToInteractive('df-827dc635-08cd-4288-a7b5-c35bd55da7ec')\"\n",
              "              title=\"Convert this dataframe to an interactive table.\"\n",
              "              style=\"display:none;\">\n",
              "        \n",
              "  <svg xmlns=\"http://www.w3.org/2000/svg\" height=\"24px\"viewBox=\"0 0 24 24\"\n",
              "       width=\"24px\">\n",
              "    <path d=\"M0 0h24v24H0V0z\" fill=\"none\"/>\n",
              "    <path d=\"M18.56 5.44l.94 2.06.94-2.06 2.06-.94-2.06-.94-.94-2.06-.94 2.06-2.06.94zm-11 1L8.5 8.5l.94-2.06 2.06-.94-2.06-.94L8.5 2.5l-.94 2.06-2.06.94zm10 10l.94 2.06.94-2.06 2.06-.94-2.06-.94-.94-2.06-.94 2.06-2.06.94z\"/><path d=\"M17.41 7.96l-1.37-1.37c-.4-.4-.92-.59-1.43-.59-.52 0-1.04.2-1.43.59L10.3 9.45l-7.72 7.72c-.78.78-.78 2.05 0 2.83L4 21.41c.39.39.9.59 1.41.59.51 0 1.02-.2 1.41-.59l7.78-7.78 2.81-2.81c.8-.78.8-2.07 0-2.86zM5.41 20L4 18.59l7.72-7.72 1.47 1.35L5.41 20z\"/>\n",
              "  </svg>\n",
              "      </button>\n",
              "      \n",
              "  <style>\n",
              "    .colab-df-container {\n",
              "      display:flex;\n",
              "      flex-wrap:wrap;\n",
              "      gap: 12px;\n",
              "    }\n",
              "\n",
              "    .colab-df-convert {\n",
              "      background-color: #E8F0FE;\n",
              "      border: none;\n",
              "      border-radius: 50%;\n",
              "      cursor: pointer;\n",
              "      display: none;\n",
              "      fill: #1967D2;\n",
              "      height: 32px;\n",
              "      padding: 0 0 0 0;\n",
              "      width: 32px;\n",
              "    }\n",
              "\n",
              "    .colab-df-convert:hover {\n",
              "      background-color: #E2EBFA;\n",
              "      box-shadow: 0px 1px 2px rgba(60, 64, 67, 0.3), 0px 1px 3px 1px rgba(60, 64, 67, 0.15);\n",
              "      fill: #174EA6;\n",
              "    }\n",
              "\n",
              "    [theme=dark] .colab-df-convert {\n",
              "      background-color: #3B4455;\n",
              "      fill: #D2E3FC;\n",
              "    }\n",
              "\n",
              "    [theme=dark] .colab-df-convert:hover {\n",
              "      background-color: #434B5C;\n",
              "      box-shadow: 0px 1px 3px 1px rgba(0, 0, 0, 0.15);\n",
              "      filter: drop-shadow(0px 1px 2px rgba(0, 0, 0, 0.3));\n",
              "      fill: #FFFFFF;\n",
              "    }\n",
              "  </style>\n",
              "\n",
              "      <script>\n",
              "        const buttonEl =\n",
              "          document.querySelector('#df-827dc635-08cd-4288-a7b5-c35bd55da7ec button.colab-df-convert');\n",
              "        buttonEl.style.display =\n",
              "          google.colab.kernel.accessAllowed ? 'block' : 'none';\n",
              "\n",
              "        async function convertToInteractive(key) {\n",
              "          const element = document.querySelector('#df-827dc635-08cd-4288-a7b5-c35bd55da7ec');\n",
              "          const dataTable =\n",
              "            await google.colab.kernel.invokeFunction('convertToInteractive',\n",
              "                                                     [key], {});\n",
              "          if (!dataTable) return;\n",
              "\n",
              "          const docLinkHtml = 'Like what you see? Visit the ' +\n",
              "            '<a target=\"_blank\" href=https://colab.research.google.com/notebooks/data_table.ipynb>data table notebook</a>'\n",
              "            + ' to learn more about interactive tables.';\n",
              "          element.innerHTML = '';\n",
              "          dataTable['output_type'] = 'display_data';\n",
              "          await google.colab.output.renderOutput(dataTable, element);\n",
              "          const docLink = document.createElement('div');\n",
              "          docLink.innerHTML = docLinkHtml;\n",
              "          element.appendChild(docLink);\n",
              "        }\n",
              "      </script>\n",
              "    </div>\n",
              "  </div>\n",
              "  "
            ]
          },
          "metadata": {},
          "execution_count": 6
        }
      ]
    },
    {
      "cell_type": "code",
      "source": [
        "df[\"Open\"]=(df[\"Open_Bid\"]+df[\"Open_Ask\"])/2\n",
        "df[\"High\"]=(df[\"High_Bid\"]+df[\"High_Ask\"])/2\n",
        "df[\"Low\"]=(df[\"Low_Bid\"]+df[\"Low_Ask\"])/2\n",
        "df[\"Close\"]=(df[\"Close_Bid\"]+df[\"Close_Ask\"])/2"
      ],
      "metadata": {
        "id": "7sp2eSVhBvMF"
      },
      "execution_count": 7,
      "outputs": []
    },
    {
      "cell_type": "code",
      "source": [
        "df.shape"
      ],
      "metadata": {
        "colab": {
          "base_uri": "https://localhost:8080/"
        },
        "id": "TVUOw8POqH1D",
        "outputId": "d5c82e62-5671-40ee-fa50-7acc57a6845f"
      },
      "execution_count": 8,
      "outputs": [
        {
          "output_type": "execute_result",
          "data": {
            "text/plain": [
              "(371279, 15)"
            ]
          },
          "metadata": {},
          "execution_count": 8
        }
      ]
    },
    {
      "cell_type": "code",
      "source": [
        "df.head()"
      ],
      "metadata": {
        "colab": {
          "base_uri": "https://localhost:8080/",
          "height": 455
        },
        "id": "ZTcmpmqrCDMO",
        "outputId": "580ffe78-b28c-44d1-fa8d-40588584c990"
      },
      "execution_count": 9,
      "outputs": [
        {
          "output_type": "execute_result",
          "data": {
            "text/plain": [
              "                         Local time  Open_Bid  High_Bid   Low_Bid  Close_Bid  \\\n",
              "0  14.03.2021 22:00:00.000 GMT-0000  1727.188  1729.078  1727.068   1728.258   \n",
              "1  14.03.2021 22:01:00.000 GMT-0000  1728.425  1729.821  1728.415   1729.424   \n",
              "2  14.03.2021 22:02:00.000 GMT-0000  1729.468  1730.298  1729.404   1730.118   \n",
              "3  14.03.2021 22:03:00.000 GMT-0000  1730.118  1730.304  1728.971   1729.141   \n",
              "4  14.03.2021 22:04:00.000 GMT-0000  1729.141  1729.431  1728.318   1728.708   \n",
              "\n",
              "   Volume_Bid  Open_Ask  High_Ask   Low_Ask  Close_Ask  Volume_Ask       Open  \\\n",
              "0  64608.9986  1727.662  1730.222  1727.646   1729.522  61275.0016  1727.4250   \n",
              "1  71534.9987  1729.522  1730.421  1729.442   1730.405  80849.9977  1728.9735   \n",
              "2  38320.0012  1730.405  1730.611  1730.275   1730.545  59829.9988  1729.9365   \n",
              "3  26130.0001  1730.535  1730.625  1729.425   1729.765  36355.0000  1730.3265   \n",
              "4  30500.0003  1729.676  1729.862  1728.835   1729.219  49090.0017  1729.4085   \n",
              "\n",
              "        High        Low      Close  \n",
              "0  1729.6500  1727.3570  1728.8900  \n",
              "1  1730.1210  1728.9285  1729.9145  \n",
              "2  1730.4545  1729.8395  1730.3315  \n",
              "3  1730.4645  1729.1980  1729.4530  \n",
              "4  1729.6465  1728.5765  1728.9635  "
            ],
            "text/html": [
              "\n",
              "  <div id=\"df-32658e2e-1d9b-4dd6-8f1b-11cd60689745\">\n",
              "    <div class=\"colab-df-container\">\n",
              "      <div>\n",
              "<style scoped>\n",
              "    .dataframe tbody tr th:only-of-type {\n",
              "        vertical-align: middle;\n",
              "    }\n",
              "\n",
              "    .dataframe tbody tr th {\n",
              "        vertical-align: top;\n",
              "    }\n",
              "\n",
              "    .dataframe thead th {\n",
              "        text-align: right;\n",
              "    }\n",
              "</style>\n",
              "<table border=\"1\" class=\"dataframe\">\n",
              "  <thead>\n",
              "    <tr style=\"text-align: right;\">\n",
              "      <th></th>\n",
              "      <th>Local time</th>\n",
              "      <th>Open_Bid</th>\n",
              "      <th>High_Bid</th>\n",
              "      <th>Low_Bid</th>\n",
              "      <th>Close_Bid</th>\n",
              "      <th>Volume_Bid</th>\n",
              "      <th>Open_Ask</th>\n",
              "      <th>High_Ask</th>\n",
              "      <th>Low_Ask</th>\n",
              "      <th>Close_Ask</th>\n",
              "      <th>Volume_Ask</th>\n",
              "      <th>Open</th>\n",
              "      <th>High</th>\n",
              "      <th>Low</th>\n",
              "      <th>Close</th>\n",
              "    </tr>\n",
              "  </thead>\n",
              "  <tbody>\n",
              "    <tr>\n",
              "      <th>0</th>\n",
              "      <td>14.03.2021 22:00:00.000 GMT-0000</td>\n",
              "      <td>1727.188</td>\n",
              "      <td>1729.078</td>\n",
              "      <td>1727.068</td>\n",
              "      <td>1728.258</td>\n",
              "      <td>64608.9986</td>\n",
              "      <td>1727.662</td>\n",
              "      <td>1730.222</td>\n",
              "      <td>1727.646</td>\n",
              "      <td>1729.522</td>\n",
              "      <td>61275.0016</td>\n",
              "      <td>1727.4250</td>\n",
              "      <td>1729.6500</td>\n",
              "      <td>1727.3570</td>\n",
              "      <td>1728.8900</td>\n",
              "    </tr>\n",
              "    <tr>\n",
              "      <th>1</th>\n",
              "      <td>14.03.2021 22:01:00.000 GMT-0000</td>\n",
              "      <td>1728.425</td>\n",
              "      <td>1729.821</td>\n",
              "      <td>1728.415</td>\n",
              "      <td>1729.424</td>\n",
              "      <td>71534.9987</td>\n",
              "      <td>1729.522</td>\n",
              "      <td>1730.421</td>\n",
              "      <td>1729.442</td>\n",
              "      <td>1730.405</td>\n",
              "      <td>80849.9977</td>\n",
              "      <td>1728.9735</td>\n",
              "      <td>1730.1210</td>\n",
              "      <td>1728.9285</td>\n",
              "      <td>1729.9145</td>\n",
              "    </tr>\n",
              "    <tr>\n",
              "      <th>2</th>\n",
              "      <td>14.03.2021 22:02:00.000 GMT-0000</td>\n",
              "      <td>1729.468</td>\n",
              "      <td>1730.298</td>\n",
              "      <td>1729.404</td>\n",
              "      <td>1730.118</td>\n",
              "      <td>38320.0012</td>\n",
              "      <td>1730.405</td>\n",
              "      <td>1730.611</td>\n",
              "      <td>1730.275</td>\n",
              "      <td>1730.545</td>\n",
              "      <td>59829.9988</td>\n",
              "      <td>1729.9365</td>\n",
              "      <td>1730.4545</td>\n",
              "      <td>1729.8395</td>\n",
              "      <td>1730.3315</td>\n",
              "    </tr>\n",
              "    <tr>\n",
              "      <th>3</th>\n",
              "      <td>14.03.2021 22:03:00.000 GMT-0000</td>\n",
              "      <td>1730.118</td>\n",
              "      <td>1730.304</td>\n",
              "      <td>1728.971</td>\n",
              "      <td>1729.141</td>\n",
              "      <td>26130.0001</td>\n",
              "      <td>1730.535</td>\n",
              "      <td>1730.625</td>\n",
              "      <td>1729.425</td>\n",
              "      <td>1729.765</td>\n",
              "      <td>36355.0000</td>\n",
              "      <td>1730.3265</td>\n",
              "      <td>1730.4645</td>\n",
              "      <td>1729.1980</td>\n",
              "      <td>1729.4530</td>\n",
              "    </tr>\n",
              "    <tr>\n",
              "      <th>4</th>\n",
              "      <td>14.03.2021 22:04:00.000 GMT-0000</td>\n",
              "      <td>1729.141</td>\n",
              "      <td>1729.431</td>\n",
              "      <td>1728.318</td>\n",
              "      <td>1728.708</td>\n",
              "      <td>30500.0003</td>\n",
              "      <td>1729.676</td>\n",
              "      <td>1729.862</td>\n",
              "      <td>1728.835</td>\n",
              "      <td>1729.219</td>\n",
              "      <td>49090.0017</td>\n",
              "      <td>1729.4085</td>\n",
              "      <td>1729.6465</td>\n",
              "      <td>1728.5765</td>\n",
              "      <td>1728.9635</td>\n",
              "    </tr>\n",
              "  </tbody>\n",
              "</table>\n",
              "</div>\n",
              "      <button class=\"colab-df-convert\" onclick=\"convertToInteractive('df-32658e2e-1d9b-4dd6-8f1b-11cd60689745')\"\n",
              "              title=\"Convert this dataframe to an interactive table.\"\n",
              "              style=\"display:none;\">\n",
              "        \n",
              "  <svg xmlns=\"http://www.w3.org/2000/svg\" height=\"24px\"viewBox=\"0 0 24 24\"\n",
              "       width=\"24px\">\n",
              "    <path d=\"M0 0h24v24H0V0z\" fill=\"none\"/>\n",
              "    <path d=\"M18.56 5.44l.94 2.06.94-2.06 2.06-.94-2.06-.94-.94-2.06-.94 2.06-2.06.94zm-11 1L8.5 8.5l.94-2.06 2.06-.94-2.06-.94L8.5 2.5l-.94 2.06-2.06.94zm10 10l.94 2.06.94-2.06 2.06-.94-2.06-.94-.94-2.06-.94 2.06-2.06.94z\"/><path d=\"M17.41 7.96l-1.37-1.37c-.4-.4-.92-.59-1.43-.59-.52 0-1.04.2-1.43.59L10.3 9.45l-7.72 7.72c-.78.78-.78 2.05 0 2.83L4 21.41c.39.39.9.59 1.41.59.51 0 1.02-.2 1.41-.59l7.78-7.78 2.81-2.81c.8-.78.8-2.07 0-2.86zM5.41 20L4 18.59l7.72-7.72 1.47 1.35L5.41 20z\"/>\n",
              "  </svg>\n",
              "      </button>\n",
              "      \n",
              "  <style>\n",
              "    .colab-df-container {\n",
              "      display:flex;\n",
              "      flex-wrap:wrap;\n",
              "      gap: 12px;\n",
              "    }\n",
              "\n",
              "    .colab-df-convert {\n",
              "      background-color: #E8F0FE;\n",
              "      border: none;\n",
              "      border-radius: 50%;\n",
              "      cursor: pointer;\n",
              "      display: none;\n",
              "      fill: #1967D2;\n",
              "      height: 32px;\n",
              "      padding: 0 0 0 0;\n",
              "      width: 32px;\n",
              "    }\n",
              "\n",
              "    .colab-df-convert:hover {\n",
              "      background-color: #E2EBFA;\n",
              "      box-shadow: 0px 1px 2px rgba(60, 64, 67, 0.3), 0px 1px 3px 1px rgba(60, 64, 67, 0.15);\n",
              "      fill: #174EA6;\n",
              "    }\n",
              "\n",
              "    [theme=dark] .colab-df-convert {\n",
              "      background-color: #3B4455;\n",
              "      fill: #D2E3FC;\n",
              "    }\n",
              "\n",
              "    [theme=dark] .colab-df-convert:hover {\n",
              "      background-color: #434B5C;\n",
              "      box-shadow: 0px 1px 3px 1px rgba(0, 0, 0, 0.15);\n",
              "      filter: drop-shadow(0px 1px 2px rgba(0, 0, 0, 0.3));\n",
              "      fill: #FFFFFF;\n",
              "    }\n",
              "  </style>\n",
              "\n",
              "      <script>\n",
              "        const buttonEl =\n",
              "          document.querySelector('#df-32658e2e-1d9b-4dd6-8f1b-11cd60689745 button.colab-df-convert');\n",
              "        buttonEl.style.display =\n",
              "          google.colab.kernel.accessAllowed ? 'block' : 'none';\n",
              "\n",
              "        async function convertToInteractive(key) {\n",
              "          const element = document.querySelector('#df-32658e2e-1d9b-4dd6-8f1b-11cd60689745');\n",
              "          const dataTable =\n",
              "            await google.colab.kernel.invokeFunction('convertToInteractive',\n",
              "                                                     [key], {});\n",
              "          if (!dataTable) return;\n",
              "\n",
              "          const docLinkHtml = 'Like what you see? Visit the ' +\n",
              "            '<a target=\"_blank\" href=https://colab.research.google.com/notebooks/data_table.ipynb>data table notebook</a>'\n",
              "            + ' to learn more about interactive tables.';\n",
              "          element.innerHTML = '';\n",
              "          dataTable['output_type'] = 'display_data';\n",
              "          await google.colab.output.renderOutput(dataTable, element);\n",
              "          const docLink = document.createElement('div');\n",
              "          docLink.innerHTML = docLinkHtml;\n",
              "          element.appendChild(docLink);\n",
              "        }\n",
              "      </script>\n",
              "    </div>\n",
              "  </div>\n",
              "  "
            ]
          },
          "metadata": {},
          "execution_count": 9
        }
      ]
    },
    {
      "cell_type": "code",
      "source": [
        "data=df.drop(['Local time','Open_Bid','High_Bid','Low_Bid','Close_Bid','Open_Ask','High_Ask','Low_Ask','Close_Ask'],axis=1)"
      ],
      "metadata": {
        "id": "RNEe8aeZCE0o"
      },
      "execution_count": 10,
      "outputs": []
    },
    {
      "cell_type": "code",
      "source": [
        "data.head()"
      ],
      "metadata": {
        "colab": {
          "base_uri": "https://localhost:8080/",
          "height": 204
        },
        "id": "7ORtyQoEC9LG",
        "outputId": "84b79723-ae90-4427-961b-f266cf2b904e"
      },
      "execution_count": 11,
      "outputs": [
        {
          "output_type": "execute_result",
          "data": {
            "text/plain": [
              "   Volume_Bid  Volume_Ask       Open       High        Low      Close\n",
              "0  64608.9986  61275.0016  1727.4250  1729.6500  1727.3570  1728.8900\n",
              "1  71534.9987  80849.9977  1728.9735  1730.1210  1728.9285  1729.9145\n",
              "2  38320.0012  59829.9988  1729.9365  1730.4545  1729.8395  1730.3315\n",
              "3  26130.0001  36355.0000  1730.3265  1730.4645  1729.1980  1729.4530\n",
              "4  30500.0003  49090.0017  1729.4085  1729.6465  1728.5765  1728.9635"
            ],
            "text/html": [
              "\n",
              "  <div id=\"df-76702886-bb47-41ac-87f9-4d3f6f27f1ba\">\n",
              "    <div class=\"colab-df-container\">\n",
              "      <div>\n",
              "<style scoped>\n",
              "    .dataframe tbody tr th:only-of-type {\n",
              "        vertical-align: middle;\n",
              "    }\n",
              "\n",
              "    .dataframe tbody tr th {\n",
              "        vertical-align: top;\n",
              "    }\n",
              "\n",
              "    .dataframe thead th {\n",
              "        text-align: right;\n",
              "    }\n",
              "</style>\n",
              "<table border=\"1\" class=\"dataframe\">\n",
              "  <thead>\n",
              "    <tr style=\"text-align: right;\">\n",
              "      <th></th>\n",
              "      <th>Volume_Bid</th>\n",
              "      <th>Volume_Ask</th>\n",
              "      <th>Open</th>\n",
              "      <th>High</th>\n",
              "      <th>Low</th>\n",
              "      <th>Close</th>\n",
              "    </tr>\n",
              "  </thead>\n",
              "  <tbody>\n",
              "    <tr>\n",
              "      <th>0</th>\n",
              "      <td>64608.9986</td>\n",
              "      <td>61275.0016</td>\n",
              "      <td>1727.4250</td>\n",
              "      <td>1729.6500</td>\n",
              "      <td>1727.3570</td>\n",
              "      <td>1728.8900</td>\n",
              "    </tr>\n",
              "    <tr>\n",
              "      <th>1</th>\n",
              "      <td>71534.9987</td>\n",
              "      <td>80849.9977</td>\n",
              "      <td>1728.9735</td>\n",
              "      <td>1730.1210</td>\n",
              "      <td>1728.9285</td>\n",
              "      <td>1729.9145</td>\n",
              "    </tr>\n",
              "    <tr>\n",
              "      <th>2</th>\n",
              "      <td>38320.0012</td>\n",
              "      <td>59829.9988</td>\n",
              "      <td>1729.9365</td>\n",
              "      <td>1730.4545</td>\n",
              "      <td>1729.8395</td>\n",
              "      <td>1730.3315</td>\n",
              "    </tr>\n",
              "    <tr>\n",
              "      <th>3</th>\n",
              "      <td>26130.0001</td>\n",
              "      <td>36355.0000</td>\n",
              "      <td>1730.3265</td>\n",
              "      <td>1730.4645</td>\n",
              "      <td>1729.1980</td>\n",
              "      <td>1729.4530</td>\n",
              "    </tr>\n",
              "    <tr>\n",
              "      <th>4</th>\n",
              "      <td>30500.0003</td>\n",
              "      <td>49090.0017</td>\n",
              "      <td>1729.4085</td>\n",
              "      <td>1729.6465</td>\n",
              "      <td>1728.5765</td>\n",
              "      <td>1728.9635</td>\n",
              "    </tr>\n",
              "  </tbody>\n",
              "</table>\n",
              "</div>\n",
              "      <button class=\"colab-df-convert\" onclick=\"convertToInteractive('df-76702886-bb47-41ac-87f9-4d3f6f27f1ba')\"\n",
              "              title=\"Convert this dataframe to an interactive table.\"\n",
              "              style=\"display:none;\">\n",
              "        \n",
              "  <svg xmlns=\"http://www.w3.org/2000/svg\" height=\"24px\"viewBox=\"0 0 24 24\"\n",
              "       width=\"24px\">\n",
              "    <path d=\"M0 0h24v24H0V0z\" fill=\"none\"/>\n",
              "    <path d=\"M18.56 5.44l.94 2.06.94-2.06 2.06-.94-2.06-.94-.94-2.06-.94 2.06-2.06.94zm-11 1L8.5 8.5l.94-2.06 2.06-.94-2.06-.94L8.5 2.5l-.94 2.06-2.06.94zm10 10l.94 2.06.94-2.06 2.06-.94-2.06-.94-.94-2.06-.94 2.06-2.06.94z\"/><path d=\"M17.41 7.96l-1.37-1.37c-.4-.4-.92-.59-1.43-.59-.52 0-1.04.2-1.43.59L10.3 9.45l-7.72 7.72c-.78.78-.78 2.05 0 2.83L4 21.41c.39.39.9.59 1.41.59.51 0 1.02-.2 1.41-.59l7.78-7.78 2.81-2.81c.8-.78.8-2.07 0-2.86zM5.41 20L4 18.59l7.72-7.72 1.47 1.35L5.41 20z\"/>\n",
              "  </svg>\n",
              "      </button>\n",
              "      \n",
              "  <style>\n",
              "    .colab-df-container {\n",
              "      display:flex;\n",
              "      flex-wrap:wrap;\n",
              "      gap: 12px;\n",
              "    }\n",
              "\n",
              "    .colab-df-convert {\n",
              "      background-color: #E8F0FE;\n",
              "      border: none;\n",
              "      border-radius: 50%;\n",
              "      cursor: pointer;\n",
              "      display: none;\n",
              "      fill: #1967D2;\n",
              "      height: 32px;\n",
              "      padding: 0 0 0 0;\n",
              "      width: 32px;\n",
              "    }\n",
              "\n",
              "    .colab-df-convert:hover {\n",
              "      background-color: #E2EBFA;\n",
              "      box-shadow: 0px 1px 2px rgba(60, 64, 67, 0.3), 0px 1px 3px 1px rgba(60, 64, 67, 0.15);\n",
              "      fill: #174EA6;\n",
              "    }\n",
              "\n",
              "    [theme=dark] .colab-df-convert {\n",
              "      background-color: #3B4455;\n",
              "      fill: #D2E3FC;\n",
              "    }\n",
              "\n",
              "    [theme=dark] .colab-df-convert:hover {\n",
              "      background-color: #434B5C;\n",
              "      box-shadow: 0px 1px 3px 1px rgba(0, 0, 0, 0.15);\n",
              "      filter: drop-shadow(0px 1px 2px rgba(0, 0, 0, 0.3));\n",
              "      fill: #FFFFFF;\n",
              "    }\n",
              "  </style>\n",
              "\n",
              "      <script>\n",
              "        const buttonEl =\n",
              "          document.querySelector('#df-76702886-bb47-41ac-87f9-4d3f6f27f1ba button.colab-df-convert');\n",
              "        buttonEl.style.display =\n",
              "          google.colab.kernel.accessAllowed ? 'block' : 'none';\n",
              "\n",
              "        async function convertToInteractive(key) {\n",
              "          const element = document.querySelector('#df-76702886-bb47-41ac-87f9-4d3f6f27f1ba');\n",
              "          const dataTable =\n",
              "            await google.colab.kernel.invokeFunction('convertToInteractive',\n",
              "                                                     [key], {});\n",
              "          if (!dataTable) return;\n",
              "\n",
              "          const docLinkHtml = 'Like what you see? Visit the ' +\n",
              "            '<a target=\"_blank\" href=https://colab.research.google.com/notebooks/data_table.ipynb>data table notebook</a>'\n",
              "            + ' to learn more about interactive tables.';\n",
              "          element.innerHTML = '';\n",
              "          dataTable['output_type'] = 'display_data';\n",
              "          await google.colab.output.renderOutput(dataTable, element);\n",
              "          const docLink = document.createElement('div');\n",
              "          docLink.innerHTML = docLinkHtml;\n",
              "          element.appendChild(docLink);\n",
              "        }\n",
              "      </script>\n",
              "    </div>\n",
              "  </div>\n",
              "  "
            ]
          },
          "metadata": {},
          "execution_count": 11
        }
      ]
    },
    {
      "cell_type": "code",
      "source": [
        "#data.isna.isany()\n",
        "#data['open'].plot(figsize=(15,6))"
      ],
      "metadata": {
        "id": "ePihlbA7bJXC"
      },
      "execution_count": 12,
      "outputs": []
    },
    {
      "cell_type": "code",
      "source": [
        "\n",
        "#normalization\n",
        "data=(data-data.min())/(data.max()-data.min())"
      ],
      "metadata": {
        "id": "mOqu_68UDyLg"
      },
      "execution_count": 13,
      "outputs": []
    },
    {
      "cell_type": "code",
      "source": [
        "data.head()"
      ],
      "metadata": {
        "colab": {
          "base_uri": "https://localhost:8080/",
          "height": 204
        },
        "id": "wFlcPGdNEWix",
        "outputId": "fe41b207-d135-4e5d-80cb-212a47cd20de"
      },
      "execution_count": 14,
      "outputs": [
        {
          "output_type": "execute_result",
          "data": {
            "text/plain": [
              "   Volume_Bid  Volume_Ask      Open      High       Low     Close\n",
              "0    0.021363    0.038988  0.125967  0.130772  0.137818  0.140713\n",
              "1    0.023653    0.051443  0.129923  0.131973  0.141810  0.143297\n",
              "2    0.012671    0.038068  0.132383  0.132824  0.144124  0.144349\n",
              "3    0.008640    0.023132  0.133379  0.132849  0.142495  0.142133\n",
              "4    0.010085    0.031235  0.131034  0.130764  0.140916  0.140899"
            ],
            "text/html": [
              "\n",
              "  <div id=\"df-c8329030-2eac-4bd7-9a14-52f17c6aa371\">\n",
              "    <div class=\"colab-df-container\">\n",
              "      <div>\n",
              "<style scoped>\n",
              "    .dataframe tbody tr th:only-of-type {\n",
              "        vertical-align: middle;\n",
              "    }\n",
              "\n",
              "    .dataframe tbody tr th {\n",
              "        vertical-align: top;\n",
              "    }\n",
              "\n",
              "    .dataframe thead th {\n",
              "        text-align: right;\n",
              "    }\n",
              "</style>\n",
              "<table border=\"1\" class=\"dataframe\">\n",
              "  <thead>\n",
              "    <tr style=\"text-align: right;\">\n",
              "      <th></th>\n",
              "      <th>Volume_Bid</th>\n",
              "      <th>Volume_Ask</th>\n",
              "      <th>Open</th>\n",
              "      <th>High</th>\n",
              "      <th>Low</th>\n",
              "      <th>Close</th>\n",
              "    </tr>\n",
              "  </thead>\n",
              "  <tbody>\n",
              "    <tr>\n",
              "      <th>0</th>\n",
              "      <td>0.021363</td>\n",
              "      <td>0.038988</td>\n",
              "      <td>0.125967</td>\n",
              "      <td>0.130772</td>\n",
              "      <td>0.137818</td>\n",
              "      <td>0.140713</td>\n",
              "    </tr>\n",
              "    <tr>\n",
              "      <th>1</th>\n",
              "      <td>0.023653</td>\n",
              "      <td>0.051443</td>\n",
              "      <td>0.129923</td>\n",
              "      <td>0.131973</td>\n",
              "      <td>0.141810</td>\n",
              "      <td>0.143297</td>\n",
              "    </tr>\n",
              "    <tr>\n",
              "      <th>2</th>\n",
              "      <td>0.012671</td>\n",
              "      <td>0.038068</td>\n",
              "      <td>0.132383</td>\n",
              "      <td>0.132824</td>\n",
              "      <td>0.144124</td>\n",
              "      <td>0.144349</td>\n",
              "    </tr>\n",
              "    <tr>\n",
              "      <th>3</th>\n",
              "      <td>0.008640</td>\n",
              "      <td>0.023132</td>\n",
              "      <td>0.133379</td>\n",
              "      <td>0.132849</td>\n",
              "      <td>0.142495</td>\n",
              "      <td>0.142133</td>\n",
              "    </tr>\n",
              "    <tr>\n",
              "      <th>4</th>\n",
              "      <td>0.010085</td>\n",
              "      <td>0.031235</td>\n",
              "      <td>0.131034</td>\n",
              "      <td>0.130764</td>\n",
              "      <td>0.140916</td>\n",
              "      <td>0.140899</td>\n",
              "    </tr>\n",
              "  </tbody>\n",
              "</table>\n",
              "</div>\n",
              "      <button class=\"colab-df-convert\" onclick=\"convertToInteractive('df-c8329030-2eac-4bd7-9a14-52f17c6aa371')\"\n",
              "              title=\"Convert this dataframe to an interactive table.\"\n",
              "              style=\"display:none;\">\n",
              "        \n",
              "  <svg xmlns=\"http://www.w3.org/2000/svg\" height=\"24px\"viewBox=\"0 0 24 24\"\n",
              "       width=\"24px\">\n",
              "    <path d=\"M0 0h24v24H0V0z\" fill=\"none\"/>\n",
              "    <path d=\"M18.56 5.44l.94 2.06.94-2.06 2.06-.94-2.06-.94-.94-2.06-.94 2.06-2.06.94zm-11 1L8.5 8.5l.94-2.06 2.06-.94-2.06-.94L8.5 2.5l-.94 2.06-2.06.94zm10 10l.94 2.06.94-2.06 2.06-.94-2.06-.94-.94-2.06-.94 2.06-2.06.94z\"/><path d=\"M17.41 7.96l-1.37-1.37c-.4-.4-.92-.59-1.43-.59-.52 0-1.04.2-1.43.59L10.3 9.45l-7.72 7.72c-.78.78-.78 2.05 0 2.83L4 21.41c.39.39.9.59 1.41.59.51 0 1.02-.2 1.41-.59l7.78-7.78 2.81-2.81c.8-.78.8-2.07 0-2.86zM5.41 20L4 18.59l7.72-7.72 1.47 1.35L5.41 20z\"/>\n",
              "  </svg>\n",
              "      </button>\n",
              "      \n",
              "  <style>\n",
              "    .colab-df-container {\n",
              "      display:flex;\n",
              "      flex-wrap:wrap;\n",
              "      gap: 12px;\n",
              "    }\n",
              "\n",
              "    .colab-df-convert {\n",
              "      background-color: #E8F0FE;\n",
              "      border: none;\n",
              "      border-radius: 50%;\n",
              "      cursor: pointer;\n",
              "      display: none;\n",
              "      fill: #1967D2;\n",
              "      height: 32px;\n",
              "      padding: 0 0 0 0;\n",
              "      width: 32px;\n",
              "    }\n",
              "\n",
              "    .colab-df-convert:hover {\n",
              "      background-color: #E2EBFA;\n",
              "      box-shadow: 0px 1px 2px rgba(60, 64, 67, 0.3), 0px 1px 3px 1px rgba(60, 64, 67, 0.15);\n",
              "      fill: #174EA6;\n",
              "    }\n",
              "\n",
              "    [theme=dark] .colab-df-convert {\n",
              "      background-color: #3B4455;\n",
              "      fill: #D2E3FC;\n",
              "    }\n",
              "\n",
              "    [theme=dark] .colab-df-convert:hover {\n",
              "      background-color: #434B5C;\n",
              "      box-shadow: 0px 1px 3px 1px rgba(0, 0, 0, 0.15);\n",
              "      filter: drop-shadow(0px 1px 2px rgba(0, 0, 0, 0.3));\n",
              "      fill: #FFFFFF;\n",
              "    }\n",
              "  </style>\n",
              "\n",
              "      <script>\n",
              "        const buttonEl =\n",
              "          document.querySelector('#df-c8329030-2eac-4bd7-9a14-52f17c6aa371 button.colab-df-convert');\n",
              "        buttonEl.style.display =\n",
              "          google.colab.kernel.accessAllowed ? 'block' : 'none';\n",
              "\n",
              "        async function convertToInteractive(key) {\n",
              "          const element = document.querySelector('#df-c8329030-2eac-4bd7-9a14-52f17c6aa371');\n",
              "          const dataTable =\n",
              "            await google.colab.kernel.invokeFunction('convertToInteractive',\n",
              "                                                     [key], {});\n",
              "          if (!dataTable) return;\n",
              "\n",
              "          const docLinkHtml = 'Like what you see? Visit the ' +\n",
              "            '<a target=\"_blank\" href=https://colab.research.google.com/notebooks/data_table.ipynb>data table notebook</a>'\n",
              "            + ' to learn more about interactive tables.';\n",
              "          element.innerHTML = '';\n",
              "          dataTable['output_type'] = 'display_data';\n",
              "          await google.colab.output.renderOutput(dataTable, element);\n",
              "          const docLink = document.createElement('div');\n",
              "          docLink.innerHTML = docLinkHtml;\n",
              "          element.appendChild(docLink);\n",
              "        }\n",
              "      </script>\n",
              "    </div>\n",
              "  </div>\n",
              "  "
            ]
          },
          "metadata": {},
          "execution_count": 14
        }
      ]
    },
    {
      "cell_type": "code",
      "source": [
        "np.random.seed(19)"
      ],
      "metadata": {
        "id": "aBukmfkLEYfG"
      },
      "execution_count": 15,
      "outputs": []
    },
    {
      "cell_type": "code",
      "source": [
        "print(data.head(n=5))\n",
        "print(data[-5:])"
      ],
      "metadata": {
        "colab": {
          "base_uri": "https://localhost:8080/"
        },
        "id": "O3OMFDtwFNLS",
        "outputId": "3a33691f-fb71-4192-a8de-b6822613f4b1"
      },
      "execution_count": 16,
      "outputs": [
        {
          "output_type": "stream",
          "name": "stdout",
          "text": [
            "   Volume_Bid  Volume_Ask      Open      High       Low     Close\n",
            "0    0.021363    0.038988  0.125967  0.130772  0.137818  0.140713\n",
            "1    0.023653    0.051443  0.129923  0.131973  0.141810  0.143297\n",
            "2    0.012671    0.038068  0.132383  0.132824  0.144124  0.144349\n",
            "3    0.008640    0.023132  0.133379  0.132849  0.142495  0.142133\n",
            "4    0.010085    0.031235  0.131034  0.130764  0.140916  0.140899\n",
            "        Volume_Bid  Volume_Ask      Open      High       Low     Close\n",
            "371274    0.003809    0.012897  0.785339  0.786228  0.793662  0.789447\n",
            "371275    0.003402    0.015334  0.786724  0.788796  0.794671  0.793563\n",
            "371276    0.001270    0.002914  0.790729  0.790754  0.798524  0.795500\n",
            "371277    0.001746    0.007565  0.792612  0.790772  0.800340  0.794850\n",
            "371278    0.001696    0.004352  0.792190  0.791118  0.800259  0.795753\n"
          ]
        }
      ]
    },
    {
      "cell_type": "code",
      "source": [
        "data.info()"
      ],
      "metadata": {
        "colab": {
          "base_uri": "https://localhost:8080/"
        },
        "id": "DZn562-kFR6r",
        "outputId": "7d8c7323-eac1-400c-c1ff-6aaacb5636e5"
      },
      "execution_count": 17,
      "outputs": [
        {
          "output_type": "stream",
          "name": "stdout",
          "text": [
            "<class 'pandas.core.frame.DataFrame'>\n",
            "RangeIndex: 371279 entries, 0 to 371278\n",
            "Data columns (total 6 columns):\n",
            " #   Column      Non-Null Count   Dtype  \n",
            "---  ------      --------------   -----  \n",
            " 0   Volume_Bid  371279 non-null  float64\n",
            " 1   Volume_Ask  371279 non-null  float64\n",
            " 2   Open        371279 non-null  float64\n",
            " 3   High        371279 non-null  float64\n",
            " 4   Low         371279 non-null  float64\n",
            " 5   Close       371279 non-null  float64\n",
            "dtypes: float64(6)\n",
            "memory usage: 17.0 MB\n"
          ]
        }
      ]
    },
    {
      "cell_type": "code",
      "source": [
        "#downsizing\n",
        "data['Volume_Bid']=pd.to_numeric(data['Volume_Bid'],downcast='float')\n",
        "data['Volume_Ask']=pd.to_numeric(data['Volume_Ask'],downcast='float')\n",
        "data['Open']=pd.to_numeric(data['Open'],downcast='float')\n",
        "data['High']=pd.to_numeric(data['High'],downcast='float')\n",
        "data['Low']=pd.to_numeric(data['Low'],downcast='float')\n",
        "data['Close']=pd.to_numeric(data['Close'],downcast='float')\n",
        "data.info()"
      ],
      "metadata": {
        "colab": {
          "base_uri": "https://localhost:8080/"
        },
        "id": "0-8KIFp9FUvl",
        "outputId": "1c0f531d-ab38-4df3-f691-1e947d70d4ea"
      },
      "execution_count": 18,
      "outputs": [
        {
          "output_type": "stream",
          "name": "stdout",
          "text": [
            "<class 'pandas.core.frame.DataFrame'>\n",
            "RangeIndex: 371279 entries, 0 to 371278\n",
            "Data columns (total 6 columns):\n",
            " #   Column      Non-Null Count   Dtype  \n",
            "---  ------      --------------   -----  \n",
            " 0   Volume_Bid  371279 non-null  float32\n",
            " 1   Volume_Ask  371279 non-null  float32\n",
            " 2   Open        371279 non-null  float32\n",
            " 3   High        371279 non-null  float32\n",
            " 4   Low         371279 non-null  float32\n",
            " 5   Close       371279 non-null  float32\n",
            "dtypes: float32(6)\n",
            "memory usage: 8.5 MB\n"
          ]
        }
      ]
    },
    {
      "cell_type": "code",
      "source": [
        "#visualization\n",
        "import matplotlib.pyplot as plt\n",
        "%matplotlib inline\n",
        "plt.figure(num=1,figsize=(15,7))\n",
        "plt.hist(data['Volume_Ask'],bins=100)\n",
        "plt.title('Ask volume distribution',size=18)\n",
        "plt.ylabel('Numbers',size=14)\n",
        "plt.xlabel('Volume,mln lots',size=14);"
      ],
      "metadata": {
        "colab": {
          "base_uri": "https://localhost:8080/",
          "height": 404
        },
        "id": "FyjWXknqFZNo",
        "outputId": "087db87d-4def-4723-f4c7-7d1f4aa50a4c"
      },
      "execution_count": 19,
      "outputs": [
        {
          "output_type": "display_data",
          "data": {
            "text/plain": [
              "<Figure size 1080x504 with 1 Axes>"
            ],
            "image/png": "[encoded data removed]"
          },
          "metadata": {
            "needs_background": "light"
          }
        }
      ]
    },
    {
      "cell_type": "code",
      "source": [
        "n=data.shape[0]\n",
        "p=data.shape[1]\n",
        "\n",
        "#one week data\n",
        "n_small=300000\n",
        "data_a=np.array(data[:n_small])\n",
        "print(\"data_a:\")\n",
        "print(data_a[:4])\n",
        "print('\\n')\n",
        "print(data_a[-4:])\n",
        "print('\\n',\"Tick number in the DataFrame: n_small=\",n_small,'\\n')\n",
        "print(\"numpy size:                                =\",data_a.shape)"
      ],
      "metadata": {
        "colab": {
          "base_uri": "https://localhost:8080/"
        },
        "id": "_CPxAuuUFea2",
        "outputId": "eb53a04b-06dc-467f-b14f-c02777a6d470"
      },
      "execution_count": 20,
      "outputs": [
        {
          "output_type": "stream",
          "name": "stdout",
          "text": [
            "data_a:\n",
            "[[0.02136336 0.03898769 0.12596732 0.13077244 0.1378183  0.14071327]\n",
            " [0.02365348 0.05144275 0.12992284 0.13197334 0.14181007 0.14329727]\n",
            " [0.01267074 0.03806827 0.13238275 0.13282366 0.1441241  0.14434902]\n",
            " [0.00864004 0.02313174 0.13337897 0.13284916 0.14249463 0.14213327]]\n",
            "\n",
            "\n",
            "[[0.00307841 0.00886966 0.38873526 0.38756987 0.3988671  0.3965383 ]\n",
            " [0.00436135 0.01061305 0.38878253 0.38825828 0.39923924 0.3971953 ]\n",
            " [0.00365044 0.00701174 0.38944283 0.38814354 0.39935482 0.3966026 ]\n",
            " [0.01140102 0.01618045 0.38875315 0.38739648 0.39775455 0.39564416]]\n",
            "\n",
            " Tick number in the DataFrame: n_small= 300000 \n",
            "\n",
            "numpy size:                                = (300000, 6)\n"
          ]
        }
      ]
    },
    {
      "cell_type": "code",
      "source": [
        "data=[]\n",
        "data"
      ],
      "metadata": {
        "colab": {
          "base_uri": "https://localhost:8080/"
        },
        "id": "b4mlm_-AFn12",
        "outputId": "9929b351-94f7-4f68-f96c-ff3658b1be12"
      },
      "execution_count": 21,
      "outputs": [
        {
          "output_type": "execute_result",
          "data": {
            "text/plain": [
              "[]"
            ]
          },
          "metadata": {},
          "execution_count": 21
        }
      ]
    },
    {
      "cell_type": "code",
      "source": [
        "N=50\n",
        "L=n_small-N\n",
        "print('Size of a three-dimensional data tensor: ',L,N,6)"
      ],
      "metadata": {
        "colab": {
          "base_uri": "https://localhost:8080/"
        },
        "id": "NzTMuXERFqv6",
        "outputId": "9f401c6c-c9ee-4b3c-d681-377169506cc3"
      },
      "execution_count": 22,
      "outputs": [
        {
          "output_type": "stream",
          "name": "stdout",
          "text": [
            "Size of a three-dimensional data tensor:  299950 50 6\n"
          ]
        }
      ]
    },
    {
      "cell_type": "code",
      "source": [
        "from tqdm import tqdm"
      ],
      "metadata": {
        "id": "5vax7i8_Ft3-"
      },
      "execution_count": 23,
      "outputs": []
    },
    {
      "cell_type": "code",
      "source": [
        "data_b=np.zeros((L,N,6),dtype='float64')\n",
        "Y=np.zeros((L,4),dtype='float64')"
      ],
      "metadata": {
        "id": "0RsJwE29Fxxx"
      },
      "execution_count": 24,
      "outputs": []
    },
    {
      "cell_type": "code",
      "source": [
        "print('n_small-N=',n_small-N)"
      ],
      "metadata": {
        "colab": {
          "base_uri": "https://localhost:8080/"
        },
        "id": "2lQDmA8tF1oD",
        "outputId": "8fd2fd64-5fe6-456a-b588-10aea7433398"
      },
      "execution_count": 25,
      "outputs": [
        {
          "output_type": "stream",
          "name": "stdout",
          "text": [
            "n_small-N= 299950\n"
          ]
        }
      ]
    },
    {
      "cell_type": "code",
      "source": [
        "print('n_small-N=',n_small-N)\n",
        "for k in tqdm(range(n_small-N)):\n",
        "    data_b[k,:,:]=data_a[k:k+N,:]\n",
        "    Y[k,0]=data_a[k+N,2]\n",
        "    Y[k,1]=data_a[k+N,3]\n",
        "    Y[k,2]=data_a[k+N,4]\n",
        "    Y[k,3]=data_a[k+N,5]\n",
        "print(k)\n",
        "print('data_b:','\\n',data_b)\n",
        "print(\"Numpy size:\",data_b.shape,'\\n')\n",
        "print(Y[:5,:])\n",
        "print(Y[-10:,:])\n",
        "print(\"Numpy size:\",Y.shape)"
      ],
      "metadata": {
        "colab": {
          "base_uri": "https://localhost:8080/"
        },
        "id": "-or-dH3_F72o",
        "outputId": "e5815f51-9e78-4b99-98f3-7f7af4e87df8"
      },
      "execution_count": 26,
      "outputs": [
        {
          "output_type": "stream",
          "name": "stdout",
          "text": [
            "n_small-N= 299950\n"
          ]
        },
        {
          "output_type": "stream",
          "name": "stderr",
          "text": [
            "100%|██████████| 299950/299950 [00:01<00:00, 224574.92it/s]"
          ]
        },
        {
          "output_type": "stream",
          "name": "stdout",
          "text": [
            "299949\n",
            "data_b: \n",
            " [[[0.02136336 0.03898769 0.12596732 0.13077244 0.13781831 0.14071327]\n",
            "  [0.02365348 0.05144275 0.12992284 0.13197334 0.14181007 0.14329727]\n",
            "  [0.01267074 0.03806827 0.13238275 0.13282366 0.14412411 0.14434902]\n",
            "  ...\n",
            "  [0.01228387 0.01943817 0.12703635 0.12626846 0.13735728 0.13696404]\n",
            "  [0.00335285 0.0058919  0.12589963 0.12541433 0.13777131 0.13683793]\n",
            "  [0.00501605 0.00699265 0.12576425 0.12498087 0.13689499 0.13616954]]\n",
            "\n",
            " [[0.02365348 0.05144275 0.12992284 0.13197334 0.14181007 0.14329727]\n",
            "  [0.01267074 0.03806827 0.13238275 0.13282366 0.14412411 0.14434902]\n",
            "  [0.00864004 0.02313174 0.13337897 0.13284916 0.14249463 0.14213327]\n",
            "  ...\n",
            "  [0.00335285 0.0058919  0.12589963 0.12541433 0.13777131 0.13683793]\n",
            "  [0.00501605 0.00699265 0.12576425 0.12498087 0.13689499 0.13616954]\n",
            "  [0.01111005 0.01969904 0.12513331 0.12466217 0.13600594 0.13570294]]\n",
            "\n",
            " [[0.01267074 0.03806827 0.13238275 0.13282366 0.14412411 0.14434902]\n",
            "  [0.00864004 0.02313174 0.13337897 0.13284916 0.14249463 0.14213327]\n",
            "  [0.01008501 0.03123469 0.13103402 0.13076353 0.14091596 0.14089866]\n",
            "  ...\n",
            "  [0.00501605 0.00699265 0.12576425 0.12498087 0.13689499 0.13616954]\n",
            "  [0.01111005 0.01969904 0.12513331 0.12466217 0.13600594 0.13570294]\n",
            "  [0.01439015 0.02555913 0.12466074 0.12425422 0.13617106 0.13584165]]\n",
            "\n",
            " ...\n",
            "\n",
            " [[0.00305526 0.00434575 0.38251272 0.38146085 0.39309853 0.39057961]\n",
            "  [0.00289985 0.00738078 0.38280645 0.38149402 0.39313155 0.39048627]\n",
            "  [0.00152102 0.00544651 0.38253826 0.38144302 0.39308077 0.39053673]\n",
            "  ...\n",
            "  [0.00471185 0.01198104 0.38823715 0.38688144 0.39780536 0.3957274 ]\n",
            "  [0.00646433 0.01259186 0.38798809 0.38756987 0.39817366 0.39651433]\n",
            "  [0.00307841 0.00886966 0.38873526 0.38756987 0.3988671  0.39653829]]\n",
            "\n",
            " [[0.00289985 0.00738078 0.38280645 0.38149402 0.39313155 0.39048627]\n",
            "  [0.00152102 0.00544651 0.38253826 0.38144302 0.39308077 0.39053673]\n",
            "  [0.00332309 0.01442433 0.38258934 0.38234049 0.39306808 0.39126313]\n",
            "  ...\n",
            "  [0.00646433 0.01259186 0.38798809 0.38756987 0.39817366 0.39651433]\n",
            "  [0.00307841 0.00886966 0.38873526 0.38756987 0.3988671  0.39653829]\n",
            "  [0.00436135 0.01061305 0.38878253 0.38825828 0.39923924 0.39719531]]\n",
            "\n",
            " [[0.00152102 0.00544651 0.38253826 0.38144302 0.39308077 0.39053673]\n",
            "  [0.00332309 0.01442433 0.38258934 0.38234049 0.39306808 0.39126313]\n",
            "  [0.00449362 0.01235644 0.38359323 0.38234815 0.39325857 0.39051151]\n",
            "  ...\n",
            "  [0.00307841 0.00886966 0.38873526 0.38756987 0.3988671  0.39653829]\n",
            "  [0.00436135 0.01061305 0.38878253 0.38825828 0.39923924 0.39719531]\n",
            "  [0.00365044 0.00701174 0.38944283 0.38814354 0.39935482 0.3966026 ]]]\n",
            "Numpy size: (299950, 50, 6) \n",
            "\n",
            "[[0.12513331 0.12466217 0.13600594 0.13570294]\n",
            " [0.12466074 0.12425422 0.13617106 0.13584165]\n",
            " [0.12476292 0.12463667 0.13666637 0.13653526]\n",
            " [0.12542707 0.12495538 0.13715407 0.13676226]\n",
            " [0.12554201 0.12476926 0.13696738 0.13657309]]\n",
            "[[0.38691396 0.38635111 0.39704332 0.39503884]\n",
            " [0.38729712 0.38652959 0.39780536 0.39513972]\n",
            " [0.38737378 0.38626954 0.39764786 0.39508423]\n",
            " [0.38733673 0.38685596 0.39762753 0.39592919]\n",
            " [0.38823715 0.38688144 0.39780536 0.3957274 ]\n",
            " [0.38798809 0.38756987 0.39817366 0.39651433]\n",
            " [0.38873526 0.38756987 0.3988671  0.39653829]\n",
            " [0.38878253 0.38825828 0.39923924 0.39719531]\n",
            " [0.38944283 0.38814354 0.39935482 0.3966026 ]\n",
            " [0.38875315 0.38739648 0.39775455 0.39564416]]\n",
            "Numpy size: (299950, 4)\n"
          ]
        },
        {
          "output_type": "stream",
          "name": "stderr",
          "text": [
            "\n"
          ]
        }
      ]
    },
    {
      "cell_type": "code",
      "source": [
        "data_a=[]\n",
        "data_a"
      ],
      "metadata": {
        "colab": {
          "base_uri": "https://localhost:8080/"
        },
        "id": "rOlUfOQpGBqs",
        "outputId": "8c2c8854-a71a-4a8c-b4b5-b8759f202ee0"
      },
      "execution_count": 27,
      "outputs": [
        {
          "output_type": "execute_result",
          "data": {
            "text/plain": [
              "[]"
            ]
          },
          "metadata": {},
          "execution_count": 27
        }
      ]
    },
    {
      "cell_type": "code",
      "source": [
        "import random \n",
        "pp=random.randint(10,n_small-N-1)\n",
        "print('random int = ',pp)\n",
        "print('data_b','\\t\\t\\t\\t\\t\\t\\t\\t','Y:')\n",
        "print('Open','\\t\\t','High','\\t\\t','low','\\t\\t','close','\\t\\t','Open','\\t\\t','High','\\t\\t','low','\\t\\t','close')\n",
        "for i in range(7):\n",
        "    print(data_b[pp+i,N-1,2],'\\t',data_b[pp+i,N-1,3],'\\t',data_b[pp+i,N-1,4],'\\t',data_b[pp+i,N-1,5],'\\t',\n",
        "          Y[pp+i,0],'\\t',Y[pp+i,1],'\\t',Y[pp+i,2],'\\t',Y[pp+i,3])"
      ],
      "metadata": {
        "colab": {
          "base_uri": "https://localhost:8080/"
        },
        "id": "9ouP7L1BGGzx",
        "outputId": "ddd05105-dcfd-473d-e4a9-c688ad080491"
      },
      "execution_count": 28,
      "outputs": [
        {
          "output_type": "stream",
          "name": "stdout",
          "text": [
            "random int =  47152\n",
            "data_b \t\t\t\t\t\t\t\t Y:\n",
            "Open \t\t High \t\t low \t\t close \t\t Open \t\t High \t\t low \t\t close\n",
            "0.2654896676540375 \t 0.2651819884777069 \t 0.2767314016819 \t 0.2753392457962036 \t 0.26605165004730225 \t 0.26498693227767944 \t 0.2770616114139557 \t 0.27522194385528564\n",
            "0.26605165004730225 \t 0.26498693227767944 \t 0.2770616114139557 \t 0.27522194385528564 \t 0.2659239172935486 \t 0.26529672741889954 \t 0.27709081768989563 \t 0.275704950094223\n",
            "0.2659239172935486 \t 0.26529672741889954 \t 0.27709081768989563 \t 0.275704950094223 \t 0.2664003372192383 \t 0.2661598026752472 \t 0.2774845361709595 \t 0.2765587270259857\n",
            "0.2664003372192383 \t 0.2661598026752472 \t 0.2774845361709595 \t 0.2765587270259857 \t 0.2672649919986725 \t 0.26627835631370544 \t 0.2781195640563965 \t 0.27649566531181335\n",
            "0.2672649919986725 \t 0.26627835631370544 \t 0.2781195640563965 \t 0.27649566531181335 \t 0.2673633396625519 \t 0.2666187286376953 \t 0.2785945534706116 \t 0.27695342898368835\n",
            "0.2673633396625519 \t 0.2666187286376953 \t 0.2785945534706116 \t 0.27695342898368835 \t 0.2677030861377716 \t 0.2665843069553375 \t 0.278665691614151 \t 0.276852548122406\n",
            "0.2677030861377716 \t 0.2665843069553375 \t 0.278665691614151 \t 0.276852548122406 \t 0.2676008939743042 \t 0.26648232340812683 \t 0.27818307280540466 \t 0.27623966336250305\n"
          ]
        }
      ]
    },
    {
      "cell_type": "code",
      "source": [
        "print('\\t','\\t Max \\t\\t Min')\n",
        "mnx=data_b[:,:,0].max()\n",
        "mmn=data_b[:,:,0].min()\n",
        "print('Volume_bid','\\t',mnx,'\\t\\t',mmn)\n",
        "mnx=data_b[:,:,1].max()\n",
        "mmn=data_b[:,:,1].min()\n",
        "print('Volume_Ask','\\t',mnx,'\\t',mmn)\n",
        "mnx=data_b[:,:,2].max()\n",
        "mmn=data_b[:,:,2].min()\n",
        "print('Open','\\t\\t',mnx,'\\t',mmn)\n",
        "mnx=data_b[:,:,3].max()\n",
        "mmn=data_b[:,:,3].min()\n",
        "print('High','\\t\\t',mnx,'\\t',mmn)\n",
        "mnx=data_b[:,:,4].max()\n",
        "mmn=data_b[:,:,4].min()\n",
        "print('Low','\\t\\t',mnx,'\\t',mmn)\n",
        "mnx=data_b[:,:,5].max()\n",
        "mmn=data_b[:,:,5].min()\n",
        "print('Close','\\t\\t',mnx,'\\t',mmn)"
      ],
      "metadata": {
        "colab": {
          "base_uri": "https://localhost:8080/"
        },
        "id": "awv2AsCrGLuK",
        "outputId": "ea9d2449-0864-49bd-f959-b386d5db8723"
      },
      "execution_count": 29,
      "outputs": [
        {
          "output_type": "stream",
          "name": "stdout",
          "text": [
            "\t \t Max \t\t Min\n",
            "Volume_bid \t 1.0 \t\t 0.0\n",
            "Volume_Ask \t 0.8096268177032471 \t 0.0\n",
            "Open \t\t 0.609148383140564 \t 0.0\n",
            "High \t\t 0.6074926853179932 \t 0.0\n",
            "Low \t\t 0.6172917485237122 \t 0.0\n",
            "Close \t\t 0.6140284538269043 \t 0.0\n"
          ]
        }
      ]
    },
    {
      "cell_type": "code",
      "source": [
        "train_start=0\n",
        "train_end=int(np.floor(0.9*L))\n",
        "print(L,train_end)"
      ],
      "metadata": {
        "colab": {
          "base_uri": "https://localhost:8080/"
        },
        "id": "0NrbgQocGSol",
        "outputId": "fef137ac-a064-4c68-ff86-467fc909faad"
      },
      "execution_count": 30,
      "outputs": [
        {
          "output_type": "stream",
          "name": "stdout",
          "text": [
            "299950 269955\n"
          ]
        }
      ]
    },
    {
      "cell_type": "code",
      "source": [
        "\n",
        "train_end_=4955\n",
        "print(train_end)"
      ],
      "metadata": {
        "colab": {
          "base_uri": "https://localhost:8080/"
        },
        "id": "ZJVn21n5Ggeh",
        "outputId": "a1ebbd29-87ef-4b6a-acde-f6ddbd101335"
      },
      "execution_count": 31,
      "outputs": [
        {
          "output_type": "stream",
          "name": "stdout",
          "text": [
            "269955\n"
          ]
        }
      ]
    },
    {
      "cell_type": "code",
      "source": [
        "test_start=train_end+1\n",
        "test_end=L\n",
        "print(test_start,test_end)"
      ],
      "metadata": {
        "colab": {
          "base_uri": "https://localhost:8080/"
        },
        "id": "Qi3CB04rGjco",
        "outputId": "77aa9207-407f-4de0-a22c-32ab2bbd80ba"
      },
      "execution_count": 32,
      "outputs": [
        {
          "output_type": "stream",
          "name": "stdout",
          "text": [
            "269956 299950\n"
          ]
        }
      ]
    },
    {
      "cell_type": "code",
      "source": [
        "print(test_end-train_end)"
      ],
      "metadata": {
        "colab": {
          "base_uri": "https://localhost:8080/"
        },
        "id": "fQDN8HQNGmow",
        "outputId": "dde15358-5beb-4cb3-d6ef-e014c13437fd"
      },
      "execution_count": 33,
      "outputs": [
        {
          "output_type": "stream",
          "name": "stdout",
          "text": [
            "29995\n"
          ]
        }
      ]
    },
    {
      "cell_type": "code",
      "source": [
        "X_train=np.zeros((train_end,N,6),dtype='float32')\n",
        "X_test=np.zeros((test_end-train_end,N,6),dtype='float32')\n",
        "for z in tqdm(range(test_end)):\n",
        "    if z<train_end:\n",
        "        X_train[z,:,:]=data_b[z,:,:]\n",
        "    else:\n",
        "        X_test[z-train_end,:,:]=data_b[z,:,:]\n",
        "print('\\n',\"X_train:\",X_train.shape,'\\n')\n",
        "print(\"X_test:\",X_test.shape,'\\n')"
      ],
      "metadata": {
        "colab": {
          "base_uri": "https://localhost:8080/"
        },
        "id": "DCUfhnVfGpc5",
        "outputId": "af9c017c-8b65-4667-fbd3-712a910b70e4"
      },
      "execution_count": 34,
      "outputs": [
        {
          "output_type": "stream",
          "name": "stderr",
          "text": [
            "100%|██████████| 299950/299950 [00:00<00:00, 568161.14it/s]"
          ]
        },
        {
          "output_type": "stream",
          "name": "stdout",
          "text": [
            "\n",
            " X_train: (269955, 50, 6) \n",
            "\n",
            "X_test: (29995, 50, 6) \n",
            "\n"
          ]
        },
        {
          "output_type": "stream",
          "name": "stderr",
          "text": [
            "\n"
          ]
        }
      ]
    },
    {
      "cell_type": "code",
      "source": [
        "print(X_train[:5,N-1,:])\n",
        "print(X_train[-5:,N-1,:],'\\n')\n",
        "print(X_test[:5,N-1,:])\n",
        "print(X_test[-5:,N-1,:])"
      ],
      "metadata": {
        "colab": {
          "base_uri": "https://localhost:8080/"
        },
        "id": "46PnhNCMGtGB",
        "outputId": "a9a3530c-e5f7-4db2-8181-67769b9c85ba"
      },
      "execution_count": 35,
      "outputs": [
        {
          "output_type": "stream",
          "name": "stdout",
          "text": [
            "[[0.00501605 0.00699265 0.12576425 0.12498087 0.13689499 0.13616954]\n",
            " [0.01111005 0.01969904 0.1251333  0.12466217 0.13600594 0.13570294]\n",
            " [0.01439015 0.02555913 0.12466074 0.12425422 0.13617106 0.13584165]\n",
            " [0.01003541 0.01736392 0.12476292 0.12463667 0.13666637 0.13653526]\n",
            " [0.00501605 0.00780072 0.12542707 0.12495538 0.13715407 0.13676226]]\n",
            "[[0.0076613  0.00948048 0.2323678  0.2315353  0.24371897 0.24213076]\n",
            " [0.00959895 0.0104858  0.23243167 0.2315009  0.24123093 0.23995788]\n",
            " [0.01142748 0.03139376 0.23020932 0.23121278 0.24164878 0.2418243 ]\n",
            " [0.00649739 0.01182833 0.2321162  0.23142695 0.24288073 0.24140814]\n",
            " [0.00961879 0.01159291 0.23169471 0.231353   0.24263942 0.2411597 ]] \n",
            "\n",
            "[[0.00440434 0.01154837 0.23138435 0.23072834 0.24242732 0.24074355]\n",
            " [0.01333867 0.01464066 0.23101397 0.23030764 0.24136049 0.24007516]\n",
            " [0.00531364 0.01544873 0.23033832 0.22975947 0.24137318 0.24055059]\n",
            " [0.0052938  0.01591957 0.23073426 0.22967151 0.23995072 0.24010038]\n",
            " [0.00585261 0.01920275 0.23043028 0.22992647 0.24087532 0.24000327]]\n",
            "[[0.00471185 0.01198104 0.38823715 0.38688144 0.39780536 0.3957274 ]\n",
            " [0.00646433 0.01259186 0.3879881  0.38756987 0.39817366 0.39651433]\n",
            " [0.00307841 0.00886966 0.38873526 0.38756987 0.3988671  0.3965383 ]\n",
            " [0.00436135 0.01061305 0.38878253 0.38825828 0.39923924 0.3971953 ]\n",
            " [0.00365044 0.00701174 0.38944283 0.38814354 0.39935482 0.3966026 ]]\n"
          ]
        }
      ]
    },
    {
      "cell_type": "code",
      "source": [
        "y_train=Y[np.arange(train_start,train_end),:]\n",
        "y_test=Y[np.arange(test_start,L),:]\n",
        "\n",
        "print(train_start,train_end,test_start,L,'\\n')\n",
        "print('y_train(first 10):','\\n',y_train[:10,:])\n",
        "\n",
        "data_add_row=np.array([y_test[L-test_start-1,0],y_test[L-test_start-1,1],y_test[L-test_start-1,2],y_test[L-test_start-1,3]])\n",
        "print(L-test_start-1,data_add_row)\n",
        "y_test=np.vstack([y_test,data_add_row])\n",
        "\n",
        "print('y_test(last 10:)','\\n',y_test[-10:,:])"
      ],
      "metadata": {
        "colab": {
          "base_uri": "https://localhost:8080/"
        },
        "id": "Za29TYPcHNul",
        "outputId": "3fd06e05-efeb-483f-fa80-00c4159cc78c"
      },
      "execution_count": 36,
      "outputs": [
        {
          "output_type": "stream",
          "name": "stdout",
          "text": [
            "0 269955 269956 299950 \n",
            "\n",
            "y_train(first 10): \n",
            " [[0.12513331 0.12466217 0.13600594 0.13570294]\n",
            " [0.12466074 0.12425422 0.13617106 0.13584165]\n",
            " [0.12476292 0.12463667 0.13666637 0.13653526]\n",
            " [0.12542707 0.12495538 0.13715407 0.13676226]\n",
            " [0.12554201 0.12476926 0.13696738 0.13657309]\n",
            " [0.1254143  0.12492988 0.13693815 0.13685054]\n",
            " [0.12582301 0.1274821  0.13784751 0.13920879]\n",
            " [0.12813985 0.12738138 0.13952906 0.13881406]\n",
            " [0.12774776 0.12713917 0.13904518 0.13806497]\n",
            " [0.12700698 0.12679496 0.13890167 0.13819107]]\n",
            "29993 [0.38875315 0.38739648 0.39775455 0.39564416]\n",
            "y_test(last 10:) \n",
            " [[0.38729712 0.38652959 0.39780536 0.39513972]\n",
            " [0.38737378 0.38626954 0.39764786 0.39508423]\n",
            " [0.38733673 0.38685596 0.39762753 0.39592919]\n",
            " [0.38823715 0.38688144 0.39780536 0.3957274 ]\n",
            " [0.38798809 0.38756987 0.39817366 0.39651433]\n",
            " [0.38873526 0.38756987 0.3988671  0.39653829]\n",
            " [0.38878253 0.38825828 0.39923924 0.39719531]\n",
            " [0.38944283 0.38814354 0.39935482 0.3966026 ]\n",
            " [0.38875315 0.38739648 0.39775455 0.39564416]\n",
            " [0.38875315 0.38739648 0.39775455 0.39564416]]\n"
          ]
        }
      ]
    },
    {
      "cell_type": "code",
      "source": [
        "print('Data for training')\n",
        "print(\"X_train\")\n",
        "print(\"Type:\", X_train.dtype, type(X_train),\":Size:\",X_train.shape)\n",
        "\n",
        "print(\"\\n\",\"y_train\")\n",
        "print(\"Type:\",y_train.dtype,type(y_train),\":size:\",y_train.shape)\n",
        "\n",
        "print('Data for testing')\n",
        "print(\"X_test\")\n",
        "print(\"Type:\",X_test.dtype, type(X_test),\":Size:\",X_test.shape)\n",
        "\n",
        "print(\"\\n\",\"y_test\")\n",
        "print(\"Type:\",y_test.dtype,type(y_test),\":size:\",y_test.shape)"
      ],
      "metadata": {
        "colab": {
          "base_uri": "https://localhost:8080/"
        },
        "id": "nvadByyJHR4x",
        "outputId": "8e0e6094-ef34-4d26-e688-44acb805b54e"
      },
      "execution_count": 37,
      "outputs": [
        {
          "output_type": "stream",
          "name": "stdout",
          "text": [
            "Data for training\n",
            "X_train\n",
            "Type: float32 <class 'numpy.ndarray'> :Size: (269955, 50, 6)\n",
            "\n",
            " y_train\n",
            "Type: float64 <class 'numpy.ndarray'> :size: (269955, 4)\n",
            "Data for testing\n",
            "X_test\n",
            "Type: float32 <class 'numpy.ndarray'> :Size: (29995, 50, 6)\n",
            "\n",
            " y_test\n",
            "Type: float64 <class 'numpy.ndarray'> :size: (29995, 4)\n"
          ]
        }
      ]
    },
    {
      "cell_type": "code",
      "source": [
        "import tensorflow as tf\n",
        "from tensorflow import keras"
      ],
      "metadata": {
        "id": "L2xo84xhHWmt"
      },
      "execution_count": 38,
      "outputs": []
    },
    {
      "cell_type": "code",
      "source": [
        "model=keras.Sequential([\n",
        "    keras.layers.Conv1D(50,9,padding='same',input_shape=(50,6),activation=tf.nn.relu,kernel_initializer=\"normal\"),\n",
        "    keras.layers.MaxPooling1D(7),\n",
        "    keras.layers.Conv1D(100,7,padding='same',activation=tf.nn.relu,kernel_initializer='normal'),\n",
        "    keras.layers.GlobalMaxPooling1D(),\n",
        "    keras.layers.Dense(25,activation=tf.nn.relu, kernel_initializer=\"normal\"),\n",
        "    keras.layers.Dense(4)\n",
        "    \n",
        "])\n",
        "\n",
        "print(model.summary())"
      ],
      "metadata": {
        "colab": {
          "base_uri": "https://localhost:8080/"
        },
        "id": "MSsIt1q-Hauo",
        "outputId": "114e2172-2b14-4bfd-cb38-633a1754e84d"
      },
      "execution_count": 39,
      "outputs": [
        {
          "output_type": "stream",
          "name": "stdout",
          "text": [
            "Model: \"sequential\"\n",
            "_________________________________________________________________\n",
            " Layer (type)                Output Shape              Param #   \n",
            "=================================================================\n",
            " conv1d (Conv1D)             (None, 50, 50)            2750      \n",
            "                                                                 \n",
            " max_pooling1d (MaxPooling1D  (None, 7, 50)            0         \n",
            " )                                                               \n",
            "                                                                 \n",
            " conv1d_1 (Conv1D)           (None, 7, 100)            35100     \n",
            "                                                                 \n",
            " global_max_pooling1d (Globa  (None, 100)              0         \n",
            " lMaxPooling1D)                                                  \n",
            "                                                                 \n",
            " dense (Dense)               (None, 25)                2525      \n",
            "                                                                 \n",
            " dense_1 (Dense)             (None, 4)                 104       \n",
            "                                                                 \n",
            "=================================================================\n",
            "Total params: 40,479\n",
            "Trainable params: 40,479\n",
            "Non-trainable params: 0\n",
            "_________________________________________________________________\n",
            "None\n"
          ]
        }
      ]
    },
    {
      "cell_type": "code",
      "source": [
        "model.compile(optimizer=\"adam\",loss=\"mse\",metrics=[\"mae\"])"
      ],
      "metadata": {
        "id": "3yXR_s4LHf7I"
      },
      "execution_count": 40,
      "outputs": []
    },
    {
      "cell_type": "code",
      "source": [
        "history=model.fit(X_train,y_train,batch_size=20,epochs=12,validation_split=0.2,shuffle=True,verbose=1)"
      ],
      "metadata": {
        "colab": {
          "base_uri": "https://localhost:8080/"
        },
        "id": "f9ZG_BZxIirS",
        "outputId": "d8d10337-8874-4dc6-cd05-939e2056e1bd"
      },
      "execution_count": 41,
      "outputs": [
        {
          "output_type": "stream",
          "name": "stdout",
          "text": [
            "Epoch 1/12\n",
            "10799/10799 [==============================] - 71s 6ms/step - loss: 6.8537e-05 - mae: 0.0026 - val_loss: 2.3672e-06 - val_mae: 0.0011\n",
            "Epoch 2/12\n",
            "10799/10799 [==============================] - 67s 6ms/step - loss: 3.8398e-06 - mae: 0.0014 - val_loss: 1.4288e-06 - val_mae: 7.9953e-04\n",
            "Epoch 3/12\n",
            "10799/10799 [==============================] - 67s 6ms/step - loss: 2.5710e-06 - mae: 0.0011 - val_loss: 3.2860e-06 - val_mae: 0.0015\n",
            "Epoch 4/12\n",
            "10799/10799 [==============================] - 68s 6ms/step - loss: 2.0095e-06 - mae: 0.0010 - val_loss: 3.7787e-06 - val_mae: 0.0018\n",
            "Epoch 5/12\n",
            "10799/10799 [==============================] - 68s 6ms/step - loss: 1.8816e-06 - mae: 9.6041e-04 - val_loss: 1.1123e-06 - val_mae: 7.5924e-04\n",
            "Epoch 6/12\n",
            "10799/10799 [==============================] - 67s 6ms/step - loss: 1.6363e-06 - mae: 9.1196e-04 - val_loss: 1.2266e-06 - val_mae: 8.2095e-04\n",
            "Epoch 7/12\n",
            "10799/10799 [==============================] - 68s 6ms/step - loss: 1.5364e-06 - mae: 8.7326e-04 - val_loss: 2.0239e-06 - val_mae: 0.0011\n",
            "Epoch 8/12\n",
            "10799/10799 [==============================] - 62s 6ms/step - loss: 1.5135e-06 - mae: 8.4608e-04 - val_loss: 8.5738e-07 - val_mae: 6.0605e-04\n",
            "Epoch 9/12\n",
            "10799/10799 [==============================] - 68s 6ms/step - loss: 1.4311e-06 - mae: 8.4040e-04 - val_loss: 2.3759e-06 - val_mae: 0.0013\n",
            "Epoch 10/12\n",
            "10799/10799 [==============================] - 68s 6ms/step - loss: 1.3411e-06 - mae: 8.0569e-04 - val_loss: 1.4933e-06 - val_mae: 0.0010\n",
            "Epoch 11/12\n",
            "10799/10799 [==============================] - 64s 6ms/step - loss: 1.2881e-06 - mae: 7.9527e-04 - val_loss: 1.1637e-06 - val_mae: 7.7023e-04\n",
            "Epoch 12/12\n",
            "10799/10799 [==============================] - 70s 6ms/step - loss: 1.2926e-06 - mae: 7.9159e-04 - val_loss: 6.8192e-07 - val_mae: 4.7431e-04\n"
          ]
        }
      ]
    },
    {
      "cell_type": "code",
      "source": [
        "model1=keras.Sequential([\n",
        "    keras.layers.Conv1D(50,9,padding='same',input_shape=(50,6),activation=tf.nn.relu,kernel_initializer=\"normal\"),\n",
        "    keras.layers.MaxPooling1D(7),\n",
        "    keras.layers.Conv1D(100,7,padding='same',activation=tf.nn.relu,kernel_initializer='normal'),\n",
        "    keras.layers.GlobalMaxPooling1D(),\n",
        "    keras.layers.Dense(25,activation=tf.nn.relu, kernel_initializer=\"normal\"),\n",
        "    keras.layers.Dense(4)\n",
        "    \n",
        "])\n",
        "\n",
        "print(model1.summary())"
      ],
      "metadata": {
        "colab": {
          "base_uri": "https://localhost:8080/"
        },
        "id": "ZjqsCeXxwvS3",
        "outputId": "c080ea4b-8b0b-4344-e3a6-7f0efa288547"
      },
      "execution_count": 42,
      "outputs": [
        {
          "output_type": "stream",
          "name": "stdout",
          "text": [
            "Model: \"sequential_1\"\n",
            "_________________________________________________________________\n",
            " Layer (type)                Output Shape              Param #   \n",
            "=================================================================\n",
            " conv1d_2 (Conv1D)           (None, 50, 50)            2750      \n",
            "                                                                 \n",
            " max_pooling1d_1 (MaxPooling  (None, 7, 50)            0         \n",
            " 1D)                                                             \n",
            "                                                                 \n",
            " conv1d_3 (Conv1D)           (None, 7, 100)            35100     \n",
            "                                                                 \n",
            " global_max_pooling1d_1 (Glo  (None, 100)              0         \n",
            " balMaxPooling1D)                                                \n",
            "                                                                 \n",
            " dense_2 (Dense)             (None, 25)                2525      \n",
            "                                                                 \n",
            " dense_3 (Dense)             (None, 4)                 104       \n",
            "                                                                 \n",
            "=================================================================\n",
            "Total params: 40,479\n",
            "Trainable params: 40,479\n",
            "Non-trainable params: 0\n",
            "_________________________________________________________________\n",
            "None\n"
          ]
        }
      ]
    },
    {
      "cell_type": "code",
      "source": [
        "model1.compile(optimizer=\"adam\",loss=\"mse\",metrics=[\"accuracy\"])"
      ],
      "metadata": {
        "id": "B1Lgf1QWwnJt"
      },
      "execution_count": 43,
      "outputs": []
    },
    {
      "cell_type": "code",
      "source": [
        "history=model1.fit(X_train,y_train,batch_size=20,epochs=12,validation_split=0.2,shuffle=True,verbose=1)"
      ],
      "metadata": {
        "colab": {
          "base_uri": "https://localhost:8080/"
        },
        "id": "JINdfvZLw8Vi",
        "outputId": "e29fe6b3-4fa0-416c-f0a9-cfa00493dee7"
      },
      "execution_count": 47,
      "outputs": [
        {
          "output_type": "stream",
          "name": "stdout",
          "text": [
            "Epoch 1/12\n",
            "10799/10799 [==============================] - 68s 6ms/step - loss: 1.6405e-06 - accuracy: 0.9199 - val_loss: 1.4827e-06 - val_accuracy: 0.9606\n",
            "Epoch 2/12\n",
            "10799/10799 [==============================] - 63s 6ms/step - loss: 1.5613e-06 - accuracy: 0.9191 - val_loss: 7.9090e-07 - val_accuracy: 0.9607\n",
            "Epoch 3/12\n",
            "10799/10799 [==============================] - 65s 6ms/step - loss: 1.3289e-06 - accuracy: 0.9226 - val_loss: 5.9294e-06 - val_accuracy: 0.9608\n",
            "Epoch 4/12\n",
            "10799/10799 [==============================] - 69s 6ms/step - loss: 1.3256e-06 - accuracy: 0.9214 - val_loss: 1.4876e-06 - val_accuracy: 0.9608\n",
            "Epoch 5/12\n",
            "10799/10799 [==============================] - 66s 6ms/step - loss: 1.3860e-06 - accuracy: 0.9227 - val_loss: 1.5486e-06 - val_accuracy: 0.9588\n",
            "Epoch 6/12\n",
            "10799/10799 [==============================] - 69s 6ms/step - loss: 1.2659e-06 - accuracy: 0.9213 - val_loss: 1.9567e-06 - val_accuracy: 0.9605\n",
            "Epoch 7/12\n",
            "10799/10799 [==============================] - 64s 6ms/step - loss: 1.2155e-06 - accuracy: 0.9218 - val_loss: 7.5016e-07 - val_accuracy: 0.9610\n",
            "Epoch 8/12\n",
            "10799/10799 [==============================] - 67s 6ms/step - loss: 1.2055e-06 - accuracy: 0.9239 - val_loss: 6.4950e-07 - val_accuracy: 0.9607\n",
            "Epoch 9/12\n",
            "10799/10799 [==============================] - 64s 6ms/step - loss: 1.1892e-06 - accuracy: 0.9264 - val_loss: 1.0750e-06 - val_accuracy: 0.9604\n",
            "Epoch 10/12\n",
            "10799/10799 [==============================] - 71s 7ms/step - loss: 1.1481e-06 - accuracy: 0.9282 - val_loss: 1.1131e-06 - val_accuracy: 0.9604\n",
            "Epoch 11/12\n",
            "10799/10799 [==============================] - 71s 7ms/step - loss: 1.1224e-06 - accuracy: 0.9278 - val_loss: 2.8308e-06 - val_accuracy: 0.9604\n",
            "Epoch 12/12\n",
            "10799/10799 [==============================] - 65s 6ms/step - loss: 1.1105e-06 - accuracy: 0.9270 - val_loss: 9.9376e-07 - val_accuracy: 0.9607\n"
          ]
        }
      ]
    },
    {
      "cell_type": "code",
      "source": [
        "mse,mae=model.evaluate(X_test,y_test,verbose=0)\n",
        "print(\"Mean absolute error : %.3f%%\"%(mae*100))"
      ],
      "metadata": {
        "colab": {
          "base_uri": "https://localhost:8080/"
        },
        "id": "Hxal0PacImrQ",
        "outputId": "cff94f3a-eaee-40e3-b584-23c7ad05f116"
      },
      "execution_count": 45,
      "outputs": [
        {
          "output_type": "stream",
          "name": "stdout",
          "text": [
            "Mean absolute error : 0.062%\n"
          ]
        }
      ]
    },
    {
      "cell_type": "code",
      "source": [
        "history_dict=history.history\n",
        "\n",
        "mean_absolute_error_values=history_dict['mae']\n",
        "\n",
        "val_mean_absolute_error_values=history_dict['val_mae']\n",
        "\n",
        "epochs=range(1,len(mean_absolute_error_values)+1)\n",
        "plt.figure(num=1,figsize=(15,7))\n",
        "plt.plot(epochs,mean_absolute_error_values,'bo',label='Training acc')\n",
        "plt.plot(epochs,val_mean_absolute_error_values,'b',label='mae acc')\n",
        "plt.xlabel('Epochs')\n",
        "plt.ylabel(\"Mean Absolute Error - mae\")\n",
        "plt.legend()\n",
        "plt.show()"
      ],
      "metadata": {
        "colab": {
          "base_uri": "https://localhost:8080/",
          "height": 232
        },
        "id": "lu9AW4PBLDfU",
        "outputId": "296d7d0a-64cc-4c2b-b09c-7513feffb512"
      },
      "execution_count": 46,
      "outputs": [
        {
          "output_type": "error",
          "ename": "KeyError",
          "evalue": "ignored",
          "traceback": [
            "\u001b[0;31m---------------------------------------------------------------------------\u001b[0m",
            "\u001b[0;31mKeyError\u001b[0m                                  Traceback (most recent call last)",
            "\u001b[0;32m<ipython-input-46-6fd013bc9461>\u001b[0m in \u001b[0;36m<module>\u001b[0;34m()\u001b[0m\n\u001b[1;32m      1\u001b[0m \u001b[0mhistory_dict\u001b[0m\u001b[0;34m=\u001b[0m\u001b[0mhistory\u001b[0m\u001b[0;34m.\u001b[0m\u001b[0mhistory\u001b[0m\u001b[0;34m\u001b[0m\u001b[0;34m\u001b[0m\u001b[0m\n\u001b[1;32m      2\u001b[0m \u001b[0;34m\u001b[0m\u001b[0m\n\u001b[0;32m----> 3\u001b[0;31m \u001b[0mmean_absolute_error_values\u001b[0m\u001b[0;34m=\u001b[0m\u001b[0mhistory_dict\u001b[0m\u001b[0;34m[\u001b[0m\u001b[0;34m'mae'\u001b[0m\u001b[0;34m]\u001b[0m\u001b[0;34m\u001b[0m\u001b[0;34m\u001b[0m\u001b[0m\n\u001b[0m\u001b[1;32m      4\u001b[0m \u001b[0;34m\u001b[0m\u001b[0m\n\u001b[1;32m      5\u001b[0m \u001b[0mval_mean_absolute_error_values\u001b[0m\u001b[0;34m=\u001b[0m\u001b[0mhistory_dict\u001b[0m\u001b[0;34m[\u001b[0m\u001b[0;34m'val_mae'\u001b[0m\u001b[0;34m]\u001b[0m\u001b[0;34m\u001b[0m\u001b[0;34m\u001b[0m\u001b[0m\n",
            "\u001b[0;31mKeyError\u001b[0m: 'mae'"
          ]
        }
      ]
    },
    {
      "cell_type": "code",
      "source": [
        "pred=model.predict(X_test)\n"
      ],
      "metadata": {
        "id": "PIux3fmELJVU"
      },
      "execution_count": null,
      "outputs": []
    },
    {
      "cell_type": "code",
      "source": [
        "from matplotlib import *\n",
        "import seaborn"
      ],
      "metadata": {
        "id": "uPwxU9gFf_uZ"
      },
      "execution_count": null,
      "outputs": []
    },
    {
      "cell_type": "code",
      "source": [
        "plt.style.use('seaborn-darkgrid')\n",
        "plt.ion()\n",
        "fig=plt.figure(figsize=(23,8))\n",
        "ax1=fig.add_subplot(111)\n",
        "line1=ax1.plot(y_test[:400,0],label='Open')\n",
        "line2=ax1.plot(pred[:400,0],label='Predicted Open')\n",
        "line3=ax1.plot(y_test[0:400,1],label='High')\n",
        "line4=ax1.plot(pred[:400,1],label='Predicted High')\n",
        "line3=ax1.plot(y_test[0:400,2],label='Low')\n",
        "line4=ax1.plot(pred[:400,2],label='Predicted Low')\n",
        "line3=ax1.plot(y_test[0:400,3],label='Close')\n",
        "line4=ax1.plot(pred[:400,3],label='Predicted Close')\n",
        "\n",
        "plt.title('Predicted Normalized prices',size=18)\n",
        "plt.ylabel('Price',size=14)\n",
        "plt.xlabel('$Ticks$',size=14)\n",
        "plt.legend(loc='upper right')\n",
        "\n",
        "plt.show()"
      ],
      "metadata": {
        "id": "0m9oucBlLSvl"
      },
      "execution_count": null,
      "outputs": []
    },
    {
      "cell_type": "code",
      "source": [
        ""
      ],
      "metadata": {
        "id": "HYAXMs_7LdXi"
      },
      "execution_count": null,
      "outputs": []
    }
  ]
}