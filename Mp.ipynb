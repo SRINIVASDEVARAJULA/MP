{
  "nbformat": 4,
  "nbformat_minor": 0,
  "metadata": {
    "colab": {
      "name": "Untitled13.ipynb",
      "provenance": [],
      "collapsed_sections": [],
      "authorship_tag": "ABX9TyO+fZhEUDOYAS+YJnRBJkMb",
      "include_colab_link": true
    },
    "kernelspec": {
      "name": "python3",
      "display_name": "Python 3"
    },
    "language_info": {
      "name": "python"
    }
  },
  "cells": [
    {
      "cell_type": "markdown",
      "metadata": {
        "id": "view-in-github",
        "colab_type": "text"
      },
      "source": [
        "<a href=\"https://colab.research.google.com/github/SRINIVASDEVARAJULA/MP/blob/main/Mp.ipynb\" target=\"_parent\"><img src=\"https://colab.research.google.com/assets/colab-badge.svg\" alt=\"Open In Colab\"/></a>"
      ]
    },
    {
      "cell_type": "code",
      "execution_count": 22,
      "metadata": {
        "id": "Ixx8yjyPc3q7"
      },
      "outputs": [],
      "source": [
        "import numpy as np\n",
        "import pandas as pd\n",
        "import matplotlib.pyplot as plt\n",
        "%matplotlib inline\n",
        "from sklearn.preprocessing import MinMaxScaler"
      ]
    },
    {
      "cell_type": "code",
      "source": [
        "import tensorflow as tf\n",
        "from tensorflow import keras"
      ],
      "metadata": {
        "id": "y_oezUv8c8MJ"
      },
      "execution_count": 3,
      "outputs": []
    },
    {
      "cell_type": "code",
      "source": [
        "print(tf.__version__)"
      ],
      "metadata": {
        "colab": {
          "base_uri": "https://localhost:8080/"
        },
        "id": "oUBN_opVdAaP",
        "outputId": "1339e9fc-318c-4add-b574-d4e6be0e5736"
      },
      "execution_count": 4,
      "outputs": [
        {
          "output_type": "stream",
          "name": "stdout",
          "text": [
            "2.8.0\n"
          ]
        }
      ]
    },
    {
      "cell_type": "code",
      "source": [
        "np.random.seed(19)"
      ],
      "metadata": {
        "id": "bde2CkpTdDej"
      },
      "execution_count": 5,
      "outputs": []
    },
    {
      "cell_type": "code",
      "source": [
        "df=pd.read_csv(\"combinedSample_GoldDs.csv\")"
      ],
      "metadata": {
        "id": "TMPV6WNcdLLx"
      },
      "execution_count": 7,
      "outputs": []
    },
    {
      "cell_type": "code",
      "source": [
        "df.head()"
      ],
      "metadata": {
        "colab": {
          "base_uri": "https://localhost:8080/",
          "height": 455
        },
        "id": "hQCVtVRxzx90",
        "outputId": "b562eac7-e9a8-4023-dffe-d0307be590c0"
      },
      "execution_count": 9,
      "outputs": [
        {
          "output_type": "execute_result",
          "data": {
            "text/plain": [
              "                         Local time  Open_Bid  High_Bid   Low_Bid  Close_Bid  \\\n",
              "0  14.03.2021 22:00:00.000 GMT-0000  1727.188  1729.078  1727.068   1728.258   \n",
              "1  14.03.2021 22:01:00.000 GMT-0000  1728.425  1729.821  1728.415   1729.424   \n",
              "2  14.03.2021 22:02:00.000 GMT-0000  1729.468  1730.298  1729.404   1730.118   \n",
              "3  14.03.2021 22:03:00.000 GMT-0000  1730.118  1730.304  1728.971   1729.141   \n",
              "4  14.03.2021 22:04:00.000 GMT-0000  1729.141  1729.431  1728.318   1728.708   \n",
              "\n",
              "   Volume_Bid  Open_Ask  High_Ask   Low_Ask  Close_Ask  Volume_Ask  \n",
              "0  64608.9986  1727.662  1730.222  1727.646   1729.522  61275.0016  \n",
              "1  71534.9987  1729.522  1730.421  1729.442   1730.405  80849.9977  \n",
              "2  38320.0012  1730.405  1730.611  1730.275   1730.545  59829.9988  \n",
              "3  26130.0001  1730.535  1730.625  1729.425   1729.765  36355.0000  \n",
              "4  30500.0003  1729.676  1729.862  1728.835   1729.219  49090.0017  "
            ],
            "text/html": [
              "\n",
              "  <div id=\"df-87b961ad-c6da-473b-b1a5-dbd84238092d\">\n",
              "    <div class=\"colab-df-container\">\n",
              "      <div>\n",
              "<style scoped>\n",
              "    .dataframe tbody tr th:only-of-type {\n",
              "        vertical-align: middle;\n",
              "    }\n",
              "\n",
              "    .dataframe tbody tr th {\n",
              "        vertical-align: top;\n",
              "    }\n",
              "\n",
              "    .dataframe thead th {\n",
              "        text-align: right;\n",
              "    }\n",
              "</style>\n",
              "<table border=\"1\" class=\"dataframe\">\n",
              "  <thead>\n",
              "    <tr style=\"text-align: right;\">\n",
              "      <th></th>\n",
              "      <th>Local time</th>\n",
              "      <th>Open_Bid</th>\n",
              "      <th>High_Bid</th>\n",
              "      <th>Low_Bid</th>\n",
              "      <th>Close_Bid</th>\n",
              "      <th>Volume_Bid</th>\n",
              "      <th>Open_Ask</th>\n",
              "      <th>High_Ask</th>\n",
              "      <th>Low_Ask</th>\n",
              "      <th>Close_Ask</th>\n",
              "      <th>Volume_Ask</th>\n",
              "    </tr>\n",
              "  </thead>\n",
              "  <tbody>\n",
              "    <tr>\n",
              "      <th>0</th>\n",
              "      <td>14.03.2021 22:00:00.000 GMT-0000</td>\n",
              "      <td>1727.188</td>\n",
              "      <td>1729.078</td>\n",
              "      <td>1727.068</td>\n",
              "      <td>1728.258</td>\n",
              "      <td>64608.9986</td>\n",
              "      <td>1727.662</td>\n",
              "      <td>1730.222</td>\n",
              "      <td>1727.646</td>\n",
              "      <td>1729.522</td>\n",
              "      <td>61275.0016</td>\n",
              "    </tr>\n",
              "    <tr>\n",
              "      <th>1</th>\n",
              "      <td>14.03.2021 22:01:00.000 GMT-0000</td>\n",
              "      <td>1728.425</td>\n",
              "      <td>1729.821</td>\n",
              "      <td>1728.415</td>\n",
              "      <td>1729.424</td>\n",
              "      <td>71534.9987</td>\n",
              "      <td>1729.522</td>\n",
              "      <td>1730.421</td>\n",
              "      <td>1729.442</td>\n",
              "      <td>1730.405</td>\n",
              "      <td>80849.9977</td>\n",
              "    </tr>\n",
              "    <tr>\n",
              "      <th>2</th>\n",
              "      <td>14.03.2021 22:02:00.000 GMT-0000</td>\n",
              "      <td>1729.468</td>\n",
              "      <td>1730.298</td>\n",
              "      <td>1729.404</td>\n",
              "      <td>1730.118</td>\n",
              "      <td>38320.0012</td>\n",
              "      <td>1730.405</td>\n",
              "      <td>1730.611</td>\n",
              "      <td>1730.275</td>\n",
              "      <td>1730.545</td>\n",
              "      <td>59829.9988</td>\n",
              "    </tr>\n",
              "    <tr>\n",
              "      <th>3</th>\n",
              "      <td>14.03.2021 22:03:00.000 GMT-0000</td>\n",
              "      <td>1730.118</td>\n",
              "      <td>1730.304</td>\n",
              "      <td>1728.971</td>\n",
              "      <td>1729.141</td>\n",
              "      <td>26130.0001</td>\n",
              "      <td>1730.535</td>\n",
              "      <td>1730.625</td>\n",
              "      <td>1729.425</td>\n",
              "      <td>1729.765</td>\n",
              "      <td>36355.0000</td>\n",
              "    </tr>\n",
              "    <tr>\n",
              "      <th>4</th>\n",
              "      <td>14.03.2021 22:04:00.000 GMT-0000</td>\n",
              "      <td>1729.141</td>\n",
              "      <td>1729.431</td>\n",
              "      <td>1728.318</td>\n",
              "      <td>1728.708</td>\n",
              "      <td>30500.0003</td>\n",
              "      <td>1729.676</td>\n",
              "      <td>1729.862</td>\n",
              "      <td>1728.835</td>\n",
              "      <td>1729.219</td>\n",
              "      <td>49090.0017</td>\n",
              "    </tr>\n",
              "  </tbody>\n",
              "</table>\n",
              "</div>\n",
              "      <button class=\"colab-df-convert\" onclick=\"convertToInteractive('df-87b961ad-c6da-473b-b1a5-dbd84238092d')\"\n",
              "              title=\"Convert this dataframe to an interactive table.\"\n",
              "              style=\"display:none;\">\n",
              "        \n",
              "  <svg xmlns=\"http://www.w3.org/2000/svg\" height=\"24px\"viewBox=\"0 0 24 24\"\n",
              "       width=\"24px\">\n",
              "    <path d=\"M0 0h24v24H0V0z\" fill=\"none\"/>\n",
              "    <path d=\"M18.56 5.44l.94 2.06.94-2.06 2.06-.94-2.06-.94-.94-2.06-.94 2.06-2.06.94zm-11 1L8.5 8.5l.94-2.06 2.06-.94-2.06-.94L8.5 2.5l-.94 2.06-2.06.94zm10 10l.94 2.06.94-2.06 2.06-.94-2.06-.94-.94-2.06-.94 2.06-2.06.94z\"/><path d=\"M17.41 7.96l-1.37-1.37c-.4-.4-.92-.59-1.43-.59-.52 0-1.04.2-1.43.59L10.3 9.45l-7.72 7.72c-.78.78-.78 2.05 0 2.83L4 21.41c.39.39.9.59 1.41.59.51 0 1.02-.2 1.41-.59l7.78-7.78 2.81-2.81c.8-.78.8-2.07 0-2.86zM5.41 20L4 18.59l7.72-7.72 1.47 1.35L5.41 20z\"/>\n",
              "  </svg>\n",
              "      </button>\n",
              "      \n",
              "  <style>\n",
              "    .colab-df-container {\n",
              "      display:flex;\n",
              "      flex-wrap:wrap;\n",
              "      gap: 12px;\n",
              "    }\n",
              "\n",
              "    .colab-df-convert {\n",
              "      background-color: #E8F0FE;\n",
              "      border: none;\n",
              "      border-radius: 50%;\n",
              "      cursor: pointer;\n",
              "      display: none;\n",
              "      fill: #1967D2;\n",
              "      height: 32px;\n",
              "      padding: 0 0 0 0;\n",
              "      width: 32px;\n",
              "    }\n",
              "\n",
              "    .colab-df-convert:hover {\n",
              "      background-color: #E2EBFA;\n",
              "      box-shadow: 0px 1px 2px rgba(60, 64, 67, 0.3), 0px 1px 3px 1px rgba(60, 64, 67, 0.15);\n",
              "      fill: #174EA6;\n",
              "    }\n",
              "\n",
              "    [theme=dark] .colab-df-convert {\n",
              "      background-color: #3B4455;\n",
              "      fill: #D2E3FC;\n",
              "    }\n",
              "\n",
              "    [theme=dark] .colab-df-convert:hover {\n",
              "      background-color: #434B5C;\n",
              "      box-shadow: 0px 1px 3px 1px rgba(0, 0, 0, 0.15);\n",
              "      filter: drop-shadow(0px 1px 2px rgba(0, 0, 0, 0.3));\n",
              "      fill: #FFFFFF;\n",
              "    }\n",
              "  </style>\n",
              "\n",
              "      <script>\n",
              "        const buttonEl =\n",
              "          document.querySelector('#df-87b961ad-c6da-473b-b1a5-dbd84238092d button.colab-df-convert');\n",
              "        buttonEl.style.display =\n",
              "          google.colab.kernel.accessAllowed ? 'block' : 'none';\n",
              "\n",
              "        async function convertToInteractive(key) {\n",
              "          const element = document.querySelector('#df-87b961ad-c6da-473b-b1a5-dbd84238092d');\n",
              "          const dataTable =\n",
              "            await google.colab.kernel.invokeFunction('convertToInteractive',\n",
              "                                                     [key], {});\n",
              "          if (!dataTable) return;\n",
              "\n",
              "          const docLinkHtml = 'Like what you see? Visit the ' +\n",
              "            '<a target=\"_blank\" href=https://colab.research.google.com/notebooks/data_table.ipynb>data table notebook</a>'\n",
              "            + ' to learn more about interactive tables.';\n",
              "          element.innerHTML = '';\n",
              "          dataTable['output_type'] = 'display_data';\n",
              "          await google.colab.output.renderOutput(dataTable, element);\n",
              "          const docLink = document.createElement('div');\n",
              "          docLink.innerHTML = docLinkHtml;\n",
              "          element.appendChild(docLink);\n",
              "        }\n",
              "      </script>\n",
              "    </div>\n",
              "  </div>\n",
              "  "
            ]
          },
          "metadata": {},
          "execution_count": 9
        }
      ]
    },
    {
      "cell_type": "code",
      "source": [
        "df[\"Open\"]=(df[\"Open_Bid\"]+df[\"Open_Ask\"])/2\n",
        "df[\"High\"]=(df[\"High_Bid\"]+df[\"High_Ask\"])/2\n",
        "df[\"Low\"]=(df[\"Low_Bid\"]+df[\"Low_Ask\"])/2\n",
        "df[\"Close\"]=(df[\"Close_Bid\"]+df[\"Close_Ask\"])/2"
      ],
      "metadata": {
        "id": "7sp2eSVhBvMF"
      },
      "execution_count": 10,
      "outputs": []
    },
    {
      "cell_type": "code",
      "source": [
        "df.head()"
      ],
      "metadata": {
        "colab": {
          "base_uri": "https://localhost:8080/",
          "height": 455
        },
        "id": "ZTcmpmqrCDMO",
        "outputId": "ef77383e-f3c6-4bf0-9cf2-158f910eda9a"
      },
      "execution_count": 12,
      "outputs": [
        {
          "output_type": "execute_result",
          "data": {
            "text/plain": [
              "                         Local time  Open_Bid  High_Bid   Low_Bid  Close_Bid  \\\n",
              "0  14.03.2021 22:00:00.000 GMT-0000  1727.188  1729.078  1727.068   1728.258   \n",
              "1  14.03.2021 22:01:00.000 GMT-0000  1728.425  1729.821  1728.415   1729.424   \n",
              "2  14.03.2021 22:02:00.000 GMT-0000  1729.468  1730.298  1729.404   1730.118   \n",
              "3  14.03.2021 22:03:00.000 GMT-0000  1730.118  1730.304  1728.971   1729.141   \n",
              "4  14.03.2021 22:04:00.000 GMT-0000  1729.141  1729.431  1728.318   1728.708   \n",
              "\n",
              "   Volume_Bid  Open_Ask  High_Ask   Low_Ask  Close_Ask  Volume_Ask       Open  \\\n",
              "0  64608.9986  1727.662  1730.222  1727.646   1729.522  61275.0016  1727.4250   \n",
              "1  71534.9987  1729.522  1730.421  1729.442   1730.405  80849.9977  1728.9735   \n",
              "2  38320.0012  1730.405  1730.611  1730.275   1730.545  59829.9988  1729.9365   \n",
              "3  26130.0001  1730.535  1730.625  1729.425   1729.765  36355.0000  1730.3265   \n",
              "4  30500.0003  1729.676  1729.862  1728.835   1729.219  49090.0017  1729.4085   \n",
              "\n",
              "        High        Low      Close  \n",
              "0  1729.6500  1727.3570  1728.8900  \n",
              "1  1730.1210  1728.9285  1729.9145  \n",
              "2  1730.4545  1729.8395  1730.3315  \n",
              "3  1730.4645  1729.1980  1729.4530  \n",
              "4  1729.6465  1728.5765  1728.9635  "
            ],
            "text/html": [
              "\n",
              "  <div id=\"df-9a1c42ac-93d7-46d9-8e54-f2917faf69fb\">\n",
              "    <div class=\"colab-df-container\">\n",
              "      <div>\n",
              "<style scoped>\n",
              "    .dataframe tbody tr th:only-of-type {\n",
              "        vertical-align: middle;\n",
              "    }\n",
              "\n",
              "    .dataframe tbody tr th {\n",
              "        vertical-align: top;\n",
              "    }\n",
              "\n",
              "    .dataframe thead th {\n",
              "        text-align: right;\n",
              "    }\n",
              "</style>\n",
              "<table border=\"1\" class=\"dataframe\">\n",
              "  <thead>\n",
              "    <tr style=\"text-align: right;\">\n",
              "      <th></th>\n",
              "      <th>Local time</th>\n",
              "      <th>Open_Bid</th>\n",
              "      <th>High_Bid</th>\n",
              "      <th>Low_Bid</th>\n",
              "      <th>Close_Bid</th>\n",
              "      <th>Volume_Bid</th>\n",
              "      <th>Open_Ask</th>\n",
              "      <th>High_Ask</th>\n",
              "      <th>Low_Ask</th>\n",
              "      <th>Close_Ask</th>\n",
              "      <th>Volume_Ask</th>\n",
              "      <th>Open</th>\n",
              "      <th>High</th>\n",
              "      <th>Low</th>\n",
              "      <th>Close</th>\n",
              "    </tr>\n",
              "  </thead>\n",
              "  <tbody>\n",
              "    <tr>\n",
              "      <th>0</th>\n",
              "      <td>14.03.2021 22:00:00.000 GMT-0000</td>\n",
              "      <td>1727.188</td>\n",
              "      <td>1729.078</td>\n",
              "      <td>1727.068</td>\n",
              "      <td>1728.258</td>\n",
              "      <td>64608.9986</td>\n",
              "      <td>1727.662</td>\n",
              "      <td>1730.222</td>\n",
              "      <td>1727.646</td>\n",
              "      <td>1729.522</td>\n",
              "      <td>61275.0016</td>\n",
              "      <td>1727.4250</td>\n",
              "      <td>1729.6500</td>\n",
              "      <td>1727.3570</td>\n",
              "      <td>1728.8900</td>\n",
              "    </tr>\n",
              "    <tr>\n",
              "      <th>1</th>\n",
              "      <td>14.03.2021 22:01:00.000 GMT-0000</td>\n",
              "      <td>1728.425</td>\n",
              "      <td>1729.821</td>\n",
              "      <td>1728.415</td>\n",
              "      <td>1729.424</td>\n",
              "      <td>71534.9987</td>\n",
              "      <td>1729.522</td>\n",
              "      <td>1730.421</td>\n",
              "      <td>1729.442</td>\n",
              "      <td>1730.405</td>\n",
              "      <td>80849.9977</td>\n",
              "      <td>1728.9735</td>\n",
              "      <td>1730.1210</td>\n",
              "      <td>1728.9285</td>\n",
              "      <td>1729.9145</td>\n",
              "    </tr>\n",
              "    <tr>\n",
              "      <th>2</th>\n",
              "      <td>14.03.2021 22:02:00.000 GMT-0000</td>\n",
              "      <td>1729.468</td>\n",
              "      <td>1730.298</td>\n",
              "      <td>1729.404</td>\n",
              "      <td>1730.118</td>\n",
              "      <td>38320.0012</td>\n",
              "      <td>1730.405</td>\n",
              "      <td>1730.611</td>\n",
              "      <td>1730.275</td>\n",
              "      <td>1730.545</td>\n",
              "      <td>59829.9988</td>\n",
              "      <td>1729.9365</td>\n",
              "      <td>1730.4545</td>\n",
              "      <td>1729.8395</td>\n",
              "      <td>1730.3315</td>\n",
              "    </tr>\n",
              "    <tr>\n",
              "      <th>3</th>\n",
              "      <td>14.03.2021 22:03:00.000 GMT-0000</td>\n",
              "      <td>1730.118</td>\n",
              "      <td>1730.304</td>\n",
              "      <td>1728.971</td>\n",
              "      <td>1729.141</td>\n",
              "      <td>26130.0001</td>\n",
              "      <td>1730.535</td>\n",
              "      <td>1730.625</td>\n",
              "      <td>1729.425</td>\n",
              "      <td>1729.765</td>\n",
              "      <td>36355.0000</td>\n",
              "      <td>1730.3265</td>\n",
              "      <td>1730.4645</td>\n",
              "      <td>1729.1980</td>\n",
              "      <td>1729.4530</td>\n",
              "    </tr>\n",
              "    <tr>\n",
              "      <th>4</th>\n",
              "      <td>14.03.2021 22:04:00.000 GMT-0000</td>\n",
              "      <td>1729.141</td>\n",
              "      <td>1729.431</td>\n",
              "      <td>1728.318</td>\n",
              "      <td>1728.708</td>\n",
              "      <td>30500.0003</td>\n",
              "      <td>1729.676</td>\n",
              "      <td>1729.862</td>\n",
              "      <td>1728.835</td>\n",
              "      <td>1729.219</td>\n",
              "      <td>49090.0017</td>\n",
              "      <td>1729.4085</td>\n",
              "      <td>1729.6465</td>\n",
              "      <td>1728.5765</td>\n",
              "      <td>1728.9635</td>\n",
              "    </tr>\n",
              "  </tbody>\n",
              "</table>\n",
              "</div>\n",
              "      <button class=\"colab-df-convert\" onclick=\"convertToInteractive('df-9a1c42ac-93d7-46d9-8e54-f2917faf69fb')\"\n",
              "              title=\"Convert this dataframe to an interactive table.\"\n",
              "              style=\"display:none;\">\n",
              "        \n",
              "  <svg xmlns=\"http://www.w3.org/2000/svg\" height=\"24px\"viewBox=\"0 0 24 24\"\n",
              "       width=\"24px\">\n",
              "    <path d=\"M0 0h24v24H0V0z\" fill=\"none\"/>\n",
              "    <path d=\"M18.56 5.44l.94 2.06.94-2.06 2.06-.94-2.06-.94-.94-2.06-.94 2.06-2.06.94zm-11 1L8.5 8.5l.94-2.06 2.06-.94-2.06-.94L8.5 2.5l-.94 2.06-2.06.94zm10 10l.94 2.06.94-2.06 2.06-.94-2.06-.94-.94-2.06-.94 2.06-2.06.94z\"/><path d=\"M17.41 7.96l-1.37-1.37c-.4-.4-.92-.59-1.43-.59-.52 0-1.04.2-1.43.59L10.3 9.45l-7.72 7.72c-.78.78-.78 2.05 0 2.83L4 21.41c.39.39.9.59 1.41.59.51 0 1.02-.2 1.41-.59l7.78-7.78 2.81-2.81c.8-.78.8-2.07 0-2.86zM5.41 20L4 18.59l7.72-7.72 1.47 1.35L5.41 20z\"/>\n",
              "  </svg>\n",
              "      </button>\n",
              "      \n",
              "  <style>\n",
              "    .colab-df-container {\n",
              "      display:flex;\n",
              "      flex-wrap:wrap;\n",
              "      gap: 12px;\n",
              "    }\n",
              "\n",
              "    .colab-df-convert {\n",
              "      background-color: #E8F0FE;\n",
              "      border: none;\n",
              "      border-radius: 50%;\n",
              "      cursor: pointer;\n",
              "      display: none;\n",
              "      fill: #1967D2;\n",
              "      height: 32px;\n",
              "      padding: 0 0 0 0;\n",
              "      width: 32px;\n",
              "    }\n",
              "\n",
              "    .colab-df-convert:hover {\n",
              "      background-color: #E2EBFA;\n",
              "      box-shadow: 0px 1px 2px rgba(60, 64, 67, 0.3), 0px 1px 3px 1px rgba(60, 64, 67, 0.15);\n",
              "      fill: #174EA6;\n",
              "    }\n",
              "\n",
              "    [theme=dark] .colab-df-convert {\n",
              "      background-color: #3B4455;\n",
              "      fill: #D2E3FC;\n",
              "    }\n",
              "\n",
              "    [theme=dark] .colab-df-convert:hover {\n",
              "      background-color: #434B5C;\n",
              "      box-shadow: 0px 1px 3px 1px rgba(0, 0, 0, 0.15);\n",
              "      filter: drop-shadow(0px 1px 2px rgba(0, 0, 0, 0.3));\n",
              "      fill: #FFFFFF;\n",
              "    }\n",
              "  </style>\n",
              "\n",
              "      <script>\n",
              "        const buttonEl =\n",
              "          document.querySelector('#df-9a1c42ac-93d7-46d9-8e54-f2917faf69fb button.colab-df-convert');\n",
              "        buttonEl.style.display =\n",
              "          google.colab.kernel.accessAllowed ? 'block' : 'none';\n",
              "\n",
              "        async function convertToInteractive(key) {\n",
              "          const element = document.querySelector('#df-9a1c42ac-93d7-46d9-8e54-f2917faf69fb');\n",
              "          const dataTable =\n",
              "            await google.colab.kernel.invokeFunction('convertToInteractive',\n",
              "                                                     [key], {});\n",
              "          if (!dataTable) return;\n",
              "\n",
              "          const docLinkHtml = 'Like what you see? Visit the ' +\n",
              "            '<a target=\"_blank\" href=https://colab.research.google.com/notebooks/data_table.ipynb>data table notebook</a>'\n",
              "            + ' to learn more about interactive tables.';\n",
              "          element.innerHTML = '';\n",
              "          dataTable['output_type'] = 'display_data';\n",
              "          await google.colab.output.renderOutput(dataTable, element);\n",
              "          const docLink = document.createElement('div');\n",
              "          docLink.innerHTML = docLinkHtml;\n",
              "          element.appendChild(docLink);\n",
              "        }\n",
              "      </script>\n",
              "    </div>\n",
              "  </div>\n",
              "  "
            ]
          },
          "metadata": {},
          "execution_count": 12
        }
      ]
    },
    {
      "cell_type": "code",
      "source": [
        "data=df.drop(['Local time','Open_Bid','High_Bid','Low_Bid','Close_Bid','Open_Ask','High_Ask','Low_Ask','Close_Ask'],axis=1)"
      ],
      "metadata": {
        "id": "RNEe8aeZCE0o"
      },
      "execution_count": 20,
      "outputs": []
    },
    {
      "cell_type": "code",
      "source": [
        "data.head()"
      ],
      "metadata": {
        "colab": {
          "base_uri": "https://localhost:8080/",
          "height": 204
        },
        "id": "7ORtyQoEC9LG",
        "outputId": "9f1c9eae-ac53-4782-83bf-9c652e6d4aee"
      },
      "execution_count": 21,
      "outputs": [
        {
          "output_type": "execute_result",
          "data": {
            "text/plain": [
              "   Volume_Bid  Volume_Ask       Open       High        Low      Close\n",
              "0  64608.9986  61275.0016  1727.4250  1729.6500  1727.3570  1728.8900\n",
              "1  71534.9987  80849.9977  1728.9735  1730.1210  1728.9285  1729.9145\n",
              "2  38320.0012  59829.9988  1729.9365  1730.4545  1729.8395  1730.3315\n",
              "3  26130.0001  36355.0000  1730.3265  1730.4645  1729.1980  1729.4530\n",
              "4  30500.0003  49090.0017  1729.4085  1729.6465  1728.5765  1728.9635"
            ],
            "text/html": [
              "\n",
              "  <div id=\"df-bfaec71d-6976-48ae-96e2-bce0d35f8d6f\">\n",
              "    <div class=\"colab-df-container\">\n",
              "      <div>\n",
              "<style scoped>\n",
              "    .dataframe tbody tr th:only-of-type {\n",
              "        vertical-align: middle;\n",
              "    }\n",
              "\n",
              "    .dataframe tbody tr th {\n",
              "        vertical-align: top;\n",
              "    }\n",
              "\n",
              "    .dataframe thead th {\n",
              "        text-align: right;\n",
              "    }\n",
              "</style>\n",
              "<table border=\"1\" class=\"dataframe\">\n",
              "  <thead>\n",
              "    <tr style=\"text-align: right;\">\n",
              "      <th></th>\n",
              "      <th>Volume_Bid</th>\n",
              "      <th>Volume_Ask</th>\n",
              "      <th>Open</th>\n",
              "      <th>High</th>\n",
              "      <th>Low</th>\n",
              "      <th>Close</th>\n",
              "    </tr>\n",
              "  </thead>\n",
              "  <tbody>\n",
              "    <tr>\n",
              "      <th>0</th>\n",
              "      <td>64608.9986</td>\n",
              "      <td>61275.0016</td>\n",
              "      <td>1727.4250</td>\n",
              "      <td>1729.6500</td>\n",
              "      <td>1727.3570</td>\n",
              "      <td>1728.8900</td>\n",
              "    </tr>\n",
              "    <tr>\n",
              "      <th>1</th>\n",
              "      <td>71534.9987</td>\n",
              "      <td>80849.9977</td>\n",
              "      <td>1728.9735</td>\n",
              "      <td>1730.1210</td>\n",
              "      <td>1728.9285</td>\n",
              "      <td>1729.9145</td>\n",
              "    </tr>\n",
              "    <tr>\n",
              "      <th>2</th>\n",
              "      <td>38320.0012</td>\n",
              "      <td>59829.9988</td>\n",
              "      <td>1729.9365</td>\n",
              "      <td>1730.4545</td>\n",
              "      <td>1729.8395</td>\n",
              "      <td>1730.3315</td>\n",
              "    </tr>\n",
              "    <tr>\n",
              "      <th>3</th>\n",
              "      <td>26130.0001</td>\n",
              "      <td>36355.0000</td>\n",
              "      <td>1730.3265</td>\n",
              "      <td>1730.4645</td>\n",
              "      <td>1729.1980</td>\n",
              "      <td>1729.4530</td>\n",
              "    </tr>\n",
              "    <tr>\n",
              "      <th>4</th>\n",
              "      <td>30500.0003</td>\n",
              "      <td>49090.0017</td>\n",
              "      <td>1729.4085</td>\n",
              "      <td>1729.6465</td>\n",
              "      <td>1728.5765</td>\n",
              "      <td>1728.9635</td>\n",
              "    </tr>\n",
              "  </tbody>\n",
              "</table>\n",
              "</div>\n",
              "      <button class=\"colab-df-convert\" onclick=\"convertToInteractive('df-bfaec71d-6976-48ae-96e2-bce0d35f8d6f')\"\n",
              "              title=\"Convert this dataframe to an interactive table.\"\n",
              "              style=\"display:none;\">\n",
              "        \n",
              "  <svg xmlns=\"http://www.w3.org/2000/svg\" height=\"24px\"viewBox=\"0 0 24 24\"\n",
              "       width=\"24px\">\n",
              "    <path d=\"M0 0h24v24H0V0z\" fill=\"none\"/>\n",
              "    <path d=\"M18.56 5.44l.94 2.06.94-2.06 2.06-.94-2.06-.94-.94-2.06-.94 2.06-2.06.94zm-11 1L8.5 8.5l.94-2.06 2.06-.94-2.06-.94L8.5 2.5l-.94 2.06-2.06.94zm10 10l.94 2.06.94-2.06 2.06-.94-2.06-.94-.94-2.06-.94 2.06-2.06.94z\"/><path d=\"M17.41 7.96l-1.37-1.37c-.4-.4-.92-.59-1.43-.59-.52 0-1.04.2-1.43.59L10.3 9.45l-7.72 7.72c-.78.78-.78 2.05 0 2.83L4 21.41c.39.39.9.59 1.41.59.51 0 1.02-.2 1.41-.59l7.78-7.78 2.81-2.81c.8-.78.8-2.07 0-2.86zM5.41 20L4 18.59l7.72-7.72 1.47 1.35L5.41 20z\"/>\n",
              "  </svg>\n",
              "      </button>\n",
              "      \n",
              "  <style>\n",
              "    .colab-df-container {\n",
              "      display:flex;\n",
              "      flex-wrap:wrap;\n",
              "      gap: 12px;\n",
              "    }\n",
              "\n",
              "    .colab-df-convert {\n",
              "      background-color: #E8F0FE;\n",
              "      border: none;\n",
              "      border-radius: 50%;\n",
              "      cursor: pointer;\n",
              "      display: none;\n",
              "      fill: #1967D2;\n",
              "      height: 32px;\n",
              "      padding: 0 0 0 0;\n",
              "      width: 32px;\n",
              "    }\n",
              "\n",
              "    .colab-df-convert:hover {\n",
              "      background-color: #E2EBFA;\n",
              "      box-shadow: 0px 1px 2px rgba(60, 64, 67, 0.3), 0px 1px 3px 1px rgba(60, 64, 67, 0.15);\n",
              "      fill: #174EA6;\n",
              "    }\n",
              "\n",
              "    [theme=dark] .colab-df-convert {\n",
              "      background-color: #3B4455;\n",
              "      fill: #D2E3FC;\n",
              "    }\n",
              "\n",
              "    [theme=dark] .colab-df-convert:hover {\n",
              "      background-color: #434B5C;\n",
              "      box-shadow: 0px 1px 3px 1px rgba(0, 0, 0, 0.15);\n",
              "      filter: drop-shadow(0px 1px 2px rgba(0, 0, 0, 0.3));\n",
              "      fill: #FFFFFF;\n",
              "    }\n",
              "  </style>\n",
              "\n",
              "      <script>\n",
              "        const buttonEl =\n",
              "          document.querySelector('#df-bfaec71d-6976-48ae-96e2-bce0d35f8d6f button.colab-df-convert');\n",
              "        buttonEl.style.display =\n",
              "          google.colab.kernel.accessAllowed ? 'block' : 'none';\n",
              "\n",
              "        async function convertToInteractive(key) {\n",
              "          const element = document.querySelector('#df-bfaec71d-6976-48ae-96e2-bce0d35f8d6f');\n",
              "          const dataTable =\n",
              "            await google.colab.kernel.invokeFunction('convertToInteractive',\n",
              "                                                     [key], {});\n",
              "          if (!dataTable) return;\n",
              "\n",
              "          const docLinkHtml = 'Like what you see? Visit the ' +\n",
              "            '<a target=\"_blank\" href=https://colab.research.google.com/notebooks/data_table.ipynb>data table notebook</a>'\n",
              "            + ' to learn more about interactive tables.';\n",
              "          element.innerHTML = '';\n",
              "          dataTable['output_type'] = 'display_data';\n",
              "          await google.colab.output.renderOutput(dataTable, element);\n",
              "          const docLink = document.createElement('div');\n",
              "          docLink.innerHTML = docLinkHtml;\n",
              "          element.appendChild(docLink);\n",
              "        }\n",
              "      </script>\n",
              "    </div>\n",
              "  </div>\n",
              "  "
            ]
          },
          "metadata": {},
          "execution_count": 21
        }
      ]
    },
    {
      "cell_type": "code",
      "source": [
        "data=(data-data.min())/(data.max()-data.min())"
      ],
      "metadata": {
        "id": "mOqu_68UDyLg"
      },
      "execution_count": 23,
      "outputs": []
    },
    {
      "cell_type": "code",
      "source": [
        "data.head()"
      ],
      "metadata": {
        "colab": {
          "base_uri": "https://localhost:8080/",
          "height": 204
        },
        "id": "wFlcPGdNEWix",
        "outputId": "511c5815-d7d1-4c5e-9f2d-998141f4952b"
      },
      "execution_count": 24,
      "outputs": [
        {
          "output_type": "execute_result",
          "data": {
            "text/plain": [
              "   Volume_Bid  Volume_Ask      Open      High       Low     Close\n",
              "0    0.021363    0.038988  0.125967  0.130772  0.137818  0.140713\n",
              "1    0.023653    0.051443  0.129923  0.131973  0.141810  0.143297\n",
              "2    0.012671    0.038068  0.132383  0.132824  0.144124  0.144349\n",
              "3    0.008640    0.023132  0.133379  0.132849  0.142495  0.142133\n",
              "4    0.010085    0.031235  0.131034  0.130764  0.140916  0.140899"
            ],
            "text/html": [
              "\n",
              "  <div id=\"df-c1703f68-4a19-4d04-bf28-dfbc1fabfb4b\">\n",
              "    <div class=\"colab-df-container\">\n",
              "      <div>\n",
              "<style scoped>\n",
              "    .dataframe tbody tr th:only-of-type {\n",
              "        vertical-align: middle;\n",
              "    }\n",
              "\n",
              "    .dataframe tbody tr th {\n",
              "        vertical-align: top;\n",
              "    }\n",
              "\n",
              "    .dataframe thead th {\n",
              "        text-align: right;\n",
              "    }\n",
              "</style>\n",
              "<table border=\"1\" class=\"dataframe\">\n",
              "  <thead>\n",
              "    <tr style=\"text-align: right;\">\n",
              "      <th></th>\n",
              "      <th>Volume_Bid</th>\n",
              "      <th>Volume_Ask</th>\n",
              "      <th>Open</th>\n",
              "      <th>High</th>\n",
              "      <th>Low</th>\n",
              "      <th>Close</th>\n",
              "    </tr>\n",
              "  </thead>\n",
              "  <tbody>\n",
              "    <tr>\n",
              "      <th>0</th>\n",
              "      <td>0.021363</td>\n",
              "      <td>0.038988</td>\n",
              "      <td>0.125967</td>\n",
              "      <td>0.130772</td>\n",
              "      <td>0.137818</td>\n",
              "      <td>0.140713</td>\n",
              "    </tr>\n",
              "    <tr>\n",
              "      <th>1</th>\n",
              "      <td>0.023653</td>\n",
              "      <td>0.051443</td>\n",
              "      <td>0.129923</td>\n",
              "      <td>0.131973</td>\n",
              "      <td>0.141810</td>\n",
              "      <td>0.143297</td>\n",
              "    </tr>\n",
              "    <tr>\n",
              "      <th>2</th>\n",
              "      <td>0.012671</td>\n",
              "      <td>0.038068</td>\n",
              "      <td>0.132383</td>\n",
              "      <td>0.132824</td>\n",
              "      <td>0.144124</td>\n",
              "      <td>0.144349</td>\n",
              "    </tr>\n",
              "    <tr>\n",
              "      <th>3</th>\n",
              "      <td>0.008640</td>\n",
              "      <td>0.023132</td>\n",
              "      <td>0.133379</td>\n",
              "      <td>0.132849</td>\n",
              "      <td>0.142495</td>\n",
              "      <td>0.142133</td>\n",
              "    </tr>\n",
              "    <tr>\n",
              "      <th>4</th>\n",
              "      <td>0.010085</td>\n",
              "      <td>0.031235</td>\n",
              "      <td>0.131034</td>\n",
              "      <td>0.130764</td>\n",
              "      <td>0.140916</td>\n",
              "      <td>0.140899</td>\n",
              "    </tr>\n",
              "  </tbody>\n",
              "</table>\n",
              "</div>\n",
              "      <button class=\"colab-df-convert\" onclick=\"convertToInteractive('df-c1703f68-4a19-4d04-bf28-dfbc1fabfb4b')\"\n",
              "              title=\"Convert this dataframe to an interactive table.\"\n",
              "              style=\"display:none;\">\n",
              "        \n",
              "  <svg xmlns=\"http://www.w3.org/2000/svg\" height=\"24px\"viewBox=\"0 0 24 24\"\n",
              "       width=\"24px\">\n",
              "    <path d=\"M0 0h24v24H0V0z\" fill=\"none\"/>\n",
              "    <path d=\"M18.56 5.44l.94 2.06.94-2.06 2.06-.94-2.06-.94-.94-2.06-.94 2.06-2.06.94zm-11 1L8.5 8.5l.94-2.06 2.06-.94-2.06-.94L8.5 2.5l-.94 2.06-2.06.94zm10 10l.94 2.06.94-2.06 2.06-.94-2.06-.94-.94-2.06-.94 2.06-2.06.94z\"/><path d=\"M17.41 7.96l-1.37-1.37c-.4-.4-.92-.59-1.43-.59-.52 0-1.04.2-1.43.59L10.3 9.45l-7.72 7.72c-.78.78-.78 2.05 0 2.83L4 21.41c.39.39.9.59 1.41.59.51 0 1.02-.2 1.41-.59l7.78-7.78 2.81-2.81c.8-.78.8-2.07 0-2.86zM5.41 20L4 18.59l7.72-7.72 1.47 1.35L5.41 20z\"/>\n",
              "  </svg>\n",
              "      </button>\n",
              "      \n",
              "  <style>\n",
              "    .colab-df-container {\n",
              "      display:flex;\n",
              "      flex-wrap:wrap;\n",
              "      gap: 12px;\n",
              "    }\n",
              "\n",
              "    .colab-df-convert {\n",
              "      background-color: #E8F0FE;\n",
              "      border: none;\n",
              "      border-radius: 50%;\n",
              "      cursor: pointer;\n",
              "      display: none;\n",
              "      fill: #1967D2;\n",
              "      height: 32px;\n",
              "      padding: 0 0 0 0;\n",
              "      width: 32px;\n",
              "    }\n",
              "\n",
              "    .colab-df-convert:hover {\n",
              "      background-color: #E2EBFA;\n",
              "      box-shadow: 0px 1px 2px rgba(60, 64, 67, 0.3), 0px 1px 3px 1px rgba(60, 64, 67, 0.15);\n",
              "      fill: #174EA6;\n",
              "    }\n",
              "\n",
              "    [theme=dark] .colab-df-convert {\n",
              "      background-color: #3B4455;\n",
              "      fill: #D2E3FC;\n",
              "    }\n",
              "\n",
              "    [theme=dark] .colab-df-convert:hover {\n",
              "      background-color: #434B5C;\n",
              "      box-shadow: 0px 1px 3px 1px rgba(0, 0, 0, 0.15);\n",
              "      filter: drop-shadow(0px 1px 2px rgba(0, 0, 0, 0.3));\n",
              "      fill: #FFFFFF;\n",
              "    }\n",
              "  </style>\n",
              "\n",
              "      <script>\n",
              "        const buttonEl =\n",
              "          document.querySelector('#df-c1703f68-4a19-4d04-bf28-dfbc1fabfb4b button.colab-df-convert');\n",
              "        buttonEl.style.display =\n",
              "          google.colab.kernel.accessAllowed ? 'block' : 'none';\n",
              "\n",
              "        async function convertToInteractive(key) {\n",
              "          const element = document.querySelector('#df-c1703f68-4a19-4d04-bf28-dfbc1fabfb4b');\n",
              "          const dataTable =\n",
              "            await google.colab.kernel.invokeFunction('convertToInteractive',\n",
              "                                                     [key], {});\n",
              "          if (!dataTable) return;\n",
              "\n",
              "          const docLinkHtml = 'Like what you see? Visit the ' +\n",
              "            '<a target=\"_blank\" href=https://colab.research.google.com/notebooks/data_table.ipynb>data table notebook</a>'\n",
              "            + ' to learn more about interactive tables.';\n",
              "          element.innerHTML = '';\n",
              "          dataTable['output_type'] = 'display_data';\n",
              "          await google.colab.output.renderOutput(dataTable, element);\n",
              "          const docLink = document.createElement('div');\n",
              "          docLink.innerHTML = docLinkHtml;\n",
              "          element.appendChild(docLink);\n",
              "        }\n",
              "      </script>\n",
              "    </div>\n",
              "  </div>\n",
              "  "
            ]
          },
          "metadata": {},
          "execution_count": 24
        }
      ]
    },
    {
      "cell_type": "code",
      "source": [
        "np.random.seed(19)"
      ],
      "metadata": {
        "id": "aBukmfkLEYfG"
      },
      "execution_count": 26,
      "outputs": []
    },
    {
      "cell_type": "code",
      "source": [
        "print(data.head(n=5))\n",
        "print(data[-5:])"
      ],
      "metadata": {
        "colab": {
          "base_uri": "https://localhost:8080/"
        },
        "id": "O3OMFDtwFNLS",
        "outputId": "42fd5806-ad20-48cf-c109-dcca4b14afee"
      },
      "execution_count": 28,
      "outputs": [
        {
          "output_type": "stream",
          "name": "stdout",
          "text": [
            "   Volume_Bid  Volume_Ask      Open      High       Low     Close\n",
            "0    0.021363    0.038988  0.125967  0.130772  0.137818  0.140713\n",
            "1    0.023653    0.051443  0.129923  0.131973  0.141810  0.143297\n",
            "2    0.012671    0.038068  0.132383  0.132824  0.144124  0.144349\n",
            "3    0.008640    0.023132  0.133379  0.132849  0.142495  0.142133\n",
            "4    0.010085    0.031235  0.131034  0.130764  0.140916  0.140899\n",
            "        Volume_Bid  Volume_Ask      Open      High       Low     Close\n",
            "371274    0.003809    0.012897  0.785339  0.786228  0.793662  0.789447\n",
            "371275    0.003402    0.015334  0.786724  0.788796  0.794671  0.793563\n",
            "371276    0.001270    0.002914  0.790729  0.790754  0.798524  0.795500\n",
            "371277    0.001746    0.007565  0.792612  0.790772  0.800340  0.794850\n",
            "371278    0.001696    0.004352  0.792190  0.791118  0.800259  0.795753\n"
          ]
        }
      ]
    },
    {
      "cell_type": "code",
      "source": [
        "data.info()"
      ],
      "metadata": {
        "colab": {
          "base_uri": "https://localhost:8080/"
        },
        "id": "DZn562-kFR6r",
        "outputId": "16d69941-7c5c-497f-9702-a50262d7769f"
      },
      "execution_count": 29,
      "outputs": [
        {
          "output_type": "stream",
          "name": "stdout",
          "text": [
            "<class 'pandas.core.frame.DataFrame'>\n",
            "RangeIndex: 371279 entries, 0 to 371278\n",
            "Data columns (total 6 columns):\n",
            " #   Column      Non-Null Count   Dtype  \n",
            "---  ------      --------------   -----  \n",
            " 0   Volume_Bid  371279 non-null  float64\n",
            " 1   Volume_Ask  371279 non-null  float64\n",
            " 2   Open        371279 non-null  float64\n",
            " 3   High        371279 non-null  float64\n",
            " 4   Low         371279 non-null  float64\n",
            " 5   Close       371279 non-null  float64\n",
            "dtypes: float64(6)\n",
            "memory usage: 17.0 MB\n"
          ]
        }
      ]
    },
    {
      "cell_type": "code",
      "source": [
        "data['Volume_Bid']=pd.to_numeric(data['Volume_Bid'],downcast='float')\n",
        "data['Volume_Ask']=pd.to_numeric(data['Volume_Ask'],downcast='float')\n",
        "data['Open']=pd.to_numeric(data['Open'],downcast='float')\n",
        "data['High']=pd.to_numeric(data['High'],downcast='float')\n",
        "data['Low']=pd.to_numeric(data['Low'],downcast='float')\n",
        "data['Close']=pd.to_numeric(data['Close'],downcast='float')\n",
        "data.info()"
      ],
      "metadata": {
        "colab": {
          "base_uri": "https://localhost:8080/"
        },
        "id": "0-8KIFp9FUvl",
        "outputId": "761370af-f6ec-4545-8e68-8bd4c2d8120f"
      },
      "execution_count": 30,
      "outputs": [
        {
          "output_type": "stream",
          "name": "stdout",
          "text": [
            "<class 'pandas.core.frame.DataFrame'>\n",
            "RangeIndex: 371279 entries, 0 to 371278\n",
            "Data columns (total 6 columns):\n",
            " #   Column      Non-Null Count   Dtype  \n",
            "---  ------      --------------   -----  \n",
            " 0   Volume_Bid  371279 non-null  float32\n",
            " 1   Volume_Ask  371279 non-null  float32\n",
            " 2   Open        371279 non-null  float32\n",
            " 3   High        371279 non-null  float32\n",
            " 4   Low         371279 non-null  float32\n",
            " 5   Close       371279 non-null  float32\n",
            "dtypes: float32(6)\n",
            "memory usage: 8.5 MB\n"
          ]
        }
      ]
    },
    {
      "cell_type": "code",
      "source": [
        "import matplotlib.pyplot as plt\n",
        "%matplotlib inline\n",
        "plt.figure(num=1,figsize=(15,7))\n",
        "plt.hist(data['Volume_Ask'],bins=100)\n",
        "plt.title('Ask volume distribution',size=18)\n",
        "plt.ylabel('Numbers',size=14)\n",
        "plt.xlabel('Volume,mln lots',size=14);"
      ],
      "metadata": {
        "colab": {
          "base_uri": "https://localhost:8080/",
          "height": 358
        },
        "id": "FyjWXknqFZNo",
        "outputId": "1c7cda8a-d8c2-4b06-b8c5-9c6b9af4d82f"
      },
      "execution_count": 31,
      "outputs": [
        {
          "output_type": "display_data",
          "data": {
            "text/plain": [
              "<Figure size 1080x504 with 1 Axes>"
            ],
            "image/png": "[encoded data removed]"
          },
          "metadata": {
            "needs_background": "light"
          }
        }
      ]
    },
    {
      "cell_type": "code",
      "source": [
        "n=data.shape[0]\n",
        "p=data.shape[1]\n",
        "\n",
        "n_small=250000\n",
        "data_a=np.array(data[:n_small])\n",
        "print(\"data_a:\")\n",
        "print(data_a[:4])\n",
        "print('\\n')\n",
        "print(data_a[-4:])\n",
        "print('\\n',\"Tick number in the DataFrame: n_small=\",n_small,'\\n')\n",
        "print(\"numpy size:                                =\",data_a.shape)"
      ],
      "metadata": {
        "colab": {
          "base_uri": "https://localhost:8080/"
        },
        "id": "_CPxAuuUFea2",
        "outputId": "afa505bf-ba39-4de6-ff72-c65b0db5e1a8"
      },
      "execution_count": 33,
      "outputs": [
        {
          "output_type": "stream",
          "name": "stdout",
          "text": [
            "data_a:\n",
            "[[0.02136336 0.03898769 0.12596732 0.13077244 0.1378183  0.14071327]\n",
            " [0.02365348 0.05144275 0.12992284 0.13197334 0.14181007 0.14329727]\n",
            " [0.01267074 0.03806827 0.13238275 0.13282366 0.1441241  0.14434902]\n",
            " [0.00864004 0.02313174 0.13337897 0.13284916 0.14249463 0.14213327]]\n",
            "\n",
            "\n",
            "[[0.00282711 0.0050202  0.4754246  0.47436056 0.48540077 0.48249093]\n",
            " [0.00341568 0.00419941 0.47587925 0.47462827 0.48590878 0.48271793]\n",
            " [0.00231459 0.00283778 0.476173   0.47467926 0.4859469  0.4827053 ]\n",
            " [0.00303542 0.00494385 0.47602487 0.4748501  0.4860612  0.48278603]]\n",
            "\n",
            " Tick number in the DataFrame: n_small= 250000 \n",
            "\n",
            "numpy size:                                = (250000, 6)\n"
          ]
        }
      ]
    },
    {
      "cell_type": "code",
      "source": [
        "data=[]\n",
        "data"
      ],
      "metadata": {
        "colab": {
          "base_uri": "https://localhost:8080/"
        },
        "id": "b4mlm_-AFn12",
        "outputId": "b06a39c2-a4bb-4d8a-b4d9-8a89dd81e348"
      },
      "execution_count": 34,
      "outputs": [
        {
          "output_type": "execute_result",
          "data": {
            "text/plain": [
              "[]"
            ]
          },
          "metadata": {},
          "execution_count": 34
        }
      ]
    },
    {
      "cell_type": "code",
      "source": [
        "N=50\n",
        "L=n_small-N\n",
        "print('Size of a three-dimensional data tensor: ',L,N,6)"
      ],
      "metadata": {
        "colab": {
          "base_uri": "https://localhost:8080/"
        },
        "id": "NzTMuXERFqv6",
        "outputId": "2f4eafa0-1f22-4544-e329-92317ba7a12f"
      },
      "execution_count": 35,
      "outputs": [
        {
          "output_type": "stream",
          "name": "stdout",
          "text": [
            "Size of a three-dimensional data tensor:  249950 50 6\n"
          ]
        }
      ]
    },
    {
      "cell_type": "code",
      "source": [
        "from tqdm import tqdm"
      ],
      "metadata": {
        "id": "5vax7i8_Ft3-"
      },
      "execution_count": 36,
      "outputs": []
    },
    {
      "cell_type": "code",
      "source": [
        "data_b=np.zeros((L,N,6),dtype='float32')\n",
        "Y=np.zeros((L,2),dtype='float32')"
      ],
      "metadata": {
        "id": "0RsJwE29Fxxx"
      },
      "execution_count": 37,
      "outputs": []
    },
    {
      "cell_type": "code",
      "source": [
        "print('n_small-N=',n_small-N)"
      ],
      "metadata": {
        "colab": {
          "base_uri": "https://localhost:8080/"
        },
        "id": "2lQDmA8tF1oD",
        "outputId": "24502d43-99b3-4cd0-a85b-d7b7040d288f"
      },
      "execution_count": 39,
      "outputs": [
        {
          "output_type": "stream",
          "name": "stdout",
          "text": [
            "n_small-N= 249950\n"
          ]
        }
      ]
    },
    {
      "cell_type": "code",
      "source": [
        "print('n_small-N=',n_small-N)\n",
        "for k in tqdm(range(n_small-N)):\n",
        "    data_b[k,:,:]=data_a[k:k+N,:]\n",
        "    Y[k,0]=data_a[k+N,3]\n",
        "    Y[k,1]=data_a[k+N,1]\n",
        "print(k)\n",
        "print('data_b:','\\n',data_b)\n",
        "print(\"Numpy size:\",data_b.shape,'\\n')\n",
        "print(Y[:5,:])\n",
        "print(Y[-10:,:])\n",
        "print(\"Numpy size:\",Y.shape)"
      ],
      "metadata": {
        "colab": {
          "base_uri": "https://localhost:8080/"
        },
        "id": "-or-dH3_F72o",
        "outputId": "3fab0778-9509-44fd-f24b-1ae9fdae713c"
      },
      "execution_count": 40,
      "outputs": [
        {
          "output_type": "stream",
          "name": "stdout",
          "text": [
            "n_small-N= 249950\n"
          ]
        },
        {
          "output_type": "stream",
          "name": "stderr",
          "text": [
            "100%|██████████| 249950/249950 [00:01<00:00, 206694.50it/s]\n"
          ]
        },
        {
          "output_type": "stream",
          "name": "stdout",
          "text": [
            "249949\n",
            "data_b: \n",
            " [[[0.02136336 0.03898769 0.12596732 0.13077244 0.1378183  0.14071327]\n",
            "  [0.02365348 0.05144275 0.12992284 0.13197334 0.14181007 0.14329727]\n",
            "  [0.01267074 0.03806827 0.13238275 0.13282366 0.1441241  0.14434902]\n",
            "  ...\n",
            "  [0.01228387 0.01943817 0.12703635 0.12626846 0.13735728 0.13696404]\n",
            "  [0.00335285 0.0058919  0.12589963 0.12541433 0.13777131 0.13683793]\n",
            "  [0.00501605 0.00699265 0.12576425 0.12498087 0.13689499 0.13616954]]\n",
            "\n",
            " [[0.02365348 0.05144275 0.12992284 0.13197334 0.14181007 0.14329727]\n",
            "  [0.01267074 0.03806827 0.13238275 0.13282366 0.1441241  0.14434902]\n",
            "  [0.00864004 0.02313174 0.13337897 0.13284916 0.14249463 0.14213327]\n",
            "  ...\n",
            "  [0.00335285 0.0058919  0.12589963 0.12541433 0.13777131 0.13683793]\n",
            "  [0.00501605 0.00699265 0.12576425 0.12498087 0.13689499 0.13616954]\n",
            "  [0.01111005 0.01969904 0.1251333  0.12466217 0.13600594 0.13570294]]\n",
            "\n",
            " [[0.01267074 0.03806827 0.13238275 0.13282366 0.1441241  0.14434902]\n",
            "  [0.00864004 0.02313174 0.13337897 0.13284916 0.14249463 0.14213327]\n",
            "  [0.01008501 0.03123469 0.13103402 0.13076353 0.14091596 0.14089866]\n",
            "  ...\n",
            "  [0.00501605 0.00699265 0.12576425 0.12498087 0.13689499 0.13616954]\n",
            "  [0.01111005 0.01969904 0.1251333  0.12466217 0.13600594 0.13570294]\n",
            "  [0.01439015 0.02555913 0.12466074 0.12425422 0.13617106 0.13584165]]\n",
            "\n",
            " ...\n",
            "\n",
            " [[0.00303212 0.00874877 0.4835604  0.4822951  0.49328777 0.48994905]\n",
            "  [0.00265186 0.00672542 0.48331773 0.4818744  0.49294993 0.4897977 ]\n",
            "  [0.0032735  0.00843063 0.4832028  0.48178518 0.49277213 0.48960856]\n",
            "  ...\n",
            "  [0.00376948 0.00846244 0.4762969  0.47482458 0.4859723  0.48254642]\n",
            "  [0.00338592 0.00785162 0.47593546 0.47445488 0.48522297 0.48200414]\n",
            "  [0.00282711 0.0050202  0.4754246  0.47436056 0.48540077 0.48249093]]\n",
            "\n",
            " [[0.00265186 0.00672542 0.48331773 0.4818744  0.49294993 0.4897977 ]\n",
            "  [0.0032735  0.00843063 0.4832028  0.48178518 0.49277213 0.48960856]\n",
            "  [0.00324704 0.00885693 0.48298565 0.48186678 0.49276707 0.48989356]\n",
            "  ...\n",
            "  [0.00338592 0.00785162 0.47593546 0.47445488 0.48522297 0.48200414]\n",
            "  [0.00282711 0.0050202  0.4754246  0.47436056 0.48540077 0.48249093]\n",
            "  [0.00341568 0.00419941 0.47587925 0.47462827 0.48590878 0.48271793]]\n",
            "\n",
            " [[0.0032735  0.00843063 0.4832028  0.48178518 0.49277213 0.48960856]\n",
            "  [0.00324704 0.00885693 0.48298565 0.48186678 0.49276707 0.48989356]\n",
            "  [0.00083987 0.00263417 0.4833254  0.48184893 0.49324968 0.48992383]\n",
            "  ...\n",
            "  [0.00282711 0.0050202  0.4754246  0.47436056 0.48540077 0.48249093]\n",
            "  [0.00341568 0.00419941 0.47587925 0.47462827 0.48590878 0.48271793]\n",
            "  [0.00231459 0.00283778 0.476173   0.47467926 0.4859469  0.4827053 ]]]\n",
            "Numpy size: (249950, 50, 6) \n",
            "\n",
            "[[0.12466217 0.01969904]\n",
            " [0.12425422 0.02555913]\n",
            " [0.12463667 0.01736392]\n",
            " [0.12495538 0.00780072]\n",
            " [0.12476926 0.00845608]]\n",
            "[[0.47569147 0.00517927]\n",
            " [0.47528353 0.0085388 ]\n",
            " [0.47480673 0.00974135]\n",
            " [0.47493932 0.0144816 ]\n",
            " [0.47482458 0.00846244]\n",
            " [0.47445488 0.00785162]\n",
            " [0.47436056 0.0050202 ]\n",
            " [0.47462827 0.00419941]\n",
            " [0.47467926 0.00283778]\n",
            " [0.4748501  0.00494385]]\n",
            "Numpy size: (249950, 2)\n"
          ]
        }
      ]
    },
    {
      "cell_type": "code",
      "source": [
        "data_a=[]\n",
        "data_a"
      ],
      "metadata": {
        "colab": {
          "base_uri": "https://localhost:8080/"
        },
        "id": "rOlUfOQpGBqs",
        "outputId": "c8986450-4e17-4d66-8991-d902ddd306a7"
      },
      "execution_count": 41,
      "outputs": [
        {
          "output_type": "execute_result",
          "data": {
            "text/plain": [
              "[]"
            ]
          },
          "metadata": {},
          "execution_count": 41
        }
      ]
    },
    {
      "cell_type": "code",
      "source": [
        "import random \n",
        "pp=random.randint(10,n_small-N-1)\n",
        "print('random int = ',pp)\n",
        "print('\\t','data_b:','\\t\\t\\t','Bid','\\t\\t\\t','Ask')\n",
        "for i in range(7):\n",
        "    print(data_b[pp+i,N-1,3],'\\t\\t',data_b[pp+i,N-1,1],'\\t\\t',Y[pp+i,0],'\\t\\t',Y[pp+i,1])"
      ],
      "metadata": {
        "colab": {
          "base_uri": "https://localhost:8080/"
        },
        "id": "9ouP7L1BGGzx",
        "outputId": "c58f778c-f214-4be5-83eb-56380cc3c5c8"
      },
      "execution_count": 42,
      "outputs": [
        {
          "output_type": "stream",
          "name": "stdout",
          "text": [
            "random int =  75854\n",
            "\t data_b: \t\t\t Bid \t\t\t Ask\n",
            "0.5501583 \t\t 0.08559793 \t\t 0.5535456 \t\t 0.069404766\n",
            "0.5535456 \t\t 0.069404766 \t\t 0.5524365 \t\t 0.05529857\n",
            "0.5524365 \t\t 0.05529857 \t\t 0.5545782 \t\t 0.06473452\n",
            "0.5545782 \t\t 0.06473452 \t\t 0.5545017 \t\t 0.040263418\n",
            "0.5545017 \t\t 0.040263418 \t\t 0.55333775 \t\t 0.028460534\n",
            "0.55333775 \t\t 0.028460534 \t\t 0.5523944 \t\t 0.04891038\n",
            "0.5523944 \t\t 0.04891038 \t\t 0.5514676 \t\t 0.04860497\n"
          ]
        }
      ]
    },
    {
      "cell_type": "code",
      "source": [
        "print('\\t','\\t Max Min')\n",
        "mnx=data_b[:,:,0].max()\n",
        "mmn=data_b[:,:,0].min()\n",
        "print('Volume_bid','\\t',mnx,'\\t',mmn)\n",
        "mnx=data_b[:,:,1].max()\n",
        "mmn=data_b[:,:,1].min()\n",
        "print('Volume_Ask','\\t',mnx,'\\t',mmn)\n",
        "mnx=data_b[:,:,2].max()\n",
        "mmn=data_b[:,:,2].min()\n",
        "print('Open','\\t',mnx,'\\t',mmn)\n",
        "mnx=data_b[:,:,3].max()\n",
        "mmn=data_b[:,:,3].min()\n",
        "print('High','\\t',mnx,'\\t',mmn)\n",
        "mnx=data_b[:,:,4].max()\n",
        "mmn=data_b[:,:,4].min()\n",
        "print('Low','\\t',mnx,'\\t',mmn)\n",
        "mnx=data_b[:,:,5].max()\n",
        "mmn=data_b[:,:,5].min()\n",
        "print('Close','\\t',mnx,'\\t',mmn)"
      ],
      "metadata": {
        "colab": {
          "base_uri": "https://localhost:8080/"
        },
        "id": "awv2AsCrGLuK",
        "outputId": "8a583812-ff8f-4b01-8300-8422e1223e72"
      },
      "execution_count": 44,
      "outputs": [
        {
          "output_type": "stream",
          "name": "stdout",
          "text": [
            "\t \t Max Min\n",
            "Volume_bid \t 1.0 \t 0.0\n",
            "Volume_Ask \t 0.8096268 \t 0.0\n",
            "Open \t 0.6091484 \t 0.0\n",
            "High \t 0.6074927 \t 0.0\n",
            "Low \t 0.61729175 \t 0.0\n",
            "Close \t 0.61402845 \t 0.0\n"
          ]
        }
      ]
    },
    {
      "cell_type": "code",
      "source": [
        "train_start=0\n",
        "train_end=int(np.floor(0.9*L))\n",
        "print(L,train_end)"
      ],
      "metadata": {
        "colab": {
          "base_uri": "https://localhost:8080/"
        },
        "id": "0NrbgQocGSol",
        "outputId": "bfc3ab48-f361-413e-e3bc-a91548b19d77"
      },
      "execution_count": 45,
      "outputs": [
        {
          "output_type": "stream",
          "name": "stdout",
          "text": [
            "249950 224955\n"
          ]
        }
      ]
    },
    {
      "cell_type": "code",
      "source": [
        "train_end_=4955\n",
        "print(train_end)"
      ],
      "metadata": {
        "colab": {
          "base_uri": "https://localhost:8080/"
        },
        "id": "ZJVn21n5Ggeh",
        "outputId": "8810dc62-0554-4212-aaa0-bb95ddc6610c"
      },
      "execution_count": 46,
      "outputs": [
        {
          "output_type": "stream",
          "name": "stdout",
          "text": [
            "224955\n"
          ]
        }
      ]
    },
    {
      "cell_type": "code",
      "source": [
        "test_start=train_end+1\n",
        "test_end=L\n",
        "print(test_start,test_end)"
      ],
      "metadata": {
        "colab": {
          "base_uri": "https://localhost:8080/"
        },
        "id": "Qi3CB04rGjco",
        "outputId": "d6fb8215-c0de-4a30-b57d-708dddf27827"
      },
      "execution_count": 47,
      "outputs": [
        {
          "output_type": "stream",
          "name": "stdout",
          "text": [
            "224956 249950\n"
          ]
        }
      ]
    },
    {
      "cell_type": "code",
      "source": [
        "print(test_end-train_end)"
      ],
      "metadata": {
        "colab": {
          "base_uri": "https://localhost:8080/"
        },
        "id": "fQDN8HQNGmow",
        "outputId": "4e87968f-3199-4983-f4c4-1b252fe97f82"
      },
      "execution_count": 48,
      "outputs": [
        {
          "output_type": "stream",
          "name": "stdout",
          "text": [
            "24995\n"
          ]
        }
      ]
    },
    {
      "cell_type": "code",
      "source": [
        "X_train=np.zeros((train_end,N,6),dtype='float32')\n",
        "X_test=np.zeros((test_end-train_end,N,6),dtype='float32')\n",
        "for z in tqdm(range(test_end)):\n",
        "    if z<train_end:\n",
        "        X_train[z,:,:]=data_b[z,:,:]\n",
        "    else:\n",
        "        X_test[z-train_end,:,:]=data_b[z,:,:]\n",
        "print('\\n',\"X_train:\",X_train.shape,'\\n')\n",
        "print(\"X_test:\",X_test.shape,'\\n')"
      ],
      "metadata": {
        "colab": {
          "base_uri": "https://localhost:8080/"
        },
        "id": "DCUfhnVfGpc5",
        "outputId": "2f1c4b78-b9a2-4032-9e5f-ecfe36a6fe2f"
      },
      "execution_count": 52,
      "outputs": [
        {
          "output_type": "stream",
          "name": "stderr",
          "text": [
            "100%|██████████| 249950/249950 [00:00<00:00, 533256.23it/s]"
          ]
        },
        {
          "output_type": "stream",
          "name": "stdout",
          "text": [
            "\n",
            " X_train: (224955, 50, 6) \n",
            "\n",
            "X_test: (24995, 50, 6) \n",
            "\n"
          ]
        },
        {
          "output_type": "stream",
          "name": "stderr",
          "text": [
            "\n"
          ]
        }
      ]
    },
    {
      "cell_type": "code",
      "source": [
        "print(X_train[:5,N-1,:])\n",
        "print(X_train[-5:,N-1,:],'\\n')\n",
        "print(X_test[:5,N-1,:])\n",
        "print(X_test[-5:,N-1,:])"
      ],
      "metadata": {
        "colab": {
          "base_uri": "https://localhost:8080/"
        },
        "id": "46PnhNCMGtGB",
        "outputId": "7f2a416b-fe32-4d3e-8d46-59fcd8e2e7e2"
      },
      "execution_count": 54,
      "outputs": [
        {
          "output_type": "stream",
          "name": "stdout",
          "text": [
            "[[0.00501605 0.00699265 0.12576425 0.12498087 0.13689499 0.13616954]\n",
            " [0.01111005 0.01969904 0.1251333  0.12466217 0.13600594 0.13570294]\n",
            " [0.01439015 0.02555913 0.12466074 0.12425422 0.13617106 0.13584165]\n",
            " [0.01003541 0.01736392 0.12476292 0.12463667 0.13666637 0.13653526]\n",
            " [0.00501605 0.00780072 0.12542707 0.12495538 0.13715407 0.13676226]]\n",
            "[[0.00887812 0.01580505 0.26078188 0.26054287 0.271796   0.27100232]\n",
            " [0.00884836 0.01529603 0.26165038 0.26128992 0.27267486 0.27145883]\n",
            " [0.00817051 0.01626953 0.26213828 0.26139957 0.27313715 0.27170855]\n",
            " [0.00742323 0.01518786 0.26238605 0.2618636  0.27316254 0.27131256]\n",
            " [0.00485073 0.00982407 0.2620029  0.261833   0.27319303 0.27153197]] \n",
            "\n",
            "[[0.00611714 0.01140839 0.26225322 0.26131034 0.27260372 0.27107295]\n",
            " [0.00809446 0.01952089 0.2617679  0.26211092 0.27273074 0.27196077]\n",
            " [0.00862351 0.01754207 0.26274112 0.26254818 0.27335814 0.2728183 ]\n",
            " [0.00994614 0.02914135 0.2634768  0.263526   0.2747298  0.2733732 ]\n",
            " [0.00719838 0.01757389 0.26407707 0.26364836 0.27507272 0.27405417]]\n",
            "[[0.00376948 0.00846244 0.4762969  0.47482458 0.4859723  0.48254642]\n",
            " [0.00338592 0.00785162 0.47593546 0.47445488 0.48522297 0.48200414]\n",
            " [0.00282711 0.0050202  0.4754246  0.47436056 0.48540077 0.48249093]\n",
            " [0.00341568 0.00419941 0.47587925 0.47462827 0.48590878 0.48271793]\n",
            " [0.00231459 0.00283778 0.476173   0.47467926 0.4859469  0.4827053 ]]\n"
          ]
        }
      ]
    },
    {
      "cell_type": "code",
      "source": [
        "y_train=Y[np.arange(train_start,train_end),:]\n",
        "y_test=Y[np.arange(test_start,L),:]\n",
        "\n",
        "print(train_start,train_end,test_start,L,'\\n')\n",
        "print('y_train(first 10):','\\n',y_train[:10,:])\n",
        "\n",
        "data_add_row=np.array([y_test[L-test_start-1,0],y_test[L-test_start-1,1]])\n",
        "print(L-test_start-1,data_add_row)\n",
        "y_test=np.vstack([y_test,data_add_row])\n",
        "\n",
        "print('y_test(last 10:)','\\n',y_test[-10:,:])"
      ],
      "metadata": {
        "colab": {
          "base_uri": "https://localhost:8080/"
        },
        "id": "Za29TYPcHNul",
        "outputId": "3c270665-58e4-4611-c16e-bd8365bf9a8a"
      },
      "execution_count": 55,
      "outputs": [
        {
          "output_type": "stream",
          "name": "stdout",
          "text": [
            "0 224955 224956 249950 \n",
            "\n",
            "y_train(first 10): \n",
            " [[0.12466217 0.01969904]\n",
            " [0.12425422 0.02555913]\n",
            " [0.12463667 0.01736392]\n",
            " [0.12495538 0.00780072]\n",
            " [0.12476926 0.00845608]\n",
            " [0.12492988 0.01022492]\n",
            " [0.1274821  0.02297585]\n",
            " [0.12738138 0.00999586]\n",
            " [0.12713917 0.01510514]\n",
            " [0.12679496 0.01114116]]\n",
            "24993 [0.4748501  0.00494385]\n",
            "y_test(last 10:) \n",
            " [[0.47528353 0.0085388 ]\n",
            " [0.47480673 0.00974135]\n",
            " [0.47493932 0.0144816 ]\n",
            " [0.47482458 0.00846244]\n",
            " [0.47445488 0.00785162]\n",
            " [0.47436056 0.0050202 ]\n",
            " [0.47462827 0.00419941]\n",
            " [0.47467926 0.00283778]\n",
            " [0.4748501  0.00494385]\n",
            " [0.4748501  0.00494385]]\n"
          ]
        }
      ]
    },
    {
      "cell_type": "code",
      "source": [
        "print('Data for training')\n",
        "print(\"X_train\")\n",
        "print(\"Type:\", X_train.dtype, type(X_train),\":Size:\",X_train.shape)\n",
        "\n",
        "print(\"\\n\",\"y_train\")\n",
        "print(\"Type:\",y_train.dtype,type(y_train),\":size:\",y_train.shape)\n",
        "\n",
        "print('Data for testing')\n",
        "print(\"X_test\")\n",
        "print(\"Type:\",X_test.dtype, type(X_test),\":Size:\",X_test.shape)\n",
        "\n",
        "print(\"\\n\",\"y_test\")\n",
        "print(\"Type:\",y_test.dtype,type(y_test),\":size:\",y_test.shape)"
      ],
      "metadata": {
        "colab": {
          "base_uri": "https://localhost:8080/"
        },
        "id": "nvadByyJHR4x",
        "outputId": "786a9b01-a149-41a6-d6f3-b6a50b62f26a"
      },
      "execution_count": 56,
      "outputs": [
        {
          "output_type": "stream",
          "name": "stdout",
          "text": [
            "Data for training\n",
            "X_train\n",
            "Type: float32 <class 'numpy.ndarray'> :Size: (224955, 50, 6)\n",
            "\n",
            " y_train\n",
            "Type: float32 <class 'numpy.ndarray'> :size: (224955, 2)\n",
            "Data for testing\n",
            "X_test\n",
            "Type: float32 <class 'numpy.ndarray'> :Size: (24995, 50, 6)\n",
            "\n",
            " y_test\n",
            "Type: float32 <class 'numpy.ndarray'> :size: (24995, 2)\n"
          ]
        }
      ]
    },
    {
      "cell_type": "code",
      "source": [
        "import tensorflow as tf\n",
        "from tensorflow import keras"
      ],
      "metadata": {
        "id": "L2xo84xhHWmt"
      },
      "execution_count": 57,
      "outputs": []
    },
    {
      "cell_type": "code",
      "source": [
        "model=keras.Sequential([\n",
        "    keras.layers.Conv1D(50,9,padding='same',input_shape=(50,6),activation=tf.nn.relu,kernel_initializer=\"normal\"),\n",
        "    keras.layers.MaxPooling1D(7),\n",
        "    keras.layers.Conv1D(100,7,padding='same',activation=tf.nn.relu,kernel_initializer='normal'),\n",
        "    keras.layers.GlobalMaxPooling1D(),\n",
        "    keras.layers.Dense(25,activation=tf.nn.relu, kernel_initializer=\"normal\"),\n",
        "    keras.layers.Dense(2)\n",
        "    \n",
        "])\n",
        "\n",
        "print(model.summary())"
      ],
      "metadata": {
        "colab": {
          "base_uri": "https://localhost:8080/"
        },
        "id": "MSsIt1q-Hauo",
        "outputId": "0615e966-b121-4c51-8059-05aadad5f118"
      },
      "execution_count": 66,
      "outputs": [
        {
          "output_type": "stream",
          "name": "stdout",
          "text": [
            "Model: \"sequential_1\"\n",
            "_________________________________________________________________\n",
            " Layer (type)                Output Shape              Param #   \n",
            "=================================================================\n",
            " conv1d_10 (Conv1D)          (None, 50, 50)            2750      \n",
            "                                                                 \n",
            " max_pooling1d_5 (MaxPooling  (None, 7, 50)            0         \n",
            " 1D)                                                             \n",
            "                                                                 \n",
            " conv1d_11 (Conv1D)          (None, 7, 100)            35100     \n",
            "                                                                 \n",
            " global_max_pooling1d_4 (Glo  (None, 100)              0         \n",
            " balMaxPooling1D)                                                \n",
            "                                                                 \n",
            " dense_3 (Dense)             (None, 25)                2525      \n",
            "                                                                 \n",
            " dense_4 (Dense)             (None, 2)                 52        \n",
            "                                                                 \n",
            "=================================================================\n",
            "Total params: 40,427\n",
            "Trainable params: 40,427\n",
            "Non-trainable params: 0\n",
            "_________________________________________________________________\n",
            "None\n"
          ]
        }
      ]
    },
    {
      "cell_type": "code",
      "source": [
        "model.compile(optimizer=\"adam\",loss=\"mse\",metrics=[\"mae\"])"
      ],
      "metadata": {
        "id": "3yXR_s4LHf7I"
      },
      "execution_count": 67,
      "outputs": []
    },
    {
      "cell_type": "code",
      "source": [
        "history=model.fit(X_train,y_train,batch_size=30,epochs=10,validation_split=0.2,shuffle=True,verbose=1)"
      ],
      "metadata": {
        "colab": {
          "base_uri": "https://localhost:8080/"
        },
        "id": "f9ZG_BZxIirS",
        "outputId": "4bd7c223-3702-4475-c72d-a68ef77dd586"
      },
      "execution_count": 68,
      "outputs": [
        {
          "output_type": "stream",
          "name": "stdout",
          "text": [
            "Epoch 1/10\n",
            "5999/5999 [==============================] - 55s 9ms/step - loss: 9.7340e-05 - mae: 0.0052 - val_loss: 3.2956e-05 - val_mae: 0.0032\n",
            "Epoch 2/10\n",
            "5999/5999 [==============================] - 50s 8ms/step - loss: 5.6593e-05 - mae: 0.0043 - val_loss: 3.1730e-05 - val_mae: 0.0031\n",
            "Epoch 3/10\n",
            "5999/5999 [==============================] - 44s 7ms/step - loss: 5.4356e-05 - mae: 0.0041 - val_loss: 3.0990e-05 - val_mae: 0.0029\n",
            "Epoch 4/10\n",
            "5999/5999 [==============================] - 54s 9ms/step - loss: 5.3072e-05 - mae: 0.0040 - val_loss: 3.5275e-05 - val_mae: 0.0036\n",
            "Epoch 5/10\n",
            "5999/5999 [==============================] - 53s 9ms/step - loss: 5.2827e-05 - mae: 0.0039 - val_loss: 3.0976e-05 - val_mae: 0.0031\n",
            "Epoch 6/10\n",
            "5999/5999 [==============================] - 53s 9ms/step - loss: 5.2210e-05 - mae: 0.0039 - val_loss: 3.4928e-05 - val_mae: 0.0034\n",
            "Epoch 7/10\n",
            "5999/5999 [==============================] - 55s 9ms/step - loss: 5.1681e-05 - mae: 0.0039 - val_loss: 3.2409e-05 - val_mae: 0.0034\n",
            "Epoch 8/10\n",
            "5999/5999 [==============================] - 52s 9ms/step - loss: 5.1264e-05 - mae: 0.0039 - val_loss: 3.1447e-05 - val_mae: 0.0031\n",
            "Epoch 9/10\n",
            "5999/5999 [==============================] - 59s 10ms/step - loss: 5.0887e-05 - mae: 0.0038 - val_loss: 3.2420e-05 - val_mae: 0.0032\n",
            "Epoch 10/10\n",
            "5999/5999 [==============================] - 47s 8ms/step - loss: 5.0931e-05 - mae: 0.0038 - val_loss: 3.1497e-05 - val_mae: 0.0030\n"
          ]
        }
      ]
    },
    {
      "cell_type": "code",
      "source": [
        "mse,mae=model.evaluate(X_test,y_test,verbose=0)\n",
        "print(\"Mean absolute error : %.3f%%\"%(mae*100))"
      ],
      "metadata": {
        "colab": {
          "base_uri": "https://localhost:8080/"
        },
        "id": "Hxal0PacImrQ",
        "outputId": "407a2930-8d6f-483e-f04f-5ef1233fb0cb"
      },
      "execution_count": 69,
      "outputs": [
        {
          "output_type": "stream",
          "name": "stdout",
          "text": [
            "Mean absolute error : 0.390%\n"
          ]
        }
      ]
    },
    {
      "cell_type": "code",
      "source": [
        "history_dict=history.history\n",
        "\n",
        "mean_absolute_error_values=history_dict['mae']\n",
        "\n",
        "val_mean_absolute_error_values=history_dict['val_mae']\n",
        "\n",
        "epochs=range(1,len(mean_absolute_error_values)+1)\n",
        "plt.figure(num=1,figsize=(15,7))\n",
        "plt.plot(epochs,mean_absolute_error_values,'bo',label='Training acc')\n",
        "plt.plot(epochs,val_mean_absolute_error_values,'b',label='mae acc')\n",
        "plt.xlabel('Epochs')\n",
        "plt.ylabel(\"Mean Absolute Error - mae\")\n",
        "plt.legend()\n",
        "plt.show()"
      ],
      "metadata": {
        "colab": {
          "base_uri": "https://localhost:8080/",
          "height": 343
        },
        "id": "lu9AW4PBLDfU",
        "outputId": "400ada94-ed55-4f12-b01d-07632c5bb482"
      },
      "execution_count": 70,
      "outputs": [
        {
          "output_type": "display_data",
          "data": {
            "text/plain": [
              "<Figure size 1080x504 with 1 Axes>"
            ],
            "image/png": "[encoded data removed]"
          },
          "metadata": {
            "needs_background": "light"
          }
        }
      ]
    },
    {
      "cell_type": "code",
      "source": [
        "pred=model.predict(X_test)"
      ],
      "metadata": {
        "id": "PIux3fmELJVU"
      },
      "execution_count": 71,
      "outputs": []
    },
    {
      "cell_type": "code",
      "source": [
        "plt.style.use('seaborn-darkgrid')\n",
        "plt.ion()\n",
        "fig=plt.figure(figsize=(23,8))\n",
        "axl=fig.add_subplot(111)\n",
        "line1=ax1.plot(y_test[:400,0],label='bid')\n",
        "line2=ax1.plot(pred[:400,0],label='Predicted Bid')\n",
        "line3=ax1.plot(y_test[0:400,1],label='Ask')\n",
        "line4=ax1,plot(pred[:400,1],label='Predicted Ask')\n",
        "\n",
        "plt.title('Predicted Normalized prices',size=18)\n",
        "plt.ylabel('Price',size=14)\n",
        "plt.xlabel('$Ticks$',size=14)\n",
        "plt.legend(loc='upper right')\n",
        "\n",
        "plt.show()"
      ],
      "metadata": {
        "colab": {
          "base_uri": "https://localhost:8080/",
          "height": 477
        },
        "id": "0m9oucBlLSvl",
        "outputId": "13550121-ce8e-4a06-d345-0df80ed9b7cf"
      },
      "execution_count": 72,
      "outputs": [
        {
          "output_type": "error",
          "ename": "NameError",
          "evalue": "ignored",
          "traceback": [
            "\u001b[0;31m---------------------------------------------------------------------------\u001b[0m",
            "\u001b[0;31mNameError\u001b[0m                                 Traceback (most recent call last)",
            "\u001b[0;32m<ipython-input-72-f33608b038ef>\u001b[0m in \u001b[0;36m<module>\u001b[0;34m()\u001b[0m\n\u001b[1;32m      3\u001b[0m \u001b[0mfig\u001b[0m\u001b[0;34m=\u001b[0m\u001b[0mplt\u001b[0m\u001b[0;34m.\u001b[0m\u001b[0mfigure\u001b[0m\u001b[0;34m(\u001b[0m\u001b[0mfigsize\u001b[0m\u001b[0;34m=\u001b[0m\u001b[0;34m(\u001b[0m\u001b[0;36m23\u001b[0m\u001b[0;34m,\u001b[0m\u001b[0;36m8\u001b[0m\u001b[0;34m)\u001b[0m\u001b[0;34m)\u001b[0m\u001b[0;34m\u001b[0m\u001b[0;34m\u001b[0m\u001b[0m\n\u001b[1;32m      4\u001b[0m \u001b[0maxl\u001b[0m\u001b[0;34m=\u001b[0m\u001b[0mfig\u001b[0m\u001b[0;34m.\u001b[0m\u001b[0madd_subplot\u001b[0m\u001b[0;34m(\u001b[0m\u001b[0;36m111\u001b[0m\u001b[0;34m)\u001b[0m\u001b[0;34m\u001b[0m\u001b[0;34m\u001b[0m\u001b[0m\n\u001b[0;32m----> 5\u001b[0;31m \u001b[0mline1\u001b[0m\u001b[0;34m=\u001b[0m\u001b[0max1\u001b[0m\u001b[0;34m.\u001b[0m\u001b[0mplot\u001b[0m\u001b[0;34m(\u001b[0m\u001b[0my_test\u001b[0m\u001b[0;34m[\u001b[0m\u001b[0;34m:\u001b[0m\u001b[0;36m400\u001b[0m\u001b[0;34m,\u001b[0m\u001b[0;36m0\u001b[0m\u001b[0;34m]\u001b[0m\u001b[0;34m,\u001b[0m\u001b[0mlabel\u001b[0m\u001b[0;34m=\u001b[0m\u001b[0;34m'bid'\u001b[0m\u001b[0;34m)\u001b[0m\u001b[0;34m\u001b[0m\u001b[0;34m\u001b[0m\u001b[0m\n\u001b[0m\u001b[1;32m      6\u001b[0m \u001b[0mline2\u001b[0m\u001b[0;34m=\u001b[0m\u001b[0max1\u001b[0m\u001b[0;34m.\u001b[0m\u001b[0mplot\u001b[0m\u001b[0;34m(\u001b[0m\u001b[0mpred\u001b[0m\u001b[0;34m[\u001b[0m\u001b[0;34m:\u001b[0m\u001b[0;36m400\u001b[0m\u001b[0;34m,\u001b[0m\u001b[0;36m0\u001b[0m\u001b[0;34m]\u001b[0m\u001b[0;34m,\u001b[0m\u001b[0mlabel\u001b[0m\u001b[0;34m=\u001b[0m\u001b[0;34m'Predicted Bid'\u001b[0m\u001b[0;34m)\u001b[0m\u001b[0;34m\u001b[0m\u001b[0;34m\u001b[0m\u001b[0m\n\u001b[1;32m      7\u001b[0m \u001b[0mline3\u001b[0m\u001b[0;34m=\u001b[0m\u001b[0max1\u001b[0m\u001b[0;34m.\u001b[0m\u001b[0mplot\u001b[0m\u001b[0;34m(\u001b[0m\u001b[0my_test\u001b[0m\u001b[0;34m[\u001b[0m\u001b[0;36m0\u001b[0m\u001b[0;34m:\u001b[0m\u001b[0;36m400\u001b[0m\u001b[0;34m,\u001b[0m\u001b[0;36m1\u001b[0m\u001b[0;34m]\u001b[0m\u001b[0;34m,\u001b[0m\u001b[0mlabel\u001b[0m\u001b[0;34m=\u001b[0m\u001b[0;34m'Ask'\u001b[0m\u001b[0;34m)\u001b[0m\u001b[0;34m\u001b[0m\u001b[0;34m\u001b[0m\u001b[0m\n",
            "\u001b[0;31mNameError\u001b[0m: name 'ax1' is not defined"
          ]
        },
        {
          "output_type": "display_data",
          "data": {
            "text/plain": [
              "<Figure size 1656x576 with 1 Axes>"
            ],
            "image/png": "[encoded data removed]"
          },
          "metadata": {}
        }
      ]
    },
    {
      "cell_type": "code",
      "source": [
        ""
      ],
      "metadata": {
        "id": "HYAXMs_7LdXi"
      },
      "execution_count": null,
      "outputs": []
    }
  ]
}